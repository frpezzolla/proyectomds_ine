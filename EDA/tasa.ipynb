{
 "cells": [
  {
   "cell_type": "markdown",
   "metadata": {},
   "source": [
    "Cómo comarar una descomposición con otra luego de un outliear. Asumiendo que se tiene una descomposición \"buena\"; DEC2020, podemos ajustar con los dos modelos DEC2024 y DEC2024, y comparar MSE entre ellas, y entre la tasa oficial (no ajustada). Se puede hacer esto para comparar todos los modelos pre y post pandemia, y podemos obtener una base de erores comparando modelos dentro de los mismos periodos."
   ]
  },
  {
   "cell_type": "code",
   "execution_count": 206,
   "metadata": {},
   "outputs": [],
   "source": [
    "import os\n",
    "import pandas as pd\n",
    "import numpy as np\n",
    "import plotly.express as px"
   ]
  },
  {
   "cell_type": "markdown",
   "metadata": {},
   "source": [
    "Será necesario convertir los indices desde tuplas (Año, Trimeste Móvil) a Datetimeindex para indexar."
   ]
  },
  {
   "cell_type": "code",
   "execution_count": 207,
   "metadata": {},
   "outputs": [],
   "source": [
    "from sklearn.metrics import mean_squared_error\n",
    "\n",
    "def compared_series(pre_serie:pd.Series, pos_serie:pd.Series, outlier_start, outlier_end):\n",
    "    \"\"\"\n",
    "\n",
    "    Parametros:\n",
    "    pre_serie: Serie temporal antes del outliear\n",
    "    pos_serie: Serie temporal después del outliear\n",
    "\n",
    "    Las series deben tener el mismo multi indice ej: (Año, Trimestre) y deben estar orderanas de forma descendente. \n",
    "    \"\"\"\n",
    "    mse = mean_squared_error(pre_serie, pos_serie)\n",
    "    mse_pre = mean_squared_error(pre_serie.loc[:outlier_start], pos_serie.loc[:outlier_start])\n",
    "    print(\"MSE Series {pre}: \", mse)\n",
    "    print(\"MSE pre outlier:\", mse_pre)\n",
    "    return mse, mse_pre\n",
    "\n",
    "def mse_seasonality(pre_serie:pd.Series, pos_serie:pd.Series, outlier_start, outlier_end, pre_serie_comp:pd.Series=None, pos_serie_comp:pd.Series=None):\n",
    "    \"\"\"\n",
    "    Parametros:\n",
    "    pre_serie: Serie temporal antes del outliear\n",
    "    pos_serie: Serie temporal después del outliear\n",
    "    pre_serie_comp: Serie temporal comparativa antes del outliear\n",
    "    pos_serie_comp: Serie temporal comparativa después del outliear\n",
    "\n",
    "    Las series deben tener el mismo multi indice ej: (2020, \"Abr- Jun\"), una sola columna y deben estar orderanas de forma descendente. \n",
    "\n",
    "    Returns:\n",
    "    model_diff: MSE de las series pre y pos pandemia menos el MSE encontrado en dos series pre pandemia\n",
    "    pre_mse_comp:\n",
    "    pos_mse_comp:\n",
    "    \"\"\"\n",
    "    if pre_serie_comp is None:\n",
    "        pre_serie_comp = pre_serie\n",
    "    if pos_serie_comp is None:\n",
    "        pos_serie_comp = pos_serie\n",
    "\n",
    "    pos_serie = pos_serie.fillna(pos_serie_comp) # Se reemplaza solo con la serie similar\n",
    "    pos_serie_comp = pos_serie_comp.fillna(pos_serie) # Lo mismo para anular la contribución con lo que resta de la serie similar    \n",
    "    pos_mse_comp = mean_squared_error(pos_serie.loc[outlier_end:], pos_serie_comp.loc[outlier_end:])\n",
    "\n",
    "    pre_serie = pre_serie.fillna(pre_serie_comp).fillna(pos_serie) # Se reemplaza para con la serie similar luego con la serie a comparar para anular la contribución\n",
    "    pre_serie_comp = pre_serie_comp.fillna(pre_serie).fillna(pos_serie) # Lo mismo para anular la contribución con lo que resta de la serie similar\n",
    "    pre_mse_comp = mean_squared_error(pre_serie.loc[:outlier_start], pre_serie_comp.loc[:outlier_start])\n",
    "    pre_mse = mean_squared_error(pre_serie.loc[:outlier_start], pos_serie.loc[:outlier_start])\n",
    "    return pre_mse - pre_mse_comp, pre_mse_comp, pos_mse_comp"
   ]
  },
  {
   "cell_type": "code",
   "execution_count": 208,
   "metadata": {},
   "outputs": [
    {
     "data": {
      "text/html": [
       "<div>\n",
       "<style scoped>\n",
       "    .dataframe tbody tr th:only-of-type {\n",
       "        vertical-align: middle;\n",
       "    }\n",
       "\n",
       "    .dataframe tbody tr th {\n",
       "        vertical-align: top;\n",
       "    }\n",
       "\n",
       "    .dataframe thead tr th {\n",
       "        text-align: left;\n",
       "    }\n",
       "\n",
       "    .dataframe thead tr:last-of-type th {\n",
       "        text-align: right;\n",
       "    }\n",
       "</style>\n",
       "<table border=\"1\" class=\"dataframe\">\n",
       "  <thead>\n",
       "    <tr>\n",
       "      <th></th>\n",
       "      <th>Tasa oficial</th>\n",
       "      <th>Tasa ajustada</th>\n",
       "      <th>Tasa oficial</th>\n",
       "      <th>Tasa ajustada</th>\n",
       "      <th>Tasa oficial</th>\n",
       "      <th>Tasa ajustada</th>\n",
       "      <th>Tasa oficial</th>\n",
       "      <th>Tasa ajustada</th>\n",
       "      <th>Tasa oficial</th>\n",
       "      <th>Tasa ajustada</th>\n",
       "      <th>...</th>\n",
       "      <th>Tasa oficial</th>\n",
       "      <th>Tasa ajustada</th>\n",
       "      <th>Tasa oficial</th>\n",
       "      <th>Tasa ajustada</th>\n",
       "      <th>Tasa oficial</th>\n",
       "      <th>Tasa ajustada</th>\n",
       "      <th>Tasa oficial</th>\n",
       "      <th>Tasa ajustada</th>\n",
       "      <th>Tasa oficial</th>\n",
       "      <th>Tasa ajustada</th>\n",
       "    </tr>\n",
       "    <tr>\n",
       "      <th></th>\n",
       "      <th>NDE2019</th>\n",
       "      <th>NDE2019</th>\n",
       "      <th>DEF2020</th>\n",
       "      <th>DEF2020</th>\n",
       "      <th>EFM2020</th>\n",
       "      <th>EFM2020</th>\n",
       "      <th>FMA2020</th>\n",
       "      <th>FMA2020</th>\n",
       "      <th>MAM2020</th>\n",
       "      <th>MAM2020</th>\n",
       "      <th>...</th>\n",
       "      <th>EFM2024</th>\n",
       "      <th>EFM2024</th>\n",
       "      <th>FMA2024</th>\n",
       "      <th>FMA2024</th>\n",
       "      <th>MAM2024</th>\n",
       "      <th>MAM2024</th>\n",
       "      <th>AMJ2024</th>\n",
       "      <th>AMJ2024</th>\n",
       "      <th>MJJ2024</th>\n",
       "      <th>MJJ2024</th>\n",
       "    </tr>\n",
       "    <tr>\n",
       "      <th>Date</th>\n",
       "      <th></th>\n",
       "      <th></th>\n",
       "      <th></th>\n",
       "      <th></th>\n",
       "      <th></th>\n",
       "      <th></th>\n",
       "      <th></th>\n",
       "      <th></th>\n",
       "      <th></th>\n",
       "      <th></th>\n",
       "      <th></th>\n",
       "      <th></th>\n",
       "      <th></th>\n",
       "      <th></th>\n",
       "      <th></th>\n",
       "      <th></th>\n",
       "      <th></th>\n",
       "      <th></th>\n",
       "      <th></th>\n",
       "      <th></th>\n",
       "      <th></th>\n",
       "    </tr>\n",
       "  </thead>\n",
       "  <tbody>\n",
       "    <tr>\n",
       "      <th>2010-08-01</th>\n",
       "      <td>8.1</td>\n",
       "      <td>7.9</td>\n",
       "      <td>8.124569</td>\n",
       "      <td>7.926932</td>\n",
       "      <td>8.124569</td>\n",
       "      <td>7.925845</td>\n",
       "      <td>8.124569</td>\n",
       "      <td>7.925795</td>\n",
       "      <td>8.124569</td>\n",
       "      <td>7.926</td>\n",
       "      <td>...</td>\n",
       "      <td>8.124569</td>\n",
       "      <td>7.928278</td>\n",
       "      <td>8.124569</td>\n",
       "      <td>7.928196</td>\n",
       "      <td>8.124569</td>\n",
       "      <td>7.928154</td>\n",
       "      <td>8.124569</td>\n",
       "      <td>7.928121</td>\n",
       "      <td>8.124569</td>\n",
       "      <td>7.928104</td>\n",
       "    </tr>\n",
       "    <tr>\n",
       "      <th>2010-09-01</th>\n",
       "      <td>7.8</td>\n",
       "      <td>7.7</td>\n",
       "      <td>7.814697</td>\n",
       "      <td>7.704444</td>\n",
       "      <td>7.814697</td>\n",
       "      <td>7.704655</td>\n",
       "      <td>7.814697</td>\n",
       "      <td>7.706665</td>\n",
       "      <td>7.814697</td>\n",
       "      <td>7.706946</td>\n",
       "      <td>...</td>\n",
       "      <td>7.814697</td>\n",
       "      <td>7.702712</td>\n",
       "      <td>7.814697</td>\n",
       "      <td>7.701814</td>\n",
       "      <td>7.814697</td>\n",
       "      <td>7.702325</td>\n",
       "      <td>7.814697</td>\n",
       "      <td>7.701711</td>\n",
       "      <td>7.814697</td>\n",
       "      <td>7.696071</td>\n",
       "    </tr>\n",
       "    <tr>\n",
       "      <th>2010-10-01</th>\n",
       "      <td>7.2</td>\n",
       "      <td>7.4</td>\n",
       "      <td>7.22505</td>\n",
       "      <td>7.427053</td>\n",
       "      <td>7.22505</td>\n",
       "      <td>7.428384</td>\n",
       "      <td>7.22505</td>\n",
       "      <td>7.426959</td>\n",
       "      <td>7.22505</td>\n",
       "      <td>7.42707</td>\n",
       "      <td>...</td>\n",
       "      <td>7.22505</td>\n",
       "      <td>7.418691</td>\n",
       "      <td>7.22505</td>\n",
       "      <td>7.419761</td>\n",
       "      <td>7.22505</td>\n",
       "      <td>7.418367</td>\n",
       "      <td>7.22505</td>\n",
       "      <td>7.418054</td>\n",
       "      <td>7.22505</td>\n",
       "      <td>7.41353</td>\n",
       "    </tr>\n",
       "    <tr>\n",
       "      <th>2010-11-01</th>\n",
       "      <td>7.2</td>\n",
       "      <td>7.5</td>\n",
       "      <td>7.210129</td>\n",
       "      <td>7.531558</td>\n",
       "      <td>7.210129</td>\n",
       "      <td>7.531692</td>\n",
       "      <td>7.210129</td>\n",
       "      <td>7.533507</td>\n",
       "      <td>7.210129</td>\n",
       "      <td>7.533247</td>\n",
       "      <td>...</td>\n",
       "      <td>7.210129</td>\n",
       "      <td>7.528851</td>\n",
       "      <td>7.210129</td>\n",
       "      <td>7.528725</td>\n",
       "      <td>7.210129</td>\n",
       "      <td>7.52886</td>\n",
       "      <td>7.210129</td>\n",
       "      <td>7.528905</td>\n",
       "      <td>7.210129</td>\n",
       "      <td>7.529803</td>\n",
       "    </tr>\n",
       "    <tr>\n",
       "      <th>2010-12-01</th>\n",
       "      <td>7.4</td>\n",
       "      <td>7.6</td>\n",
       "      <td>7.441762</td>\n",
       "      <td>7.646923</td>\n",
       "      <td>7.441762</td>\n",
       "      <td>7.647194</td>\n",
       "      <td>7.441762</td>\n",
       "      <td>7.6478</td>\n",
       "      <td>7.441762</td>\n",
       "      <td>7.647753</td>\n",
       "      <td>...</td>\n",
       "      <td>7.441762</td>\n",
       "      <td>7.666947</td>\n",
       "      <td>7.441762</td>\n",
       "      <td>7.666545</td>\n",
       "      <td>7.441762</td>\n",
       "      <td>7.667077</td>\n",
       "      <td>7.441762</td>\n",
       "      <td>7.667357</td>\n",
       "      <td>7.441762</td>\n",
       "      <td>7.67283</td>\n",
       "    </tr>\n",
       "    <tr>\n",
       "      <th>...</th>\n",
       "      <td>...</td>\n",
       "      <td>...</td>\n",
       "      <td>...</td>\n",
       "      <td>...</td>\n",
       "      <td>...</td>\n",
       "      <td>...</td>\n",
       "      <td>...</td>\n",
       "      <td>...</td>\n",
       "      <td>...</td>\n",
       "      <td>...</td>\n",
       "      <td>...</td>\n",
       "      <td>...</td>\n",
       "      <td>...</td>\n",
       "      <td>...</td>\n",
       "      <td>...</td>\n",
       "      <td>...</td>\n",
       "      <td>...</td>\n",
       "      <td>...</td>\n",
       "      <td>...</td>\n",
       "      <td>...</td>\n",
       "      <td>...</td>\n",
       "    </tr>\n",
       "    <tr>\n",
       "      <th>2024-02-01</th>\n",
       "      <td>NaN</td>\n",
       "      <td>NaN</td>\n",
       "      <td>NaN</td>\n",
       "      <td>NaN</td>\n",
       "      <td>NaN</td>\n",
       "      <td>NaN</td>\n",
       "      <td>NaN</td>\n",
       "      <td>NaN</td>\n",
       "      <td>NaN</td>\n",
       "      <td>NaN</td>\n",
       "      <td>...</td>\n",
       "      <td>8.677778</td>\n",
       "      <td>8.455696</td>\n",
       "      <td>8.677778</td>\n",
       "      <td>8.448077</td>\n",
       "      <td>8.677778</td>\n",
       "      <td>8.437456</td>\n",
       "      <td>8.677778</td>\n",
       "      <td>8.443967</td>\n",
       "      <td>8.677778</td>\n",
       "      <td>8.446938</td>\n",
       "    </tr>\n",
       "    <tr>\n",
       "      <th>2024-03-01</th>\n",
       "      <td>NaN</td>\n",
       "      <td>NaN</td>\n",
       "      <td>NaN</td>\n",
       "      <td>NaN</td>\n",
       "      <td>NaN</td>\n",
       "      <td>NaN</td>\n",
       "      <td>NaN</td>\n",
       "      <td>NaN</td>\n",
       "      <td>NaN</td>\n",
       "      <td>NaN</td>\n",
       "      <td>...</td>\n",
       "      <td>NaN</td>\n",
       "      <td>NaN</td>\n",
       "      <td>8.523784</td>\n",
       "      <td>8.359039</td>\n",
       "      <td>8.523784</td>\n",
       "      <td>8.34056</td>\n",
       "      <td>8.523784</td>\n",
       "      <td>8.357063</td>\n",
       "      <td>8.523784</td>\n",
       "      <td>8.366389</td>\n",
       "    </tr>\n",
       "    <tr>\n",
       "      <th>2024-04-01</th>\n",
       "      <td>NaN</td>\n",
       "      <td>NaN</td>\n",
       "      <td>NaN</td>\n",
       "      <td>NaN</td>\n",
       "      <td>NaN</td>\n",
       "      <td>NaN</td>\n",
       "      <td>NaN</td>\n",
       "      <td>NaN</td>\n",
       "      <td>NaN</td>\n",
       "      <td>NaN</td>\n",
       "      <td>...</td>\n",
       "      <td>NaN</td>\n",
       "      <td>NaN</td>\n",
       "      <td>NaN</td>\n",
       "      <td>NaN</td>\n",
       "      <td>8.31288</td>\n",
       "      <td>8.224611</td>\n",
       "      <td>8.31288</td>\n",
       "      <td>8.217752</td>\n",
       "      <td>8.31288</td>\n",
       "      <td>8.233445</td>\n",
       "    </tr>\n",
       "    <tr>\n",
       "      <th>2024-05-01</th>\n",
       "      <td>NaN</td>\n",
       "      <td>NaN</td>\n",
       "      <td>NaN</td>\n",
       "      <td>NaN</td>\n",
       "      <td>NaN</td>\n",
       "      <td>NaN</td>\n",
       "      <td>NaN</td>\n",
       "      <td>NaN</td>\n",
       "      <td>NaN</td>\n",
       "      <td>NaN</td>\n",
       "      <td>...</td>\n",
       "      <td>NaN</td>\n",
       "      <td>NaN</td>\n",
       "      <td>NaN</td>\n",
       "      <td>NaN</td>\n",
       "      <td>NaN</td>\n",
       "      <td>NaN</td>\n",
       "      <td>8.348178</td>\n",
       "      <td>8.335832</td>\n",
       "      <td>8.348178</td>\n",
       "      <td>8.362429</td>\n",
       "    </tr>\n",
       "    <tr>\n",
       "      <th>2024-06-01</th>\n",
       "      <td>NaN</td>\n",
       "      <td>NaN</td>\n",
       "      <td>NaN</td>\n",
       "      <td>NaN</td>\n",
       "      <td>NaN</td>\n",
       "      <td>NaN</td>\n",
       "      <td>NaN</td>\n",
       "      <td>NaN</td>\n",
       "      <td>NaN</td>\n",
       "      <td>NaN</td>\n",
       "      <td>...</td>\n",
       "      <td>NaN</td>\n",
       "      <td>NaN</td>\n",
       "      <td>NaN</td>\n",
       "      <td>NaN</td>\n",
       "      <td>NaN</td>\n",
       "      <td>NaN</td>\n",
       "      <td>NaN</td>\n",
       "      <td>NaN</td>\n",
       "      <td>8.684176</td>\n",
       "      <td>8.544946</td>\n",
       "    </tr>\n",
       "  </tbody>\n",
       "</table>\n",
       "<p>167 rows × 110 columns</p>\n",
       "</div>"
      ],
      "text/plain": [
       "           Tasa oficial Tasa ajustada Tasa oficial Tasa ajustada Tasa oficial  \\\n",
       "                NDE2019       NDE2019      DEF2020       DEF2020      EFM2020   \n",
       "Date                                                                            \n",
       "2010-08-01          8.1           7.9     8.124569      7.926932     8.124569   \n",
       "2010-09-01          7.8           7.7     7.814697      7.704444     7.814697   \n",
       "2010-10-01          7.2           7.4      7.22505      7.427053      7.22505   \n",
       "2010-11-01          7.2           7.5     7.210129      7.531558     7.210129   \n",
       "2010-12-01          7.4           7.6     7.441762      7.646923     7.441762   \n",
       "...                 ...           ...          ...           ...          ...   \n",
       "2024-02-01          NaN           NaN          NaN           NaN          NaN   \n",
       "2024-03-01          NaN           NaN          NaN           NaN          NaN   \n",
       "2024-04-01          NaN           NaN          NaN           NaN          NaN   \n",
       "2024-05-01          NaN           NaN          NaN           NaN          NaN   \n",
       "2024-06-01          NaN           NaN          NaN           NaN          NaN   \n",
       "\n",
       "           Tasa ajustada Tasa oficial Tasa ajustada Tasa oficial  \\\n",
       "                 EFM2020      FMA2020       FMA2020      MAM2020   \n",
       "Date                                                               \n",
       "2010-08-01      7.925845     8.124569      7.925795     8.124569   \n",
       "2010-09-01      7.704655     7.814697      7.706665     7.814697   \n",
       "2010-10-01      7.428384      7.22505      7.426959      7.22505   \n",
       "2010-11-01      7.531692     7.210129      7.533507     7.210129   \n",
       "2010-12-01      7.647194     7.441762        7.6478     7.441762   \n",
       "...                  ...          ...           ...          ...   \n",
       "2024-02-01           NaN          NaN           NaN          NaN   \n",
       "2024-03-01           NaN          NaN           NaN          NaN   \n",
       "2024-04-01           NaN          NaN           NaN          NaN   \n",
       "2024-05-01           NaN          NaN           NaN          NaN   \n",
       "2024-06-01           NaN          NaN           NaN          NaN   \n",
       "\n",
       "           Tasa ajustada  ... Tasa oficial Tasa ajustada Tasa oficial  \\\n",
       "                 MAM2020  ...      EFM2024       EFM2024      FMA2024   \n",
       "Date                      ...                                           \n",
       "2010-08-01         7.926  ...     8.124569      7.928278     8.124569   \n",
       "2010-09-01      7.706946  ...     7.814697      7.702712     7.814697   \n",
       "2010-10-01       7.42707  ...      7.22505      7.418691      7.22505   \n",
       "2010-11-01      7.533247  ...     7.210129      7.528851     7.210129   \n",
       "2010-12-01      7.647753  ...     7.441762      7.666947     7.441762   \n",
       "...                  ...  ...          ...           ...          ...   \n",
       "2024-02-01           NaN  ...     8.677778      8.455696     8.677778   \n",
       "2024-03-01           NaN  ...          NaN           NaN     8.523784   \n",
       "2024-04-01           NaN  ...          NaN           NaN          NaN   \n",
       "2024-05-01           NaN  ...          NaN           NaN          NaN   \n",
       "2024-06-01           NaN  ...          NaN           NaN          NaN   \n",
       "\n",
       "           Tasa ajustada Tasa oficial Tasa ajustada Tasa oficial  \\\n",
       "                 FMA2024      MAM2024       MAM2024      AMJ2024   \n",
       "Date                                                               \n",
       "2010-08-01      7.928196     8.124569      7.928154     8.124569   \n",
       "2010-09-01      7.701814     7.814697      7.702325     7.814697   \n",
       "2010-10-01      7.419761      7.22505      7.418367      7.22505   \n",
       "2010-11-01      7.528725     7.210129       7.52886     7.210129   \n",
       "2010-12-01      7.666545     7.441762      7.667077     7.441762   \n",
       "...                  ...          ...           ...          ...   \n",
       "2024-02-01      8.448077     8.677778      8.437456     8.677778   \n",
       "2024-03-01      8.359039     8.523784       8.34056     8.523784   \n",
       "2024-04-01           NaN      8.31288      8.224611      8.31288   \n",
       "2024-05-01           NaN          NaN           NaN     8.348178   \n",
       "2024-06-01           NaN          NaN           NaN          NaN   \n",
       "\n",
       "           Tasa ajustada Tasa oficial Tasa ajustada  \n",
       "                 AMJ2024      MJJ2024       MJJ2024  \n",
       "Date                                                 \n",
       "2010-08-01      7.928121     8.124569      7.928104  \n",
       "2010-09-01      7.701711     7.814697      7.696071  \n",
       "2010-10-01      7.418054      7.22505       7.41353  \n",
       "2010-11-01      7.528905     7.210129      7.529803  \n",
       "2010-12-01      7.667357     7.441762       7.67283  \n",
       "...                  ...          ...           ...  \n",
       "2024-02-01      8.443967     8.677778      8.446938  \n",
       "2024-03-01      8.357063     8.523784      8.366389  \n",
       "2024-04-01      8.217752      8.31288      8.233445  \n",
       "2024-05-01      8.335832     8.348178      8.362429  \n",
       "2024-06-01           NaN     8.684176      8.544946  \n",
       "\n",
       "[167 rows x 110 columns]"
      ]
     },
     "execution_count": 208,
     "metadata": {},
     "output_type": "execute_result"
    }
   ],
   "source": [
    "def date_to_index(data):\n",
    "    df = data.copy()\n",
    "    trim_date = dict(zip(df[(\"Trimestre\",np.nan)].unique(), (np.arange(12,0,-1) - 7)%12+1001)) # Ej: {'Dic - Feb': 1001, 'Nov - Feb': 1012}.  \n",
    "    trim_date = {k:str(v).replace(\"100\",\"0\").replace(\"101\",\"1\") for k,v in trim_date.items()} # Anteriormente se sumo 1000 para anteponer un 0 al número, luego de convertido a string.\n",
    "    df[(\"Trimestre\",np.nan)] = df[(\"Trimestre\",np.nan)].apply(lambda trim: trim_date[trim])\n",
    "    df[(\"Trimestre\", np.nan)]\n",
    "    df[\"Date\"] = df[[\"Año\", \"Trimestre\"]].agg(lambda row: \"-\".join(row.astype(\"string\")) + \"-01\", axis=1)\n",
    "    df[\"Date\"] = pd.to_datetime(df[\"Date\"], format=\"%Y-%m-%d\")\n",
    "    df.index = df[\"Date\"]\n",
    "    df.drop(columns=[(\"Año\",np.nan), (\"Trimestre\",np.nan), (\"Date\",\"\")], inplace=True)\n",
    "    df.sort_index(inplace=True)\n",
    "    \n",
    "    return df\n",
    "\n",
    "data = pd.read_excel(io=\"../data/ine/ajuste_estacional_historico.xlsx\", sheet_name=\"tasa_as\")\n",
    "data = data.loc[3:172]\n",
    "data.columns= pd.MultiIndex.from_arrays(data.iloc[0:2].to_numpy())\n",
    "data = data.loc[6:].reset_index(drop=True)\n",
    "data = date_to_index(data=data)\n",
    "data"
   ]
  },
  {
   "cell_type": "code",
   "execution_count": 209,
   "metadata": {},
   "outputs": [
    {
     "data": {
      "text/plain": [
       "Date\n",
       "2023-05-01    NaN\n",
       "2023-06-01    NaN\n",
       "2023-07-01    NaN\n",
       "Name: (Tasa ajustada, NDE2019), dtype: object"
      ]
     },
     "execution_count": 209,
     "metadata": {},
     "output_type": "execute_result"
    }
   ],
   "source": [
    "data.loc[:,(\"Tasa ajustada\", \"NDE2019\")].loc[\"2023-05-01\":\"2023-07-01\"]"
   ]
  },
  {
   "cell_type": "code",
   "execution_count": 210,
   "metadata": {},
   "outputs": [
    {
     "name": "stderr",
     "output_type": "stream",
     "text": [
      "C:\\Users\\aurib\\AppData\\Local\\Temp\\ipykernel_59716\\278034726.py:38: FutureWarning: Downcasting object dtype arrays on .fillna, .ffill, .bfill is deprecated and will change in a future version. Call result.infer_objects(copy=False) instead. To opt-in to the future behavior, set `pd.set_option('future.no_silent_downcasting', True)`\n",
      "  pos_serie = pos_serie.fillna(pos_serie_comp) # Se reemplaza solo con la serie similar\n",
      "C:\\Users\\aurib\\AppData\\Local\\Temp\\ipykernel_59716\\278034726.py:39: FutureWarning: Downcasting object dtype arrays on .fillna, .ffill, .bfill is deprecated and will change in a future version. Call result.infer_objects(copy=False) instead. To opt-in to the future behavior, set `pd.set_option('future.no_silent_downcasting', True)`\n",
      "  pos_serie_comp = pos_serie_comp.fillna(pos_serie) # Lo mismo para anular la contribución con lo que resta de la serie similar\n",
      "C:\\Users\\aurib\\AppData\\Local\\Temp\\ipykernel_59716\\278034726.py:42: FutureWarning: Downcasting object dtype arrays on .fillna, .ffill, .bfill is deprecated and will change in a future version. Call result.infer_objects(copy=False) instead. To opt-in to the future behavior, set `pd.set_option('future.no_silent_downcasting', True)`\n",
      "  pre_serie = pre_serie.fillna(pre_serie_comp).fillna(pos_serie) # Se reemplaza para con la serie similar luego con la serie a comparar para anular la contribución\n",
      "C:\\Users\\aurib\\AppData\\Local\\Temp\\ipykernel_59716\\278034726.py:43: FutureWarning: Downcasting object dtype arrays on .fillna, .ffill, .bfill is deprecated and will change in a future version. Call result.infer_objects(copy=False) instead. To opt-in to the future behavior, set `pd.set_option('future.no_silent_downcasting', True)`\n",
      "  pre_serie_comp = pre_serie_comp.fillna(pre_serie).fillna(pos_serie) # Lo mismo para anular la contribución con lo que resta de la serie similar\n"
     ]
    }
   ],
   "source": [
    "diff, premse, posmse = mse_seasonality(\n",
    "    pre_serie=data[(\"Tasa ajustada\", \"NDE2019\")],\n",
    "    pos_serie=data[(\"Tasa ajustada\", \"MJJ2024\")],\n",
    "    pre_serie_comp=data[(\"Tasa ajustada\", \"EFM2020\")],\n",
    "    pos_serie_comp=data[(\"Tasa ajustada\", \"MJJ2023\")],\n",
    "    outlier_start=\"2020-03-01\", outlier_end=\"2022-03-01\"\n",
    "    )"
   ]
  },
  {
   "cell_type": "code",
   "execution_count": 211,
   "metadata": {},
   "outputs": [
    {
     "name": "stdout",
     "output_type": "stream",
     "text": [
      "diferencia:  0.00019251550376636509\n",
      "MSE previo al outlier 0.001112485417431904\n",
      "MSE posterior al outlier 0.0026937396441335027\n"
     ]
    }
   ],
   "source": [
    "print(\"diferencia: \", diff)\n",
    "print(\"MSE previo al outlier\", premse)\n",
    "print(\"MSE posterior al outlier\", posmse)"
   ]
  },
  {
   "cell_type": "code",
   "execution_count": 221,
   "metadata": {},
   "outputs": [
    {
     "data": {
      "application/vnd.plotly.v1+json": {
       "config": {
        "plotlyServerURL": "https://plot.ly"
       },
       "data": [
        {
         "hovertemplate": "variable=Tasa oficial DEF2020<br>Date=%{x}<br>value=%{y}<extra></extra>",
         "legendgroup": "Tasa oficial DEF2020",
         "line": {
          "color": "#636efa",
          "dash": "solid"
         },
         "marker": {
          "symbol": "circle"
         },
         "mode": "lines+markers",
         "name": "Tasa oficial DEF2020",
         "orientation": "v",
         "showlegend": true,
         "type": "scatter",
         "x": [
          "2010-08-01T00:00:00",
          "2010-09-01T00:00:00",
          "2010-10-01T00:00:00",
          "2010-11-01T00:00:00",
          "2010-12-01T00:00:00",
          "2011-01-01T00:00:00",
          "2011-02-01T00:00:00",
          "2011-03-01T00:00:00",
          "2011-04-01T00:00:00",
          "2011-05-01T00:00:00",
          "2011-06-01T00:00:00",
          "2011-07-01T00:00:00",
          "2011-08-01T00:00:00",
          "2011-09-01T00:00:00",
          "2011-10-01T00:00:00",
          "2011-11-01T00:00:00",
          "2011-12-01T00:00:00",
          "2012-01-01T00:00:00",
          "2012-02-01T00:00:00",
          "2012-03-01T00:00:00",
          "2012-04-01T00:00:00",
          "2012-05-01T00:00:00",
          "2012-06-01T00:00:00",
          "2012-07-01T00:00:00",
          "2012-08-01T00:00:00",
          "2012-09-01T00:00:00",
          "2012-10-01T00:00:00",
          "2012-11-01T00:00:00",
          "2012-12-01T00:00:00",
          "2013-01-01T00:00:00",
          "2013-02-01T00:00:00",
          "2013-03-01T00:00:00",
          "2013-04-01T00:00:00",
          "2013-05-01T00:00:00",
          "2013-06-01T00:00:00",
          "2013-07-01T00:00:00",
          "2013-08-01T00:00:00",
          "2013-09-01T00:00:00",
          "2013-10-01T00:00:00",
          "2013-11-01T00:00:00",
          "2013-12-01T00:00:00",
          "2014-01-01T00:00:00",
          "2014-02-01T00:00:00",
          "2014-03-01T00:00:00",
          "2014-04-01T00:00:00",
          "2014-05-01T00:00:00",
          "2014-06-01T00:00:00",
          "2014-07-01T00:00:00",
          "2014-08-01T00:00:00",
          "2014-09-01T00:00:00",
          "2014-10-01T00:00:00",
          "2014-11-01T00:00:00",
          "2014-12-01T00:00:00",
          "2015-01-01T00:00:00",
          "2015-02-01T00:00:00",
          "2015-03-01T00:00:00",
          "2015-04-01T00:00:00",
          "2015-05-01T00:00:00",
          "2015-06-01T00:00:00",
          "2015-07-01T00:00:00",
          "2015-08-01T00:00:00",
          "2015-09-01T00:00:00",
          "2015-10-01T00:00:00",
          "2015-11-01T00:00:00",
          "2015-12-01T00:00:00",
          "2016-01-01T00:00:00",
          "2016-02-01T00:00:00",
          "2016-03-01T00:00:00",
          "2016-04-01T00:00:00",
          "2016-05-01T00:00:00",
          "2016-06-01T00:00:00",
          "2016-07-01T00:00:00",
          "2016-08-01T00:00:00",
          "2016-09-01T00:00:00",
          "2016-10-01T00:00:00",
          "2016-11-01T00:00:00",
          "2016-12-01T00:00:00",
          "2017-01-01T00:00:00",
          "2017-02-01T00:00:00",
          "2017-03-01T00:00:00",
          "2017-04-01T00:00:00",
          "2017-05-01T00:00:00",
          "2017-06-01T00:00:00",
          "2017-07-01T00:00:00",
          "2017-08-01T00:00:00",
          "2017-09-01T00:00:00",
          "2017-10-01T00:00:00",
          "2017-11-01T00:00:00",
          "2017-12-01T00:00:00",
          "2018-01-01T00:00:00",
          "2018-02-01T00:00:00",
          "2018-03-01T00:00:00",
          "2018-04-01T00:00:00",
          "2018-05-01T00:00:00",
          "2018-06-01T00:00:00",
          "2018-07-01T00:00:00",
          "2018-08-01T00:00:00",
          "2018-09-01T00:00:00",
          "2018-10-01T00:00:00",
          "2018-11-01T00:00:00",
          "2018-12-01T00:00:00",
          "2019-01-01T00:00:00",
          "2019-02-01T00:00:00",
          "2019-03-01T00:00:00",
          "2019-04-01T00:00:00",
          "2019-05-01T00:00:00",
          "2019-06-01T00:00:00",
          "2019-07-01T00:00:00",
          "2019-08-01T00:00:00",
          "2019-09-01T00:00:00",
          "2019-10-01T00:00:00",
          "2019-11-01T00:00:00",
          "2019-12-01T00:00:00",
          "2020-01-01T00:00:00",
          "2020-02-01T00:00:00",
          "2020-03-01T00:00:00",
          "2020-04-01T00:00:00",
          "2020-05-01T00:00:00",
          "2020-06-01T00:00:00",
          "2020-07-01T00:00:00",
          "2020-08-01T00:00:00",
          "2020-09-01T00:00:00",
          "2020-10-01T00:00:00",
          "2020-11-01T00:00:00",
          "2020-12-01T00:00:00",
          "2021-01-01T00:00:00",
          "2021-02-01T00:00:00",
          "2021-03-01T00:00:00",
          "2021-04-01T00:00:00",
          "2021-05-01T00:00:00",
          "2021-06-01T00:00:00",
          "2021-07-01T00:00:00",
          "2021-08-01T00:00:00",
          "2021-09-01T00:00:00",
          "2021-10-01T00:00:00",
          "2021-11-01T00:00:00",
          "2021-12-01T00:00:00",
          "2022-01-01T00:00:00",
          "2022-02-01T00:00:00",
          "2022-03-01T00:00:00",
          "2022-04-01T00:00:00",
          "2022-05-01T00:00:00",
          "2022-06-01T00:00:00",
          "2022-07-01T00:00:00",
          "2022-08-01T00:00:00",
          "2022-09-01T00:00:00",
          "2022-10-01T00:00:00",
          "2022-11-01T00:00:00",
          "2022-12-01T00:00:00",
          "2023-01-01T00:00:00",
          "2023-02-01T00:00:00",
          "2023-03-01T00:00:00",
          "2023-04-01T00:00:00",
          "2023-05-01T00:00:00",
          "2023-06-01T00:00:00",
          "2023-07-01T00:00:00",
          "2023-08-01T00:00:00",
          "2023-09-01T00:00:00",
          "2023-10-01T00:00:00",
          "2023-11-01T00:00:00",
          "2023-12-01T00:00:00",
          "2024-01-01T00:00:00",
          "2024-02-01T00:00:00",
          "2024-03-01T00:00:00",
          "2024-04-01T00:00:00",
          "2024-05-01T00:00:00",
          "2024-06-01T00:00:00"
         ],
         "xaxis": "x",
         "y": [
          8.12456869233612,
          7.814696708465461,
          7.225050437203959,
          7.21012888909704,
          7.441761718817927,
          7.442769364665203,
          7.548116558096288,
          7.211111860205026,
          7.304763451880469,
          7.212255397048338,
          7.553369301477557,
          7.514649470764547,
          7.6263811757400966,
          7.43669098969825,
          7.33191333689419,
          6.814609667128376,
          6.853915676547034,
          6.528372803742396,
          6.797302896114809,
          6.763674290614616,
          6.941839384225788,
          6.781292194200807,
          6.664966941483431,
          6.538428983206727,
          6.576295394539572,
          6.694933329534634,
          6.3597240604043375,
          6.224655687987225,
          6.119549592693044,
          6.354761938598119,
          6.4261089083845295,
          6.539010041466422,
          6.541235681319833,
          6.260540693535812,
          5.883151980840584,
          5.848962595942402,
          5.860496691363855,
          5.952664425109553,
          5.864836875672645,
          5.781731968928162,
          6.231466599105638,
          6.1846947292971794,
          6.496404147634732,
          6.144147156535242,
          6.324242958052069,
          6.517831912247804,
          6.594121807347129,
          6.826477763132526,
          6.760549925960644,
          6.563670255121826,
          6.214868003332793,
          6.205596819096719,
          6.2266912629249624,
          6.215262370300062,
          6.2288644027974795,
          6.355841486469638,
          6.751508894415142,
          6.670224065765483,
          6.691606113518844,
          6.558502706196559,
          6.543999715351961,
          6.44523895841142,
          6.174822759657495,
          5.870419215473993,
          5.9174359863914585,
          6.046157360995324,
          6.490499064070117,
          6.6052157884768965,
          7.027192121286144,
          7.018020233596609,
          7.267116250290871,
          7.0704324272928405,
          7.030719878138465,
          6.6808261954863575,
          6.40338311521428,
          6.200412730042814,
          6.36937012454881,
          6.771348595673361,
          7.040228949676881,
          7.0779779734201895,
          7.326344790601063,
          7.312519357965468,
          7.216778493990461,
          6.907594671403867,
          6.99529697912191,
          6.984697394799098,
          6.703918721948663,
          6.512653213019955,
          6.825437444571948,
          7.010053212079134,
          7.376087580975546,
          6.993793949154423,
          7.381446495071396,
          7.513714492964603,
          7.853458461105259,
          7.719071107904813,
          7.470290516526306,
          7.411906829906576,
          7.311127502112706,
          7.146463315388816,
          7.1295721723762915,
          7.034277907625181,
          7.236279240290113,
          7.096337741205423,
          7.232280199957606,
          7.253812630322652,
          7.548641079664645,
          7.5718079861492535,
          7.337297339786181,
          7.141079809278539,
          6.960308293894101,
          7.063169087749459,
          7.433001864743219,
          7.810519296830251,
          null,
          null,
          null,
          null,
          null,
          null,
          null,
          null,
          null,
          null,
          null,
          null,
          null,
          null,
          null,
          null,
          null,
          null,
          null,
          null,
          null,
          null,
          null,
          null,
          null,
          null,
          null,
          null,
          null,
          null,
          null,
          null,
          null,
          null,
          null,
          null,
          null,
          null,
          null,
          null,
          null,
          null,
          null,
          null,
          null,
          null,
          null,
          null,
          null,
          null,
          null,
          null,
          null
         ],
         "yaxis": "y"
        },
        {
         "hovertemplate": "variable=Tasa ajustada DEF2020<br>Date=%{x}<br>value=%{y}<extra></extra>",
         "legendgroup": "Tasa ajustada DEF2020",
         "line": {
          "color": "#EF553B",
          "dash": "solid"
         },
         "marker": {
          "symbol": "circle"
         },
         "mode": "lines+markers",
         "name": "Tasa ajustada DEF2020",
         "orientation": "v",
         "showlegend": true,
         "type": "scatter",
         "x": [
          "2010-08-01T00:00:00",
          "2010-09-01T00:00:00",
          "2010-10-01T00:00:00",
          "2010-11-01T00:00:00",
          "2010-12-01T00:00:00",
          "2011-01-01T00:00:00",
          "2011-02-01T00:00:00",
          "2011-03-01T00:00:00",
          "2011-04-01T00:00:00",
          "2011-05-01T00:00:00",
          "2011-06-01T00:00:00",
          "2011-07-01T00:00:00",
          "2011-08-01T00:00:00",
          "2011-09-01T00:00:00",
          "2011-10-01T00:00:00",
          "2011-11-01T00:00:00",
          "2011-12-01T00:00:00",
          "2012-01-01T00:00:00",
          "2012-02-01T00:00:00",
          "2012-03-01T00:00:00",
          "2012-04-01T00:00:00",
          "2012-05-01T00:00:00",
          "2012-06-01T00:00:00",
          "2012-07-01T00:00:00",
          "2012-08-01T00:00:00",
          "2012-09-01T00:00:00",
          "2012-10-01T00:00:00",
          "2012-11-01T00:00:00",
          "2012-12-01T00:00:00",
          "2013-01-01T00:00:00",
          "2013-02-01T00:00:00",
          "2013-03-01T00:00:00",
          "2013-04-01T00:00:00",
          "2013-05-01T00:00:00",
          "2013-06-01T00:00:00",
          "2013-07-01T00:00:00",
          "2013-08-01T00:00:00",
          "2013-09-01T00:00:00",
          "2013-10-01T00:00:00",
          "2013-11-01T00:00:00",
          "2013-12-01T00:00:00",
          "2014-01-01T00:00:00",
          "2014-02-01T00:00:00",
          "2014-03-01T00:00:00",
          "2014-04-01T00:00:00",
          "2014-05-01T00:00:00",
          "2014-06-01T00:00:00",
          "2014-07-01T00:00:00",
          "2014-08-01T00:00:00",
          "2014-09-01T00:00:00",
          "2014-10-01T00:00:00",
          "2014-11-01T00:00:00",
          "2014-12-01T00:00:00",
          "2015-01-01T00:00:00",
          "2015-02-01T00:00:00",
          "2015-03-01T00:00:00",
          "2015-04-01T00:00:00",
          "2015-05-01T00:00:00",
          "2015-06-01T00:00:00",
          "2015-07-01T00:00:00",
          "2015-08-01T00:00:00",
          "2015-09-01T00:00:00",
          "2015-10-01T00:00:00",
          "2015-11-01T00:00:00",
          "2015-12-01T00:00:00",
          "2016-01-01T00:00:00",
          "2016-02-01T00:00:00",
          "2016-03-01T00:00:00",
          "2016-04-01T00:00:00",
          "2016-05-01T00:00:00",
          "2016-06-01T00:00:00",
          "2016-07-01T00:00:00",
          "2016-08-01T00:00:00",
          "2016-09-01T00:00:00",
          "2016-10-01T00:00:00",
          "2016-11-01T00:00:00",
          "2016-12-01T00:00:00",
          "2017-01-01T00:00:00",
          "2017-02-01T00:00:00",
          "2017-03-01T00:00:00",
          "2017-04-01T00:00:00",
          "2017-05-01T00:00:00",
          "2017-06-01T00:00:00",
          "2017-07-01T00:00:00",
          "2017-08-01T00:00:00",
          "2017-09-01T00:00:00",
          "2017-10-01T00:00:00",
          "2017-11-01T00:00:00",
          "2017-12-01T00:00:00",
          "2018-01-01T00:00:00",
          "2018-02-01T00:00:00",
          "2018-03-01T00:00:00",
          "2018-04-01T00:00:00",
          "2018-05-01T00:00:00",
          "2018-06-01T00:00:00",
          "2018-07-01T00:00:00",
          "2018-08-01T00:00:00",
          "2018-09-01T00:00:00",
          "2018-10-01T00:00:00",
          "2018-11-01T00:00:00",
          "2018-12-01T00:00:00",
          "2019-01-01T00:00:00",
          "2019-02-01T00:00:00",
          "2019-03-01T00:00:00",
          "2019-04-01T00:00:00",
          "2019-05-01T00:00:00",
          "2019-06-01T00:00:00",
          "2019-07-01T00:00:00",
          "2019-08-01T00:00:00",
          "2019-09-01T00:00:00",
          "2019-10-01T00:00:00",
          "2019-11-01T00:00:00",
          "2019-12-01T00:00:00",
          "2020-01-01T00:00:00",
          "2020-02-01T00:00:00",
          "2020-03-01T00:00:00",
          "2020-04-01T00:00:00",
          "2020-05-01T00:00:00",
          "2020-06-01T00:00:00",
          "2020-07-01T00:00:00",
          "2020-08-01T00:00:00",
          "2020-09-01T00:00:00",
          "2020-10-01T00:00:00",
          "2020-11-01T00:00:00",
          "2020-12-01T00:00:00",
          "2021-01-01T00:00:00",
          "2021-02-01T00:00:00",
          "2021-03-01T00:00:00",
          "2021-04-01T00:00:00",
          "2021-05-01T00:00:00",
          "2021-06-01T00:00:00",
          "2021-07-01T00:00:00",
          "2021-08-01T00:00:00",
          "2021-09-01T00:00:00",
          "2021-10-01T00:00:00",
          "2021-11-01T00:00:00",
          "2021-12-01T00:00:00",
          "2022-01-01T00:00:00",
          "2022-02-01T00:00:00",
          "2022-03-01T00:00:00",
          "2022-04-01T00:00:00",
          "2022-05-01T00:00:00",
          "2022-06-01T00:00:00",
          "2022-07-01T00:00:00",
          "2022-08-01T00:00:00",
          "2022-09-01T00:00:00",
          "2022-10-01T00:00:00",
          "2022-11-01T00:00:00",
          "2022-12-01T00:00:00",
          "2023-01-01T00:00:00",
          "2023-02-01T00:00:00",
          "2023-03-01T00:00:00",
          "2023-04-01T00:00:00",
          "2023-05-01T00:00:00",
          "2023-06-01T00:00:00",
          "2023-07-01T00:00:00",
          "2023-08-01T00:00:00",
          "2023-09-01T00:00:00",
          "2023-10-01T00:00:00",
          "2023-11-01T00:00:00",
          "2023-12-01T00:00:00",
          "2024-01-01T00:00:00",
          "2024-02-01T00:00:00",
          "2024-03-01T00:00:00",
          "2024-04-01T00:00:00",
          "2024-05-01T00:00:00",
          "2024-06-01T00:00:00"
         ],
         "xaxis": "x",
         "y": [
          7.926931663031279,
          7.704444001172734,
          7.4270529289969955,
          7.53155836497861,
          7.646922651007662,
          7.596651732257362,
          7.472201481645503,
          7.2485861810146615,
          7.088814835350499,
          7.152014005900813,
          7.43024140784774,
          7.430411930176953,
          7.453710477644111,
          7.337491650649454,
          7.547633278700852,
          7.113063009580274,
          7.040775856945255,
          6.655216252928126,
          6.731186459244563,
          6.796246391143458,
          6.724219089256475,
          6.690213762854841,
          6.536501519778959,
          6.449307264215941,
          6.429178972512078,
          6.604850587248332,
          6.554229073405511,
          6.515444621627063,
          6.275445628802875,
          6.498641460825265,
          6.392641229564498,
          6.565990665380528,
          6.332986116789654,
          6.148303522086088,
          5.73872922982449,
          5.743239161513612,
          5.710996382478214,
          5.879552305052408,
          6.05443349714449,
          6.065117969118491,
          6.407538714664753,
          6.341692737548513,
          6.49666536779118,
          6.173115497540611,
          6.1098014728448415,
          6.352228154276447,
          6.386592922719114,
          6.678114638425859,
          6.582179493856434,
          6.49367845283441,
          6.428106018394443,
          6.565540782280877,
          6.4657108021156775,
          6.419692336217652,
          6.22411185760135,
          6.371529310853563,
          6.492043148296014,
          6.465958706129577,
          6.43728196119848,
          6.395006886158591,
          6.364574363333488,
          6.410176014945325,
          6.405924445556196,
          6.243878369740367,
          6.174598636242469,
          6.2495989183461935,
          6.485769488521533,
          6.6274967233353035,
          6.765304425012338,
          6.779544791120042,
          6.946870250461477,
          6.886318673739786,
          6.849316988202024,
          6.688015102361169,
          6.6602457624349425,
          6.629898974593101,
          6.665276164653437,
          6.966920203255592,
          7.003857208583193,
          7.099291708660411,
          7.057029080539927,
          7.067064111203586,
          6.88194400890433,
          6.719702063993624,
          6.833206045566575,
          7.047870349532198,
          6.984277790953167,
          6.970800364582343,
          7.09770560160376,
          7.1739757862501,
          7.288843946946309,
          6.997249592647399,
          7.125554372408051,
          7.264253321964109,
          7.488826433098035,
          7.518053232500301,
          7.310497844653438,
          7.4929019705058515,
          7.612248384907991,
          7.67292866528405,
          7.424902682419495,
          7.148417213528237,
          7.134391755608056,
          7.101175123335385,
          7.007582775912885,
          7.0214377523711295,
          7.207136276524746,
          7.3628822489186545,
          7.202626711892851,
          7.238110619662684,
          7.264352817415415,
          7.562927982707252,
          7.693750014212332,
          7.909270926889193,
          null,
          null,
          null,
          null,
          null,
          null,
          null,
          null,
          null,
          null,
          null,
          null,
          null,
          null,
          null,
          null,
          null,
          null,
          null,
          null,
          null,
          null,
          null,
          null,
          null,
          null,
          null,
          null,
          null,
          null,
          null,
          null,
          null,
          null,
          null,
          null,
          null,
          null,
          null,
          null,
          null,
          null,
          null,
          null,
          null,
          null,
          null,
          null,
          null,
          null,
          null,
          null,
          null
         ],
         "yaxis": "y"
        },
        {
         "hovertemplate": "variable=Tasa oficial DEF2024<br>Date=%{x}<br>value=%{y}<extra></extra>",
         "legendgroup": "Tasa oficial DEF2024",
         "line": {
          "color": "#00cc96",
          "dash": "solid"
         },
         "marker": {
          "symbol": "circle"
         },
         "mode": "lines+markers",
         "name": "Tasa oficial DEF2024",
         "orientation": "v",
         "showlegend": true,
         "type": "scatter",
         "x": [
          "2010-08-01T00:00:00",
          "2010-09-01T00:00:00",
          "2010-10-01T00:00:00",
          "2010-11-01T00:00:00",
          "2010-12-01T00:00:00",
          "2011-01-01T00:00:00",
          "2011-02-01T00:00:00",
          "2011-03-01T00:00:00",
          "2011-04-01T00:00:00",
          "2011-05-01T00:00:00",
          "2011-06-01T00:00:00",
          "2011-07-01T00:00:00",
          "2011-08-01T00:00:00",
          "2011-09-01T00:00:00",
          "2011-10-01T00:00:00",
          "2011-11-01T00:00:00",
          "2011-12-01T00:00:00",
          "2012-01-01T00:00:00",
          "2012-02-01T00:00:00",
          "2012-03-01T00:00:00",
          "2012-04-01T00:00:00",
          "2012-05-01T00:00:00",
          "2012-06-01T00:00:00",
          "2012-07-01T00:00:00",
          "2012-08-01T00:00:00",
          "2012-09-01T00:00:00",
          "2012-10-01T00:00:00",
          "2012-11-01T00:00:00",
          "2012-12-01T00:00:00",
          "2013-01-01T00:00:00",
          "2013-02-01T00:00:00",
          "2013-03-01T00:00:00",
          "2013-04-01T00:00:00",
          "2013-05-01T00:00:00",
          "2013-06-01T00:00:00",
          "2013-07-01T00:00:00",
          "2013-08-01T00:00:00",
          "2013-09-01T00:00:00",
          "2013-10-01T00:00:00",
          "2013-11-01T00:00:00",
          "2013-12-01T00:00:00",
          "2014-01-01T00:00:00",
          "2014-02-01T00:00:00",
          "2014-03-01T00:00:00",
          "2014-04-01T00:00:00",
          "2014-05-01T00:00:00",
          "2014-06-01T00:00:00",
          "2014-07-01T00:00:00",
          "2014-08-01T00:00:00",
          "2014-09-01T00:00:00",
          "2014-10-01T00:00:00",
          "2014-11-01T00:00:00",
          "2014-12-01T00:00:00",
          "2015-01-01T00:00:00",
          "2015-02-01T00:00:00",
          "2015-03-01T00:00:00",
          "2015-04-01T00:00:00",
          "2015-05-01T00:00:00",
          "2015-06-01T00:00:00",
          "2015-07-01T00:00:00",
          "2015-08-01T00:00:00",
          "2015-09-01T00:00:00",
          "2015-10-01T00:00:00",
          "2015-11-01T00:00:00",
          "2015-12-01T00:00:00",
          "2016-01-01T00:00:00",
          "2016-02-01T00:00:00",
          "2016-03-01T00:00:00",
          "2016-04-01T00:00:00",
          "2016-05-01T00:00:00",
          "2016-06-01T00:00:00",
          "2016-07-01T00:00:00",
          "2016-08-01T00:00:00",
          "2016-09-01T00:00:00",
          "2016-10-01T00:00:00",
          "2016-11-01T00:00:00",
          "2016-12-01T00:00:00",
          "2017-01-01T00:00:00",
          "2017-02-01T00:00:00",
          "2017-03-01T00:00:00",
          "2017-04-01T00:00:00",
          "2017-05-01T00:00:00",
          "2017-06-01T00:00:00",
          "2017-07-01T00:00:00",
          "2017-08-01T00:00:00",
          "2017-09-01T00:00:00",
          "2017-10-01T00:00:00",
          "2017-11-01T00:00:00",
          "2017-12-01T00:00:00",
          "2018-01-01T00:00:00",
          "2018-02-01T00:00:00",
          "2018-03-01T00:00:00",
          "2018-04-01T00:00:00",
          "2018-05-01T00:00:00",
          "2018-06-01T00:00:00",
          "2018-07-01T00:00:00",
          "2018-08-01T00:00:00",
          "2018-09-01T00:00:00",
          "2018-10-01T00:00:00",
          "2018-11-01T00:00:00",
          "2018-12-01T00:00:00",
          "2019-01-01T00:00:00",
          "2019-02-01T00:00:00",
          "2019-03-01T00:00:00",
          "2019-04-01T00:00:00",
          "2019-05-01T00:00:00",
          "2019-06-01T00:00:00",
          "2019-07-01T00:00:00",
          "2019-08-01T00:00:00",
          "2019-09-01T00:00:00",
          "2019-10-01T00:00:00",
          "2019-11-01T00:00:00",
          "2019-12-01T00:00:00",
          "2020-01-01T00:00:00",
          "2020-02-01T00:00:00",
          "2020-03-01T00:00:00",
          "2020-04-01T00:00:00",
          "2020-05-01T00:00:00",
          "2020-06-01T00:00:00",
          "2020-07-01T00:00:00",
          "2020-08-01T00:00:00",
          "2020-09-01T00:00:00",
          "2020-10-01T00:00:00",
          "2020-11-01T00:00:00",
          "2020-12-01T00:00:00",
          "2021-01-01T00:00:00",
          "2021-02-01T00:00:00",
          "2021-03-01T00:00:00",
          "2021-04-01T00:00:00",
          "2021-05-01T00:00:00",
          "2021-06-01T00:00:00",
          "2021-07-01T00:00:00",
          "2021-08-01T00:00:00",
          "2021-09-01T00:00:00",
          "2021-10-01T00:00:00",
          "2021-11-01T00:00:00",
          "2021-12-01T00:00:00",
          "2022-01-01T00:00:00",
          "2022-02-01T00:00:00",
          "2022-03-01T00:00:00",
          "2022-04-01T00:00:00",
          "2022-05-01T00:00:00",
          "2022-06-01T00:00:00",
          "2022-07-01T00:00:00",
          "2022-08-01T00:00:00",
          "2022-09-01T00:00:00",
          "2022-10-01T00:00:00",
          "2022-11-01T00:00:00",
          "2022-12-01T00:00:00",
          "2023-01-01T00:00:00",
          "2023-02-01T00:00:00",
          "2023-03-01T00:00:00",
          "2023-04-01T00:00:00",
          "2023-05-01T00:00:00",
          "2023-06-01T00:00:00",
          "2023-07-01T00:00:00",
          "2023-08-01T00:00:00",
          "2023-09-01T00:00:00",
          "2023-10-01T00:00:00",
          "2023-11-01T00:00:00",
          "2023-12-01T00:00:00",
          "2024-01-01T00:00:00",
          "2024-02-01T00:00:00",
          "2024-03-01T00:00:00",
          "2024-04-01T00:00:00",
          "2024-05-01T00:00:00",
          "2024-06-01T00:00:00"
         ],
         "xaxis": "x",
         "y": [
          8.12456869233612,
          7.81469670846547,
          7.22505043720396,
          7.21012888909704,
          7.44176171881792,
          7.44276936466521,
          7.54811655809629,
          7.21111186020504,
          7.30476345188047,
          7.21225539704833,
          7.55336930147756,
          7.51464947076455,
          7.6263811757401,
          7.43669098969824,
          7.3319133368942,
          6.81460966712838,
          6.85391567654705,
          6.52837280374239,
          6.79730289611481,
          6.7636742906146,
          6.94183938422579,
          6.7812921942008,
          6.66496694148344,
          6.53842898320672,
          6.57629539453957,
          6.69493332953463,
          6.35972406040434,
          6.22465568798724,
          6.11954959269305,
          6.35476193859812,
          6.42610890838452,
          6.53901004146644,
          6.54123568131983,
          6.26054069353582,
          5.88315198084059,
          5.8489625959424,
          5.86049669136386,
          5.95266442510956,
          5.86483687567265,
          5.78173196892817,
          6.23146659910563,
          6.18469472929718,
          6.49640414763472,
          6.14414715653525,
          6.32424295805207,
          6.51783191224781,
          6.59412180734712,
          6.82647776313253,
          6.76054992596064,
          6.56367025512183,
          6.2148680033328,
          6.20559681909671,
          6.22669126292496,
          6.21526237030006,
          6.22886440279749,
          6.35584148646963,
          6.75150889441514,
          6.67022406576548,
          6.69160611351885,
          6.55850270619655,
          6.54399971535196,
          6.44523895841142,
          6.17482275965749,
          5.87041921547399,
          5.91743598639147,
          6.04615736099531,
          6.49049906407012,
          6.6052157884769,
          7.02719212128614,
          7.01802023359661,
          7.26711625029086,
          7.07043242729284,
          7.03071987813846,
          6.68082619548636,
          6.40338311521428,
          6.20041273004282,
          6.3693701245488,
          6.77134859567336,
          7.04022894967687,
          7.07797797342019,
          7.32634479060106,
          7.31251935796547,
          7.21677849399046,
          6.90759467140387,
          6.99529697912191,
          6.9846973947991,
          6.70391872194867,
          6.51265321301996,
          6.82543744457195,
          7.01005321207913,
          7.37608758097555,
          6.99379394915442,
          7.38144649507139,
          7.51371449296461,
          7.85345846110525,
          7.71907110790481,
          7.47029051652631,
          7.41190682990658,
          7.31112750211271,
          7.14646331538882,
          7.12957217237629,
          7.03427790762519,
          7.23627924029012,
          7.09633774120543,
          7.23228019995761,
          7.25381263032265,
          7.54864107966464,
          7.57180798614926,
          7.33729733978619,
          7.14107980927854,
          6.96030829389409,
          7.06316908774974,
          7.44307432957889,
          7.81051929683025,
          8.22850909736166,
          9.00185558449115,
          11.2069328334799,
          12.2178596801278,
          13.0912163961439,
          12.907461467072,
          12.3482906833201,
          11.5770387601212,
          10.7580229772555,
          10.2863187490442,
          10.2271608907612,
          10.3045213361839,
          10.3538096642081,
          10.2443671084746,
          10.0373014511912,
          9.49648821704366,
          8.93328920275996,
          8.54756604116357,
          8.40561115529873,
          8.07660050698593,
          7.52764905527409,
          7.18989344789049,
          7.27146481975608,
          7.49852192154088,
          7.79786516887049,
          7.74749317658252,
          7.80397975787498,
          7.8114737505625,
          7.91881154493063,
          7.92939976508672,
          8.04002440663443,
          7.96838059882076,
          7.94882313558742,
          7.86274883081298,
          8.03724430266165,
          8.3676406179058,
          8.80847876093607,
          8.65970887974115,
          8.52473770297142,
          8.52758465277625,
          8.7722140467169,
          8.99565128307727,
          8.9130085719371,
          8.88646907866272,
          8.73241213375601,
          8.47563934747287,
          8.43563107851766,
          8.50425671856263,
          null,
          null,
          null,
          null,
          null
         ],
         "yaxis": "y"
        },
        {
         "hovertemplate": "variable=Tasa ajustada DEF2024<br>Date=%{x}<br>value=%{y}<extra></extra>",
         "legendgroup": "Tasa ajustada DEF2024",
         "line": {
          "color": "#ab63fa",
          "dash": "solid"
         },
         "marker": {
          "symbol": "circle"
         },
         "mode": "lines+markers",
         "name": "Tasa ajustada DEF2024",
         "orientation": "v",
         "showlegend": true,
         "type": "scatter",
         "x": [
          "2010-08-01T00:00:00",
          "2010-09-01T00:00:00",
          "2010-10-01T00:00:00",
          "2010-11-01T00:00:00",
          "2010-12-01T00:00:00",
          "2011-01-01T00:00:00",
          "2011-02-01T00:00:00",
          "2011-03-01T00:00:00",
          "2011-04-01T00:00:00",
          "2011-05-01T00:00:00",
          "2011-06-01T00:00:00",
          "2011-07-01T00:00:00",
          "2011-08-01T00:00:00",
          "2011-09-01T00:00:00",
          "2011-10-01T00:00:00",
          "2011-11-01T00:00:00",
          "2011-12-01T00:00:00",
          "2012-01-01T00:00:00",
          "2012-02-01T00:00:00",
          "2012-03-01T00:00:00",
          "2012-04-01T00:00:00",
          "2012-05-01T00:00:00",
          "2012-06-01T00:00:00",
          "2012-07-01T00:00:00",
          "2012-08-01T00:00:00",
          "2012-09-01T00:00:00",
          "2012-10-01T00:00:00",
          "2012-11-01T00:00:00",
          "2012-12-01T00:00:00",
          "2013-01-01T00:00:00",
          "2013-02-01T00:00:00",
          "2013-03-01T00:00:00",
          "2013-04-01T00:00:00",
          "2013-05-01T00:00:00",
          "2013-06-01T00:00:00",
          "2013-07-01T00:00:00",
          "2013-08-01T00:00:00",
          "2013-09-01T00:00:00",
          "2013-10-01T00:00:00",
          "2013-11-01T00:00:00",
          "2013-12-01T00:00:00",
          "2014-01-01T00:00:00",
          "2014-02-01T00:00:00",
          "2014-03-01T00:00:00",
          "2014-04-01T00:00:00",
          "2014-05-01T00:00:00",
          "2014-06-01T00:00:00",
          "2014-07-01T00:00:00",
          "2014-08-01T00:00:00",
          "2014-09-01T00:00:00",
          "2014-10-01T00:00:00",
          "2014-11-01T00:00:00",
          "2014-12-01T00:00:00",
          "2015-01-01T00:00:00",
          "2015-02-01T00:00:00",
          "2015-03-01T00:00:00",
          "2015-04-01T00:00:00",
          "2015-05-01T00:00:00",
          "2015-06-01T00:00:00",
          "2015-07-01T00:00:00",
          "2015-08-01T00:00:00",
          "2015-09-01T00:00:00",
          "2015-10-01T00:00:00",
          "2015-11-01T00:00:00",
          "2015-12-01T00:00:00",
          "2016-01-01T00:00:00",
          "2016-02-01T00:00:00",
          "2016-03-01T00:00:00",
          "2016-04-01T00:00:00",
          "2016-05-01T00:00:00",
          "2016-06-01T00:00:00",
          "2016-07-01T00:00:00",
          "2016-08-01T00:00:00",
          "2016-09-01T00:00:00",
          "2016-10-01T00:00:00",
          "2016-11-01T00:00:00",
          "2016-12-01T00:00:00",
          "2017-01-01T00:00:00",
          "2017-02-01T00:00:00",
          "2017-03-01T00:00:00",
          "2017-04-01T00:00:00",
          "2017-05-01T00:00:00",
          "2017-06-01T00:00:00",
          "2017-07-01T00:00:00",
          "2017-08-01T00:00:00",
          "2017-09-01T00:00:00",
          "2017-10-01T00:00:00",
          "2017-11-01T00:00:00",
          "2017-12-01T00:00:00",
          "2018-01-01T00:00:00",
          "2018-02-01T00:00:00",
          "2018-03-01T00:00:00",
          "2018-04-01T00:00:00",
          "2018-05-01T00:00:00",
          "2018-06-01T00:00:00",
          "2018-07-01T00:00:00",
          "2018-08-01T00:00:00",
          "2018-09-01T00:00:00",
          "2018-10-01T00:00:00",
          "2018-11-01T00:00:00",
          "2018-12-01T00:00:00",
          "2019-01-01T00:00:00",
          "2019-02-01T00:00:00",
          "2019-03-01T00:00:00",
          "2019-04-01T00:00:00",
          "2019-05-01T00:00:00",
          "2019-06-01T00:00:00",
          "2019-07-01T00:00:00",
          "2019-08-01T00:00:00",
          "2019-09-01T00:00:00",
          "2019-10-01T00:00:00",
          "2019-11-01T00:00:00",
          "2019-12-01T00:00:00",
          "2020-01-01T00:00:00",
          "2020-02-01T00:00:00",
          "2020-03-01T00:00:00",
          "2020-04-01T00:00:00",
          "2020-05-01T00:00:00",
          "2020-06-01T00:00:00",
          "2020-07-01T00:00:00",
          "2020-08-01T00:00:00",
          "2020-09-01T00:00:00",
          "2020-10-01T00:00:00",
          "2020-11-01T00:00:00",
          "2020-12-01T00:00:00",
          "2021-01-01T00:00:00",
          "2021-02-01T00:00:00",
          "2021-03-01T00:00:00",
          "2021-04-01T00:00:00",
          "2021-05-01T00:00:00",
          "2021-06-01T00:00:00",
          "2021-07-01T00:00:00",
          "2021-08-01T00:00:00",
          "2021-09-01T00:00:00",
          "2021-10-01T00:00:00",
          "2021-11-01T00:00:00",
          "2021-12-01T00:00:00",
          "2022-01-01T00:00:00",
          "2022-02-01T00:00:00",
          "2022-03-01T00:00:00",
          "2022-04-01T00:00:00",
          "2022-05-01T00:00:00",
          "2022-06-01T00:00:00",
          "2022-07-01T00:00:00",
          "2022-08-01T00:00:00",
          "2022-09-01T00:00:00",
          "2022-10-01T00:00:00",
          "2022-11-01T00:00:00",
          "2022-12-01T00:00:00",
          "2023-01-01T00:00:00",
          "2023-02-01T00:00:00",
          "2023-03-01T00:00:00",
          "2023-04-01T00:00:00",
          "2023-05-01T00:00:00",
          "2023-06-01T00:00:00",
          "2023-07-01T00:00:00",
          "2023-08-01T00:00:00",
          "2023-09-01T00:00:00",
          "2023-10-01T00:00:00",
          "2023-11-01T00:00:00",
          "2023-12-01T00:00:00",
          "2024-01-01T00:00:00",
          "2024-02-01T00:00:00",
          "2024-03-01T00:00:00",
          "2024-04-01T00:00:00",
          "2024-05-01T00:00:00",
          "2024-06-01T00:00:00"
         ],
         "xaxis": "x",
         "y": [
          7.93140002475893,
          7.6981808242872,
          7.42672985191058,
          7.53049354480527,
          7.66166118680058,
          7.59617007413185,
          7.46508957467806,
          7.25111336202773,
          7.08307696409514,
          7.14847769924517,
          7.43039646314345,
          7.43326888047636,
          7.45801361647274,
          7.33359614433904,
          7.54777629147595,
          7.11298807030172,
          7.0539621643996,
          6.65412552969995,
          6.72221639211706,
          6.8002242006558,
          6.71932941781573,
          6.68635472321663,
          6.53643054811983,
          6.45113890042597,
          6.43392495052843,
          6.60226758185578,
          6.55522066838569,
          6.51571065536106,
          6.28778660634482,
          6.49631074614044,
          6.38049277496831,
          6.56984596817808,
          6.32898328595104,
          6.14378649147053,
          5.73852701148014,
          5.74483876349303,
          5.71531264064119,
          5.87890817248904,
          6.05789752205221,
          6.06599395899792,
          6.42079398032548,
          6.33794303806764,
          6.4808012872191,
          6.17502998017738,
          6.10666110208839,
          6.34728104331243,
          6.3858722807162,
          6.6787390050707,
          6.58871508186112,
          6.49506032026941,
          6.43489065967868,
          6.5661891829063,
          6.47620287250117,
          6.41666309153275,
          6.20511588420776,
          6.37359918101185,
          6.48927052309183,
          6.46154846715847,
          6.43616705733441,
          6.39482424012267,
          6.370836187965,
          6.41641593576302,
          6.41671525056555,
          6.24557906926702,
          6.17973322357348,
          6.24735696619195,
          6.46220776792728,
          6.62828761531378,
          6.76122288252603,
          6.78022306941809,
          6.94232058806572,
          6.88754102880205,
          6.85739093997539,
          6.70002584031415,
          6.67305506262791,
          6.62833126176289,
          6.66433352666381,
          6.96754167396076,
          6.9701526586846,
          7.09761590652942,
          7.04643875499172,
          7.08448649800472,
          6.8749420612714,
          6.72124327275667,
          6.84508106815805,
          7.0666158592222,
          7.00486062786061,
          6.96216281812796,
          7.08715861425168,
          7.17244558862481,
          7.250378640706,
          6.98039448726683,
          7.11100808146231,
          7.30930346372575,
          7.49043879781418,
          7.53049171086982,
          7.33468520564611,
          7.50575651730283,
          7.63191235270054,
          7.64485047670288,
          7.39740789568585,
          7.14633138376001,
          7.08569956405602,
          7.05515901492665,
          6.99671306481175,
          7.0949787070246,
          7.22685012674549,
          7.3888776773397,
          7.2440280027708,
          7.24238290847366,
          7.26670885346623,
          7.51712351784279,
          7.67641040598369,
          7.9041874499523,
          8.01871607517287,
          8.91534582181897,
          10.923962397707,
          12.0012653011383,
          12.5950437960574,
          12.5492817294669,
          12.1470499244232,
          11.6288173582052,
          11.1574512487547,
          10.9108522845952,
          10.6305767622977,
          10.460197693246,
          10.1203056472602,
          10.1075843554123,
          9.81669447223843,
          9.37666391597652,
          8.64524370934484,
          8.32787993658301,
          8.29605529978561,
          8.10103799127385,
          7.78449735442054,
          7.61342110005545,
          7.57389988642499,
          7.61199056159974,
          7.59676148215448,
          7.59372030834509,
          7.64880634106637,
          7.72776866998202,
          7.70761713872658,
          7.75301466456129,
          7.9578528654899,
          7.97987406663462,
          8.19324435544827,
          8.30306504242827,
          8.36765979335406,
          8.48966596933717,
          8.57915419295192,
          8.46905839018557,
          8.37835926547697,
          8.44114535565711,
          8.57593952278567,
          8.82475486926003,
          8.8297331261468,
          8.87579198829877,
          8.97304451764405,
          8.92423737786324,
          8.76673765005962,
          8.63246754338803,
          null,
          null,
          null,
          null,
          null
         ],
         "yaxis": "y"
        }
       ],
       "layout": {
        "legend": {
         "title": {
          "text": "variable"
         },
         "tracegroupgap": 0
        },
        "template": {
         "data": {
          "bar": [
           {
            "error_x": {
             "color": "#2a3f5f"
            },
            "error_y": {
             "color": "#2a3f5f"
            },
            "marker": {
             "line": {
              "color": "#E5ECF6",
              "width": 0.5
             },
             "pattern": {
              "fillmode": "overlay",
              "size": 10,
              "solidity": 0.2
             }
            },
            "type": "bar"
           }
          ],
          "barpolar": [
           {
            "marker": {
             "line": {
              "color": "#E5ECF6",
              "width": 0.5
             },
             "pattern": {
              "fillmode": "overlay",
              "size": 10,
              "solidity": 0.2
             }
            },
            "type": "barpolar"
           }
          ],
          "carpet": [
           {
            "aaxis": {
             "endlinecolor": "#2a3f5f",
             "gridcolor": "white",
             "linecolor": "white",
             "minorgridcolor": "white",
             "startlinecolor": "#2a3f5f"
            },
            "baxis": {
             "endlinecolor": "#2a3f5f",
             "gridcolor": "white",
             "linecolor": "white",
             "minorgridcolor": "white",
             "startlinecolor": "#2a3f5f"
            },
            "type": "carpet"
           }
          ],
          "choropleth": [
           {
            "colorbar": {
             "outlinewidth": 0,
             "ticks": ""
            },
            "type": "choropleth"
           }
          ],
          "contour": [
           {
            "colorbar": {
             "outlinewidth": 0,
             "ticks": ""
            },
            "colorscale": [
             [
              0,
              "#0d0887"
             ],
             [
              0.1111111111111111,
              "#46039f"
             ],
             [
              0.2222222222222222,
              "#7201a8"
             ],
             [
              0.3333333333333333,
              "#9c179e"
             ],
             [
              0.4444444444444444,
              "#bd3786"
             ],
             [
              0.5555555555555556,
              "#d8576b"
             ],
             [
              0.6666666666666666,
              "#ed7953"
             ],
             [
              0.7777777777777778,
              "#fb9f3a"
             ],
             [
              0.8888888888888888,
              "#fdca26"
             ],
             [
              1,
              "#f0f921"
             ]
            ],
            "type": "contour"
           }
          ],
          "contourcarpet": [
           {
            "colorbar": {
             "outlinewidth": 0,
             "ticks": ""
            },
            "type": "contourcarpet"
           }
          ],
          "heatmap": [
           {
            "colorbar": {
             "outlinewidth": 0,
             "ticks": ""
            },
            "colorscale": [
             [
              0,
              "#0d0887"
             ],
             [
              0.1111111111111111,
              "#46039f"
             ],
             [
              0.2222222222222222,
              "#7201a8"
             ],
             [
              0.3333333333333333,
              "#9c179e"
             ],
             [
              0.4444444444444444,
              "#bd3786"
             ],
             [
              0.5555555555555556,
              "#d8576b"
             ],
             [
              0.6666666666666666,
              "#ed7953"
             ],
             [
              0.7777777777777778,
              "#fb9f3a"
             ],
             [
              0.8888888888888888,
              "#fdca26"
             ],
             [
              1,
              "#f0f921"
             ]
            ],
            "type": "heatmap"
           }
          ],
          "heatmapgl": [
           {
            "colorbar": {
             "outlinewidth": 0,
             "ticks": ""
            },
            "colorscale": [
             [
              0,
              "#0d0887"
             ],
             [
              0.1111111111111111,
              "#46039f"
             ],
             [
              0.2222222222222222,
              "#7201a8"
             ],
             [
              0.3333333333333333,
              "#9c179e"
             ],
             [
              0.4444444444444444,
              "#bd3786"
             ],
             [
              0.5555555555555556,
              "#d8576b"
             ],
             [
              0.6666666666666666,
              "#ed7953"
             ],
             [
              0.7777777777777778,
              "#fb9f3a"
             ],
             [
              0.8888888888888888,
              "#fdca26"
             ],
             [
              1,
              "#f0f921"
             ]
            ],
            "type": "heatmapgl"
           }
          ],
          "histogram": [
           {
            "marker": {
             "pattern": {
              "fillmode": "overlay",
              "size": 10,
              "solidity": 0.2
             }
            },
            "type": "histogram"
           }
          ],
          "histogram2d": [
           {
            "colorbar": {
             "outlinewidth": 0,
             "ticks": ""
            },
            "colorscale": [
             [
              0,
              "#0d0887"
             ],
             [
              0.1111111111111111,
              "#46039f"
             ],
             [
              0.2222222222222222,
              "#7201a8"
             ],
             [
              0.3333333333333333,
              "#9c179e"
             ],
             [
              0.4444444444444444,
              "#bd3786"
             ],
             [
              0.5555555555555556,
              "#d8576b"
             ],
             [
              0.6666666666666666,
              "#ed7953"
             ],
             [
              0.7777777777777778,
              "#fb9f3a"
             ],
             [
              0.8888888888888888,
              "#fdca26"
             ],
             [
              1,
              "#f0f921"
             ]
            ],
            "type": "histogram2d"
           }
          ],
          "histogram2dcontour": [
           {
            "colorbar": {
             "outlinewidth": 0,
             "ticks": ""
            },
            "colorscale": [
             [
              0,
              "#0d0887"
             ],
             [
              0.1111111111111111,
              "#46039f"
             ],
             [
              0.2222222222222222,
              "#7201a8"
             ],
             [
              0.3333333333333333,
              "#9c179e"
             ],
             [
              0.4444444444444444,
              "#bd3786"
             ],
             [
              0.5555555555555556,
              "#d8576b"
             ],
             [
              0.6666666666666666,
              "#ed7953"
             ],
             [
              0.7777777777777778,
              "#fb9f3a"
             ],
             [
              0.8888888888888888,
              "#fdca26"
             ],
             [
              1,
              "#f0f921"
             ]
            ],
            "type": "histogram2dcontour"
           }
          ],
          "mesh3d": [
           {
            "colorbar": {
             "outlinewidth": 0,
             "ticks": ""
            },
            "type": "mesh3d"
           }
          ],
          "parcoords": [
           {
            "line": {
             "colorbar": {
              "outlinewidth": 0,
              "ticks": ""
             }
            },
            "type": "parcoords"
           }
          ],
          "pie": [
           {
            "automargin": true,
            "type": "pie"
           }
          ],
          "scatter": [
           {
            "fillpattern": {
             "fillmode": "overlay",
             "size": 10,
             "solidity": 0.2
            },
            "type": "scatter"
           }
          ],
          "scatter3d": [
           {
            "line": {
             "colorbar": {
              "outlinewidth": 0,
              "ticks": ""
             }
            },
            "marker": {
             "colorbar": {
              "outlinewidth": 0,
              "ticks": ""
             }
            },
            "type": "scatter3d"
           }
          ],
          "scattercarpet": [
           {
            "marker": {
             "colorbar": {
              "outlinewidth": 0,
              "ticks": ""
             }
            },
            "type": "scattercarpet"
           }
          ],
          "scattergeo": [
           {
            "marker": {
             "colorbar": {
              "outlinewidth": 0,
              "ticks": ""
             }
            },
            "type": "scattergeo"
           }
          ],
          "scattergl": [
           {
            "marker": {
             "colorbar": {
              "outlinewidth": 0,
              "ticks": ""
             }
            },
            "type": "scattergl"
           }
          ],
          "scattermapbox": [
           {
            "marker": {
             "colorbar": {
              "outlinewidth": 0,
              "ticks": ""
             }
            },
            "type": "scattermapbox"
           }
          ],
          "scatterpolar": [
           {
            "marker": {
             "colorbar": {
              "outlinewidth": 0,
              "ticks": ""
             }
            },
            "type": "scatterpolar"
           }
          ],
          "scatterpolargl": [
           {
            "marker": {
             "colorbar": {
              "outlinewidth": 0,
              "ticks": ""
             }
            },
            "type": "scatterpolargl"
           }
          ],
          "scatterternary": [
           {
            "marker": {
             "colorbar": {
              "outlinewidth": 0,
              "ticks": ""
             }
            },
            "type": "scatterternary"
           }
          ],
          "surface": [
           {
            "colorbar": {
             "outlinewidth": 0,
             "ticks": ""
            },
            "colorscale": [
             [
              0,
              "#0d0887"
             ],
             [
              0.1111111111111111,
              "#46039f"
             ],
             [
              0.2222222222222222,
              "#7201a8"
             ],
             [
              0.3333333333333333,
              "#9c179e"
             ],
             [
              0.4444444444444444,
              "#bd3786"
             ],
             [
              0.5555555555555556,
              "#d8576b"
             ],
             [
              0.6666666666666666,
              "#ed7953"
             ],
             [
              0.7777777777777778,
              "#fb9f3a"
             ],
             [
              0.8888888888888888,
              "#fdca26"
             ],
             [
              1,
              "#f0f921"
             ]
            ],
            "type": "surface"
           }
          ],
          "table": [
           {
            "cells": {
             "fill": {
              "color": "#EBF0F8"
             },
             "line": {
              "color": "white"
             }
            },
            "header": {
             "fill": {
              "color": "#C8D4E3"
             },
             "line": {
              "color": "white"
             }
            },
            "type": "table"
           }
          ]
         },
         "layout": {
          "annotationdefaults": {
           "arrowcolor": "#2a3f5f",
           "arrowhead": 0,
           "arrowwidth": 1
          },
          "autotypenumbers": "strict",
          "coloraxis": {
           "colorbar": {
            "outlinewidth": 0,
            "ticks": ""
           }
          },
          "colorscale": {
           "diverging": [
            [
             0,
             "#8e0152"
            ],
            [
             0.1,
             "#c51b7d"
            ],
            [
             0.2,
             "#de77ae"
            ],
            [
             0.3,
             "#f1b6da"
            ],
            [
             0.4,
             "#fde0ef"
            ],
            [
             0.5,
             "#f7f7f7"
            ],
            [
             0.6,
             "#e6f5d0"
            ],
            [
             0.7,
             "#b8e186"
            ],
            [
             0.8,
             "#7fbc41"
            ],
            [
             0.9,
             "#4d9221"
            ],
            [
             1,
             "#276419"
            ]
           ],
           "sequential": [
            [
             0,
             "#0d0887"
            ],
            [
             0.1111111111111111,
             "#46039f"
            ],
            [
             0.2222222222222222,
             "#7201a8"
            ],
            [
             0.3333333333333333,
             "#9c179e"
            ],
            [
             0.4444444444444444,
             "#bd3786"
            ],
            [
             0.5555555555555556,
             "#d8576b"
            ],
            [
             0.6666666666666666,
             "#ed7953"
            ],
            [
             0.7777777777777778,
             "#fb9f3a"
            ],
            [
             0.8888888888888888,
             "#fdca26"
            ],
            [
             1,
             "#f0f921"
            ]
           ],
           "sequentialminus": [
            [
             0,
             "#0d0887"
            ],
            [
             0.1111111111111111,
             "#46039f"
            ],
            [
             0.2222222222222222,
             "#7201a8"
            ],
            [
             0.3333333333333333,
             "#9c179e"
            ],
            [
             0.4444444444444444,
             "#bd3786"
            ],
            [
             0.5555555555555556,
             "#d8576b"
            ],
            [
             0.6666666666666666,
             "#ed7953"
            ],
            [
             0.7777777777777778,
             "#fb9f3a"
            ],
            [
             0.8888888888888888,
             "#fdca26"
            ],
            [
             1,
             "#f0f921"
            ]
           ]
          },
          "colorway": [
           "#636efa",
           "#EF553B",
           "#00cc96",
           "#ab63fa",
           "#FFA15A",
           "#19d3f3",
           "#FF6692",
           "#B6E880",
           "#FF97FF",
           "#FECB52"
          ],
          "font": {
           "color": "#2a3f5f"
          },
          "geo": {
           "bgcolor": "white",
           "lakecolor": "white",
           "landcolor": "#E5ECF6",
           "showlakes": true,
           "showland": true,
           "subunitcolor": "white"
          },
          "hoverlabel": {
           "align": "left"
          },
          "hovermode": "closest",
          "mapbox": {
           "style": "light"
          },
          "paper_bgcolor": "white",
          "plot_bgcolor": "#E5ECF6",
          "polar": {
           "angularaxis": {
            "gridcolor": "white",
            "linecolor": "white",
            "ticks": ""
           },
           "bgcolor": "#E5ECF6",
           "radialaxis": {
            "gridcolor": "white",
            "linecolor": "white",
            "ticks": ""
           }
          },
          "scene": {
           "xaxis": {
            "backgroundcolor": "#E5ECF6",
            "gridcolor": "white",
            "gridwidth": 2,
            "linecolor": "white",
            "showbackground": true,
            "ticks": "",
            "zerolinecolor": "white"
           },
           "yaxis": {
            "backgroundcolor": "#E5ECF6",
            "gridcolor": "white",
            "gridwidth": 2,
            "linecolor": "white",
            "showbackground": true,
            "ticks": "",
            "zerolinecolor": "white"
           },
           "zaxis": {
            "backgroundcolor": "#E5ECF6",
            "gridcolor": "white",
            "gridwidth": 2,
            "linecolor": "white",
            "showbackground": true,
            "ticks": "",
            "zerolinecolor": "white"
           }
          },
          "shapedefaults": {
           "line": {
            "color": "#2a3f5f"
           }
          },
          "ternary": {
           "aaxis": {
            "gridcolor": "white",
            "linecolor": "white",
            "ticks": ""
           },
           "baxis": {
            "gridcolor": "white",
            "linecolor": "white",
            "ticks": ""
           },
           "bgcolor": "#E5ECF6",
           "caxis": {
            "gridcolor": "white",
            "linecolor": "white",
            "ticks": ""
           }
          },
          "title": {
           "x": 0.05
          },
          "xaxis": {
           "automargin": true,
           "gridcolor": "white",
           "linecolor": "white",
           "ticks": "",
           "title": {
            "standoff": 15
           },
           "zerolinecolor": "white",
           "zerolinewidth": 2
          },
          "yaxis": {
           "automargin": true,
           "gridcolor": "white",
           "linecolor": "white",
           "ticks": "",
           "title": {
            "standoff": 15
           },
           "zerolinecolor": "white",
           "zerolinewidth": 2
          }
         }
        },
        "title": {
         "text": "Tasa de desocupación y sus ajustes estacionales según DEF2020 y DEF2024"
        },
        "xaxis": {
         "anchor": "y",
         "domain": [
          0,
          1
         ],
         "title": {
          "text": "Date"
         }
        },
        "yaxis": {
         "anchor": "x",
         "domain": [
          0,
          1
         ],
         "title": {
          "text": "value"
         }
        }
       }
      }
     },
     "metadata": {},
     "output_type": "display_data"
    }
   ],
   "source": [
    "pdata = data.copy()\n",
    "pdata.columns = pd.Index(map(str.strip, pdata.columns.get_level_values(0) + \" \" + pdata.columns.get_level_values(1)))\n",
    "fig = px.line(pdata, y=[\"Tasa oficial DEF2020\",  \"Tasa ajustada DEF2020\", \"Tasa oficial DEF2024\", \"Tasa ajustada DEF2024\"], \n",
    "              title=\"Tasa de desocupación y sus ajustes estacionales según DEF2020 y DEF2024\",\n",
    "              markers=True)\n",
    "fig"
   ]
  },
  {
   "cell_type": "code",
   "execution_count": null,
   "metadata": {},
   "outputs": [],
   "source": [
    "from statsmodels.tsa.x13 import x13_arima_analysis as x13\n",
    "\n",
    "x13(endog=data.loc[:,(\"Tasa oficial\", \"DEF2024\")])\n",
    "\n",
    "\n"
   ]
  }
 ],
 "metadata": {
  "kernelspec": {
   "display_name": ".venv",
   "language": "python",
   "name": "python3"
  },
  "language_info": {
   "codemirror_mode": {
    "name": "ipython",
    "version": 3
   },
   "file_extension": ".py",
   "mimetype": "text/x-python",
   "name": "python",
   "nbconvert_exporter": "python",
   "pygments_lexer": "ipython3",
   "version": "3.10.11"
  }
 },
 "nbformat": 4,
 "nbformat_minor": 2
}
