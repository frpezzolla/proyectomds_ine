{
 "cells": [
  {
   "cell_type": "markdown",
   "metadata": {},
   "source": [
    "Cómo comarar una descomposición con otra luego de un outliear. Asumiendo que se tiene una descomposición \"buena\"; DEC2020, podemos ajustar con los dos modelos DEC2024 y DEC2024, y comparar MSE entre ellas, y entre la tasa oficial (no ajustada). Se puede hacer esto para comparar todos los modelos pre y post pandemia, y podemos obtener una base de erores comparando modelos dentro de los mismos periodos."
   ]
  },
  {
   "cell_type": "code",
   "execution_count": 85,
   "metadata": {},
   "outputs": [],
   "source": [
    "import os\n",
    "import pandas as pd\n",
    "import numpy as np\n",
    "import plotly.express as px"
   ]
  },
  {
   "cell_type": "markdown",
   "metadata": {},
   "source": [
    "Será necesario convertir los indices desde tuplas (Año, Trimeste Móvil) a Datetimeindex para indexar."
   ]
  },
  {
   "cell_type": "code",
   "execution_count": 86,
   "metadata": {},
   "outputs": [],
   "source": [
    "from sklearn.metrics import mean_squared_error\n",
    "\n",
    "def compared_series(pre_serie:pd.Series, pos_serie:pd.Series, outlier_start, outlier_end):\n",
    "    \"\"\"\n",
    "\n",
    "    Parametros:\n",
    "    pre_serie: Serie temporal antes del outliear\n",
    "    pos_serie: Serie temporal después del outliear\n",
    "\n",
    "    Las series deben tener el mismo multi indice ej: (Año, Trimestre) y deben estar orderanas de forma descendente. \n",
    "    \"\"\"\n",
    "    mse = mean_squared_error(pre_serie, pos_serie)\n",
    "    mse_pre = mean_squared_error(pre_serie.loc[:outlier_start], pos_serie.loc[:outlier_start])\n",
    "    print(\"MSE Series {pre}: \", mse)\n",
    "    print(\"MSE pre outlier:\", mse_pre)\n",
    "    return mse, mse_pre\n",
    "\n",
    "def mse_seasonality(pre_serie:pd.Series, pos_serie:pd.Series, outlier_start, outlier_end, pre_serie_comp:pd.Series=None, pos_serie_comp:pd.Series=None):\n",
    "    \"\"\"\n",
    "    Parametros:\n",
    "    pre_serie: Serie temporal antes del outliear\n",
    "    pos_serie: Serie temporal después del outliear\n",
    "    pre_serie_comp: Serie temporal comparativa antes del outliear\n",
    "    pos_serie_comp: Serie temporal comparativa después del outliear\n",
    "\n",
    "    Las series deben tener el mismo multi indice ej: (2020, \"Abr- Jun\"), una sola columna y deben estar orderanas de forma descendente. \n",
    "\n",
    "    Returns:\n",
    "    model_diff: MSE de las series pre y pos pandemia menos el MSE encontrado en dos series pre pandemia\n",
    "    pre_mse_comp:\n",
    "    pos_mse_comp:\n",
    "    \"\"\"\n",
    "    if pre_serie_comp is None:\n",
    "        pre_serie_comp = pre_serie\n",
    "    if pos_serie_comp is None:\n",
    "        pos_serie_comp = pos_serie\n",
    "\n",
    "    pos_serie = pos_serie.fillna(pos_serie_comp) # Se reemplaza solo con la serie similar\n",
    "    pos_serie_comp = pos_serie_comp.fillna(pos_serie) # Lo mismo para anular la contribución con lo que resta de la serie similar    \n",
    "    pos_mse_comp = mean_squared_error(pos_serie.loc[outlier_end:], pos_serie_comp.loc[outlier_end:])\n",
    "\n",
    "    pre_serie = pre_serie.fillna(pre_serie_comp).fillna(pos_serie) # Se reemplaza para con la serie similar luego con la serie a comparar para anular la contribución\n",
    "    pre_serie_comp = pre_serie_comp.fillna(pre_serie).fillna(pos_serie) # Lo mismo para anular la contribución con lo que resta de la serie similar\n",
    "    pre_mse_comp = mean_squared_error(pre_serie.loc[:outlier_start], pre_serie_comp.loc[:outlier_start])\n",
    "    pre_mse = mean_squared_error(pre_serie.loc[:outlier_start], pos_serie.loc[:outlier_start])\n",
    "    return pre_mse/pre_mse_comp, pre_mse_comp, pos_mse_comp"
   ]
  },
  {
   "cell_type": "code",
   "execution_count": 87,
   "metadata": {},
   "outputs": [
    {
     "data": {
      "text/html": [
       "<div>\n",
       "<style scoped>\n",
       "    .dataframe tbody tr th:only-of-type {\n",
       "        vertical-align: middle;\n",
       "    }\n",
       "\n",
       "    .dataframe tbody tr th {\n",
       "        vertical-align: top;\n",
       "    }\n",
       "\n",
       "    .dataframe thead tr th {\n",
       "        text-align: left;\n",
       "    }\n",
       "\n",
       "    .dataframe thead tr:last-of-type th {\n",
       "        text-align: right;\n",
       "    }\n",
       "</style>\n",
       "<table border=\"1\" class=\"dataframe\">\n",
       "  <thead>\n",
       "    <tr>\n",
       "      <th></th>\n",
       "      <th>Tasa oficial</th>\n",
       "      <th>Tasa ajustada</th>\n",
       "      <th>Tasa oficial</th>\n",
       "      <th>Tasa ajustada</th>\n",
       "      <th>Tasa oficial</th>\n",
       "      <th>Tasa ajustada</th>\n",
       "      <th>Tasa oficial</th>\n",
       "      <th>Tasa ajustada</th>\n",
       "      <th>Tasa oficial</th>\n",
       "      <th>Tasa ajustada</th>\n",
       "      <th>...</th>\n",
       "      <th>Tasa oficial</th>\n",
       "      <th>Tasa ajustada</th>\n",
       "      <th>Tasa oficial</th>\n",
       "      <th>Tasa ajustada</th>\n",
       "      <th>Tasa oficial</th>\n",
       "      <th>Tasa ajustada</th>\n",
       "      <th>Tasa oficial</th>\n",
       "      <th>Tasa ajustada</th>\n",
       "      <th>Tasa oficial</th>\n",
       "      <th>Tasa ajustada</th>\n",
       "    </tr>\n",
       "    <tr>\n",
       "      <th></th>\n",
       "      <th>NDE2019</th>\n",
       "      <th>NDE2019</th>\n",
       "      <th>DEF2020</th>\n",
       "      <th>DEF2020</th>\n",
       "      <th>EFM2020</th>\n",
       "      <th>EFM2020</th>\n",
       "      <th>FMA2020</th>\n",
       "      <th>FMA2020</th>\n",
       "      <th>MAM2020</th>\n",
       "      <th>MAM2020</th>\n",
       "      <th>...</th>\n",
       "      <th>EFM2024</th>\n",
       "      <th>EFM2024</th>\n",
       "      <th>FMA2024</th>\n",
       "      <th>FMA2024</th>\n",
       "      <th>MAM2024</th>\n",
       "      <th>MAM2024</th>\n",
       "      <th>AMJ2024</th>\n",
       "      <th>AMJ2024</th>\n",
       "      <th>MJJ2024</th>\n",
       "      <th>MJJ2024</th>\n",
       "    </tr>\n",
       "    <tr>\n",
       "      <th>Date</th>\n",
       "      <th></th>\n",
       "      <th></th>\n",
       "      <th></th>\n",
       "      <th></th>\n",
       "      <th></th>\n",
       "      <th></th>\n",
       "      <th></th>\n",
       "      <th></th>\n",
       "      <th></th>\n",
       "      <th></th>\n",
       "      <th></th>\n",
       "      <th></th>\n",
       "      <th></th>\n",
       "      <th></th>\n",
       "      <th></th>\n",
       "      <th></th>\n",
       "      <th></th>\n",
       "      <th></th>\n",
       "      <th></th>\n",
       "      <th></th>\n",
       "      <th></th>\n",
       "    </tr>\n",
       "  </thead>\n",
       "  <tbody>\n",
       "    <tr>\n",
       "      <th>2010-08-01</th>\n",
       "      <td>8.1</td>\n",
       "      <td>7.9</td>\n",
       "      <td>8.124569</td>\n",
       "      <td>7.926932</td>\n",
       "      <td>8.124569</td>\n",
       "      <td>7.925845</td>\n",
       "      <td>8.124569</td>\n",
       "      <td>7.925795</td>\n",
       "      <td>8.124569</td>\n",
       "      <td>7.926</td>\n",
       "      <td>...</td>\n",
       "      <td>8.124569</td>\n",
       "      <td>7.928278</td>\n",
       "      <td>8.124569</td>\n",
       "      <td>7.928196</td>\n",
       "      <td>8.124569</td>\n",
       "      <td>7.928154</td>\n",
       "      <td>8.124569</td>\n",
       "      <td>7.928121</td>\n",
       "      <td>8.124569</td>\n",
       "      <td>7.928104</td>\n",
       "    </tr>\n",
       "    <tr>\n",
       "      <th>2010-09-01</th>\n",
       "      <td>7.8</td>\n",
       "      <td>7.7</td>\n",
       "      <td>7.814697</td>\n",
       "      <td>7.704444</td>\n",
       "      <td>7.814697</td>\n",
       "      <td>7.704655</td>\n",
       "      <td>7.814697</td>\n",
       "      <td>7.706665</td>\n",
       "      <td>7.814697</td>\n",
       "      <td>7.706946</td>\n",
       "      <td>...</td>\n",
       "      <td>7.814697</td>\n",
       "      <td>7.702712</td>\n",
       "      <td>7.814697</td>\n",
       "      <td>7.701814</td>\n",
       "      <td>7.814697</td>\n",
       "      <td>7.702325</td>\n",
       "      <td>7.814697</td>\n",
       "      <td>7.701711</td>\n",
       "      <td>7.814697</td>\n",
       "      <td>7.696071</td>\n",
       "    </tr>\n",
       "    <tr>\n",
       "      <th>2010-10-01</th>\n",
       "      <td>7.2</td>\n",
       "      <td>7.4</td>\n",
       "      <td>7.22505</td>\n",
       "      <td>7.427053</td>\n",
       "      <td>7.22505</td>\n",
       "      <td>7.428384</td>\n",
       "      <td>7.22505</td>\n",
       "      <td>7.426959</td>\n",
       "      <td>7.22505</td>\n",
       "      <td>7.42707</td>\n",
       "      <td>...</td>\n",
       "      <td>7.22505</td>\n",
       "      <td>7.418691</td>\n",
       "      <td>7.22505</td>\n",
       "      <td>7.419761</td>\n",
       "      <td>7.22505</td>\n",
       "      <td>7.418367</td>\n",
       "      <td>7.22505</td>\n",
       "      <td>7.418054</td>\n",
       "      <td>7.22505</td>\n",
       "      <td>7.41353</td>\n",
       "    </tr>\n",
       "    <tr>\n",
       "      <th>2010-11-01</th>\n",
       "      <td>7.2</td>\n",
       "      <td>7.5</td>\n",
       "      <td>7.210129</td>\n",
       "      <td>7.531558</td>\n",
       "      <td>7.210129</td>\n",
       "      <td>7.531692</td>\n",
       "      <td>7.210129</td>\n",
       "      <td>7.533507</td>\n",
       "      <td>7.210129</td>\n",
       "      <td>7.533247</td>\n",
       "      <td>...</td>\n",
       "      <td>7.210129</td>\n",
       "      <td>7.528851</td>\n",
       "      <td>7.210129</td>\n",
       "      <td>7.528725</td>\n",
       "      <td>7.210129</td>\n",
       "      <td>7.52886</td>\n",
       "      <td>7.210129</td>\n",
       "      <td>7.528905</td>\n",
       "      <td>7.210129</td>\n",
       "      <td>7.529803</td>\n",
       "    </tr>\n",
       "    <tr>\n",
       "      <th>2010-12-01</th>\n",
       "      <td>7.4</td>\n",
       "      <td>7.6</td>\n",
       "      <td>7.441762</td>\n",
       "      <td>7.646923</td>\n",
       "      <td>7.441762</td>\n",
       "      <td>7.647194</td>\n",
       "      <td>7.441762</td>\n",
       "      <td>7.6478</td>\n",
       "      <td>7.441762</td>\n",
       "      <td>7.647753</td>\n",
       "      <td>...</td>\n",
       "      <td>7.441762</td>\n",
       "      <td>7.666947</td>\n",
       "      <td>7.441762</td>\n",
       "      <td>7.666545</td>\n",
       "      <td>7.441762</td>\n",
       "      <td>7.667077</td>\n",
       "      <td>7.441762</td>\n",
       "      <td>7.667357</td>\n",
       "      <td>7.441762</td>\n",
       "      <td>7.67283</td>\n",
       "    </tr>\n",
       "    <tr>\n",
       "      <th>...</th>\n",
       "      <td>...</td>\n",
       "      <td>...</td>\n",
       "      <td>...</td>\n",
       "      <td>...</td>\n",
       "      <td>...</td>\n",
       "      <td>...</td>\n",
       "      <td>...</td>\n",
       "      <td>...</td>\n",
       "      <td>...</td>\n",
       "      <td>...</td>\n",
       "      <td>...</td>\n",
       "      <td>...</td>\n",
       "      <td>...</td>\n",
       "      <td>...</td>\n",
       "      <td>...</td>\n",
       "      <td>...</td>\n",
       "      <td>...</td>\n",
       "      <td>...</td>\n",
       "      <td>...</td>\n",
       "      <td>...</td>\n",
       "      <td>...</td>\n",
       "    </tr>\n",
       "    <tr>\n",
       "      <th>2024-02-01</th>\n",
       "      <td>NaN</td>\n",
       "      <td>NaN</td>\n",
       "      <td>NaN</td>\n",
       "      <td>NaN</td>\n",
       "      <td>NaN</td>\n",
       "      <td>NaN</td>\n",
       "      <td>NaN</td>\n",
       "      <td>NaN</td>\n",
       "      <td>NaN</td>\n",
       "      <td>NaN</td>\n",
       "      <td>...</td>\n",
       "      <td>8.677778</td>\n",
       "      <td>8.455696</td>\n",
       "      <td>8.677778</td>\n",
       "      <td>8.448077</td>\n",
       "      <td>8.677778</td>\n",
       "      <td>8.437456</td>\n",
       "      <td>8.677778</td>\n",
       "      <td>8.443967</td>\n",
       "      <td>8.677778</td>\n",
       "      <td>8.446938</td>\n",
       "    </tr>\n",
       "    <tr>\n",
       "      <th>2024-03-01</th>\n",
       "      <td>NaN</td>\n",
       "      <td>NaN</td>\n",
       "      <td>NaN</td>\n",
       "      <td>NaN</td>\n",
       "      <td>NaN</td>\n",
       "      <td>NaN</td>\n",
       "      <td>NaN</td>\n",
       "      <td>NaN</td>\n",
       "      <td>NaN</td>\n",
       "      <td>NaN</td>\n",
       "      <td>...</td>\n",
       "      <td>NaN</td>\n",
       "      <td>NaN</td>\n",
       "      <td>8.523784</td>\n",
       "      <td>8.359039</td>\n",
       "      <td>8.523784</td>\n",
       "      <td>8.34056</td>\n",
       "      <td>8.523784</td>\n",
       "      <td>8.357063</td>\n",
       "      <td>8.523784</td>\n",
       "      <td>8.366389</td>\n",
       "    </tr>\n",
       "    <tr>\n",
       "      <th>2024-04-01</th>\n",
       "      <td>NaN</td>\n",
       "      <td>NaN</td>\n",
       "      <td>NaN</td>\n",
       "      <td>NaN</td>\n",
       "      <td>NaN</td>\n",
       "      <td>NaN</td>\n",
       "      <td>NaN</td>\n",
       "      <td>NaN</td>\n",
       "      <td>NaN</td>\n",
       "      <td>NaN</td>\n",
       "      <td>...</td>\n",
       "      <td>NaN</td>\n",
       "      <td>NaN</td>\n",
       "      <td>NaN</td>\n",
       "      <td>NaN</td>\n",
       "      <td>8.31288</td>\n",
       "      <td>8.224611</td>\n",
       "      <td>8.31288</td>\n",
       "      <td>8.217752</td>\n",
       "      <td>8.31288</td>\n",
       "      <td>8.233445</td>\n",
       "    </tr>\n",
       "    <tr>\n",
       "      <th>2024-05-01</th>\n",
       "      <td>NaN</td>\n",
       "      <td>NaN</td>\n",
       "      <td>NaN</td>\n",
       "      <td>NaN</td>\n",
       "      <td>NaN</td>\n",
       "      <td>NaN</td>\n",
       "      <td>NaN</td>\n",
       "      <td>NaN</td>\n",
       "      <td>NaN</td>\n",
       "      <td>NaN</td>\n",
       "      <td>...</td>\n",
       "      <td>NaN</td>\n",
       "      <td>NaN</td>\n",
       "      <td>NaN</td>\n",
       "      <td>NaN</td>\n",
       "      <td>NaN</td>\n",
       "      <td>NaN</td>\n",
       "      <td>8.348178</td>\n",
       "      <td>8.335832</td>\n",
       "      <td>8.348178</td>\n",
       "      <td>8.362429</td>\n",
       "    </tr>\n",
       "    <tr>\n",
       "      <th>2024-06-01</th>\n",
       "      <td>NaN</td>\n",
       "      <td>NaN</td>\n",
       "      <td>NaN</td>\n",
       "      <td>NaN</td>\n",
       "      <td>NaN</td>\n",
       "      <td>NaN</td>\n",
       "      <td>NaN</td>\n",
       "      <td>NaN</td>\n",
       "      <td>NaN</td>\n",
       "      <td>NaN</td>\n",
       "      <td>...</td>\n",
       "      <td>NaN</td>\n",
       "      <td>NaN</td>\n",
       "      <td>NaN</td>\n",
       "      <td>NaN</td>\n",
       "      <td>NaN</td>\n",
       "      <td>NaN</td>\n",
       "      <td>NaN</td>\n",
       "      <td>NaN</td>\n",
       "      <td>8.684176</td>\n",
       "      <td>8.544946</td>\n",
       "    </tr>\n",
       "  </tbody>\n",
       "</table>\n",
       "<p>167 rows × 110 columns</p>\n",
       "</div>"
      ],
      "text/plain": [
       "           Tasa oficial Tasa ajustada Tasa oficial Tasa ajustada Tasa oficial  \\\n",
       "                NDE2019       NDE2019      DEF2020       DEF2020      EFM2020   \n",
       "Date                                                                            \n",
       "2010-08-01          8.1           7.9     8.124569      7.926932     8.124569   \n",
       "2010-09-01          7.8           7.7     7.814697      7.704444     7.814697   \n",
       "2010-10-01          7.2           7.4      7.22505      7.427053      7.22505   \n",
       "2010-11-01          7.2           7.5     7.210129      7.531558     7.210129   \n",
       "2010-12-01          7.4           7.6     7.441762      7.646923     7.441762   \n",
       "...                 ...           ...          ...           ...          ...   \n",
       "2024-02-01          NaN           NaN          NaN           NaN          NaN   \n",
       "2024-03-01          NaN           NaN          NaN           NaN          NaN   \n",
       "2024-04-01          NaN           NaN          NaN           NaN          NaN   \n",
       "2024-05-01          NaN           NaN          NaN           NaN          NaN   \n",
       "2024-06-01          NaN           NaN          NaN           NaN          NaN   \n",
       "\n",
       "           Tasa ajustada Tasa oficial Tasa ajustada Tasa oficial  \\\n",
       "                 EFM2020      FMA2020       FMA2020      MAM2020   \n",
       "Date                                                               \n",
       "2010-08-01      7.925845     8.124569      7.925795     8.124569   \n",
       "2010-09-01      7.704655     7.814697      7.706665     7.814697   \n",
       "2010-10-01      7.428384      7.22505      7.426959      7.22505   \n",
       "2010-11-01      7.531692     7.210129      7.533507     7.210129   \n",
       "2010-12-01      7.647194     7.441762        7.6478     7.441762   \n",
       "...                  ...          ...           ...          ...   \n",
       "2024-02-01           NaN          NaN           NaN          NaN   \n",
       "2024-03-01           NaN          NaN           NaN          NaN   \n",
       "2024-04-01           NaN          NaN           NaN          NaN   \n",
       "2024-05-01           NaN          NaN           NaN          NaN   \n",
       "2024-06-01           NaN          NaN           NaN          NaN   \n",
       "\n",
       "           Tasa ajustada  ... Tasa oficial Tasa ajustada Tasa oficial  \\\n",
       "                 MAM2020  ...      EFM2024       EFM2024      FMA2024   \n",
       "Date                      ...                                           \n",
       "2010-08-01         7.926  ...     8.124569      7.928278     8.124569   \n",
       "2010-09-01      7.706946  ...     7.814697      7.702712     7.814697   \n",
       "2010-10-01       7.42707  ...      7.22505      7.418691      7.22505   \n",
       "2010-11-01      7.533247  ...     7.210129      7.528851     7.210129   \n",
       "2010-12-01      7.647753  ...     7.441762      7.666947     7.441762   \n",
       "...                  ...  ...          ...           ...          ...   \n",
       "2024-02-01           NaN  ...     8.677778      8.455696     8.677778   \n",
       "2024-03-01           NaN  ...          NaN           NaN     8.523784   \n",
       "2024-04-01           NaN  ...          NaN           NaN          NaN   \n",
       "2024-05-01           NaN  ...          NaN           NaN          NaN   \n",
       "2024-06-01           NaN  ...          NaN           NaN          NaN   \n",
       "\n",
       "           Tasa ajustada Tasa oficial Tasa ajustada Tasa oficial  \\\n",
       "                 FMA2024      MAM2024       MAM2024      AMJ2024   \n",
       "Date                                                               \n",
       "2010-08-01      7.928196     8.124569      7.928154     8.124569   \n",
       "2010-09-01      7.701814     7.814697      7.702325     7.814697   \n",
       "2010-10-01      7.419761      7.22505      7.418367      7.22505   \n",
       "2010-11-01      7.528725     7.210129       7.52886     7.210129   \n",
       "2010-12-01      7.666545     7.441762      7.667077     7.441762   \n",
       "...                  ...          ...           ...          ...   \n",
       "2024-02-01      8.448077     8.677778      8.437456     8.677778   \n",
       "2024-03-01      8.359039     8.523784       8.34056     8.523784   \n",
       "2024-04-01           NaN      8.31288      8.224611      8.31288   \n",
       "2024-05-01           NaN          NaN           NaN     8.348178   \n",
       "2024-06-01           NaN          NaN           NaN          NaN   \n",
       "\n",
       "           Tasa ajustada Tasa oficial Tasa ajustada  \n",
       "                 AMJ2024      MJJ2024       MJJ2024  \n",
       "Date                                                 \n",
       "2010-08-01      7.928121     8.124569      7.928104  \n",
       "2010-09-01      7.701711     7.814697      7.696071  \n",
       "2010-10-01      7.418054      7.22505       7.41353  \n",
       "2010-11-01      7.528905     7.210129      7.529803  \n",
       "2010-12-01      7.667357     7.441762       7.67283  \n",
       "...                  ...          ...           ...  \n",
       "2024-02-01      8.443967     8.677778      8.446938  \n",
       "2024-03-01      8.357063     8.523784      8.366389  \n",
       "2024-04-01      8.217752      8.31288      8.233445  \n",
       "2024-05-01      8.335832     8.348178      8.362429  \n",
       "2024-06-01           NaN     8.684176      8.544946  \n",
       "\n",
       "[167 rows x 110 columns]"
      ]
     },
     "execution_count": 87,
     "metadata": {},
     "output_type": "execute_result"
    }
   ],
   "source": [
    "def date_to_index(data):\n",
    "    df = data.copy()\n",
    "    trim_date = dict(zip(df[(\"Trimestre\",np.nan)].unique(), (np.arange(12,0,-1) - 7)%12+1001)) # Ej: {'Dic - Feb': 1001, 'Nov - Feb': 1012}.  \n",
    "    trim_date = {k:str(v).replace(\"100\",\"0\").replace(\"101\",\"1\") for k,v in trim_date.items()} # Anteriormente se sumo 1000 para anteponer un 0 al número, luego de convertido a string.\n",
    "    df[(\"Trimestre\",np.nan)] = df[(\"Trimestre\",np.nan)].apply(lambda trim: trim_date[trim])\n",
    "    df[(\"Trimestre\", np.nan)]\n",
    "    df[\"Date\"] = df[[\"Año\", \"Trimestre\"]].agg(lambda row: \"-\".join(row.astype(\"string\")) + \"-01\", axis=1)\n",
    "    df[\"Date\"] = pd.to_datetime(df[\"Date\"], format=\"%Y-%m-%d\")\n",
    "    df.index = df[\"Date\"]\n",
    "    df.drop(columns=[(\"Año\",np.nan), (\"Trimestre\",np.nan), (\"Date\",\"\")], inplace=True)\n",
    "    df.sort_index(inplace=True)\n",
    "    \n",
    "    return df\n",
    "\n",
    "data = pd.read_excel(io=\"../data/ine/ajuste_estacional_historico.xlsx\", sheet_name=\"tasa_as\")\n",
    "data = data.loc[3:172]\n",
    "data.columns= pd.MultiIndex.from_arrays(data.iloc[0:2].to_numpy())\n",
    "data = data.loc[6:].reset_index(drop=True)\n",
    "data = date_to_index(data=data)\n",
    "data"
   ]
  },
  {
   "cell_type": "code",
   "execution_count": 88,
   "metadata": {},
   "outputs": [
    {
     "data": {
      "text/plain": [
       "Date\n",
       "2023-05-01    NaN\n",
       "2023-06-01    NaN\n",
       "2023-07-01    NaN\n",
       "Name: (Tasa ajustada, NDE2019), dtype: object"
      ]
     },
     "execution_count": 88,
     "metadata": {},
     "output_type": "execute_result"
    }
   ],
   "source": [
    "data.loc[:,(\"Tasa ajustada\", \"NDE2019\")].loc[\"2023-05-01\":\"2023-07-01\"]"
   ]
  },
  {
   "cell_type": "code",
   "execution_count": 89,
   "metadata": {},
   "outputs": [
    {
     "name": "stderr",
     "output_type": "stream",
     "text": [
      "C:\\Users\\aurib\\AppData\\Local\\Temp\\ipykernel_19568\\16537595.py:38: FutureWarning:\n",
      "\n",
      "Downcasting object dtype arrays on .fillna, .ffill, .bfill is deprecated and will change in a future version. Call result.infer_objects(copy=False) instead. To opt-in to the future behavior, set `pd.set_option('future.no_silent_downcasting', True)`\n",
      "\n",
      "C:\\Users\\aurib\\AppData\\Local\\Temp\\ipykernel_19568\\16537595.py:39: FutureWarning:\n",
      "\n",
      "Downcasting object dtype arrays on .fillna, .ffill, .bfill is deprecated and will change in a future version. Call result.infer_objects(copy=False) instead. To opt-in to the future behavior, set `pd.set_option('future.no_silent_downcasting', True)`\n",
      "\n",
      "C:\\Users\\aurib\\AppData\\Local\\Temp\\ipykernel_19568\\16537595.py:42: FutureWarning:\n",
      "\n",
      "Downcasting object dtype arrays on .fillna, .ffill, .bfill is deprecated and will change in a future version. Call result.infer_objects(copy=False) instead. To opt-in to the future behavior, set `pd.set_option('future.no_silent_downcasting', True)`\n",
      "\n",
      "C:\\Users\\aurib\\AppData\\Local\\Temp\\ipykernel_19568\\16537595.py:43: FutureWarning:\n",
      "\n",
      "Downcasting object dtype arrays on .fillna, .ffill, .bfill is deprecated and will change in a future version. Call result.infer_objects(copy=False) instead. To opt-in to the future behavior, set `pd.set_option('future.no_silent_downcasting', True)`\n",
      "\n"
     ]
    }
   ],
   "source": [
    "diff, premse, posmse = mse_seasonality(\n",
    "    pre_serie=data[(\"Tasa ajustada\", \"NDE2019\")],\n",
    "    pos_serie=data[(\"Tasa ajustada\", \"MJJ2024\")],\n",
    "    pre_serie_comp=data[(\"Tasa ajustada\", \"EFM2020\")],\n",
    "    pos_serie_comp=data[(\"Tasa ajustada\", \"MJJ2023\")],\n",
    "    outlier_start=\"2020-03-01\", outlier_end=\"2022-03-01\"\n",
    "    )"
   ]
  },
  {
   "cell_type": "code",
   "execution_count": 90,
   "metadata": {},
   "outputs": [
    {
     "name": "stdout",
     "output_type": "stream",
     "text": [
      "diferencia:  1.1730499121604434\n",
      "MSE previo al outlier 0.001112485417431904\n",
      "MSE posterior al outlier 0.0026937396441335027\n"
     ]
    }
   ],
   "source": [
    "print(\"diferencia: \", diff)\n",
    "print(\"MSE previo al outlier\", premse)\n",
    "print(\"MSE posterior al outlier\", posmse)"
   ]
  },
  {
   "cell_type": "code",
   "execution_count": 91,
   "metadata": {},
   "outputs": [
    {
     "data": {
      "application/vnd.plotly.v1+json": {
       "config": {
        "plotlyServerURL": "https://plot.ly"
       },
       "data": [
        {
         "hovertemplate": "variable=Tasa oficial DEF2020<br>Date=%{x}<br>value=%{y}<extra></extra>",
         "legendgroup": "Tasa oficial DEF2020",
         "line": {
          "color": "#636efa",
          "dash": "solid"
         },
         "marker": {
          "symbol": "circle"
         },
         "mode": "lines+markers",
         "name": "Tasa oficial DEF2020",
         "orientation": "v",
         "showlegend": true,
         "type": "scatter",
         "x": [
          "2010-08-01T00:00:00",
          "2010-09-01T00:00:00",
          "2010-10-01T00:00:00",
          "2010-11-01T00:00:00",
          "2010-12-01T00:00:00",
          "2011-01-01T00:00:00",
          "2011-02-01T00:00:00",
          "2011-03-01T00:00:00",
          "2011-04-01T00:00:00",
          "2011-05-01T00:00:00",
          "2011-06-01T00:00:00",
          "2011-07-01T00:00:00",
          "2011-08-01T00:00:00",
          "2011-09-01T00:00:00",
          "2011-10-01T00:00:00",
          "2011-11-01T00:00:00",
          "2011-12-01T00:00:00",
          "2012-01-01T00:00:00",
          "2012-02-01T00:00:00",
          "2012-03-01T00:00:00",
          "2012-04-01T00:00:00",
          "2012-05-01T00:00:00",
          "2012-06-01T00:00:00",
          "2012-07-01T00:00:00",
          "2012-08-01T00:00:00",
          "2012-09-01T00:00:00",
          "2012-10-01T00:00:00",
          "2012-11-01T00:00:00",
          "2012-12-01T00:00:00",
          "2013-01-01T00:00:00",
          "2013-02-01T00:00:00",
          "2013-03-01T00:00:00",
          "2013-04-01T00:00:00",
          "2013-05-01T00:00:00",
          "2013-06-01T00:00:00",
          "2013-07-01T00:00:00",
          "2013-08-01T00:00:00",
          "2013-09-01T00:00:00",
          "2013-10-01T00:00:00",
          "2013-11-01T00:00:00",
          "2013-12-01T00:00:00",
          "2014-01-01T00:00:00",
          "2014-02-01T00:00:00",
          "2014-03-01T00:00:00",
          "2014-04-01T00:00:00",
          "2014-05-01T00:00:00",
          "2014-06-01T00:00:00",
          "2014-07-01T00:00:00",
          "2014-08-01T00:00:00",
          "2014-09-01T00:00:00",
          "2014-10-01T00:00:00",
          "2014-11-01T00:00:00",
          "2014-12-01T00:00:00",
          "2015-01-01T00:00:00",
          "2015-02-01T00:00:00",
          "2015-03-01T00:00:00",
          "2015-04-01T00:00:00",
          "2015-05-01T00:00:00",
          "2015-06-01T00:00:00",
          "2015-07-01T00:00:00",
          "2015-08-01T00:00:00",
          "2015-09-01T00:00:00",
          "2015-10-01T00:00:00",
          "2015-11-01T00:00:00",
          "2015-12-01T00:00:00",
          "2016-01-01T00:00:00",
          "2016-02-01T00:00:00",
          "2016-03-01T00:00:00",
          "2016-04-01T00:00:00",
          "2016-05-01T00:00:00",
          "2016-06-01T00:00:00",
          "2016-07-01T00:00:00",
          "2016-08-01T00:00:00",
          "2016-09-01T00:00:00",
          "2016-10-01T00:00:00",
          "2016-11-01T00:00:00",
          "2016-12-01T00:00:00",
          "2017-01-01T00:00:00",
          "2017-02-01T00:00:00",
          "2017-03-01T00:00:00",
          "2017-04-01T00:00:00",
          "2017-05-01T00:00:00",
          "2017-06-01T00:00:00",
          "2017-07-01T00:00:00",
          "2017-08-01T00:00:00",
          "2017-09-01T00:00:00",
          "2017-10-01T00:00:00",
          "2017-11-01T00:00:00",
          "2017-12-01T00:00:00",
          "2018-01-01T00:00:00",
          "2018-02-01T00:00:00",
          "2018-03-01T00:00:00",
          "2018-04-01T00:00:00",
          "2018-05-01T00:00:00",
          "2018-06-01T00:00:00",
          "2018-07-01T00:00:00",
          "2018-08-01T00:00:00",
          "2018-09-01T00:00:00",
          "2018-10-01T00:00:00",
          "2018-11-01T00:00:00",
          "2018-12-01T00:00:00",
          "2019-01-01T00:00:00",
          "2019-02-01T00:00:00",
          "2019-03-01T00:00:00",
          "2019-04-01T00:00:00",
          "2019-05-01T00:00:00",
          "2019-06-01T00:00:00",
          "2019-07-01T00:00:00",
          "2019-08-01T00:00:00",
          "2019-09-01T00:00:00",
          "2019-10-01T00:00:00",
          "2019-11-01T00:00:00",
          "2019-12-01T00:00:00",
          "2020-01-01T00:00:00",
          "2020-02-01T00:00:00",
          "2020-03-01T00:00:00",
          "2020-04-01T00:00:00",
          "2020-05-01T00:00:00",
          "2020-06-01T00:00:00",
          "2020-07-01T00:00:00",
          "2020-08-01T00:00:00",
          "2020-09-01T00:00:00",
          "2020-10-01T00:00:00",
          "2020-11-01T00:00:00",
          "2020-12-01T00:00:00",
          "2021-01-01T00:00:00",
          "2021-02-01T00:00:00",
          "2021-03-01T00:00:00",
          "2021-04-01T00:00:00",
          "2021-05-01T00:00:00",
          "2021-06-01T00:00:00",
          "2021-07-01T00:00:00",
          "2021-08-01T00:00:00",
          "2021-09-01T00:00:00",
          "2021-10-01T00:00:00",
          "2021-11-01T00:00:00",
          "2021-12-01T00:00:00",
          "2022-01-01T00:00:00",
          "2022-02-01T00:00:00",
          "2022-03-01T00:00:00",
          "2022-04-01T00:00:00",
          "2022-05-01T00:00:00",
          "2022-06-01T00:00:00",
          "2022-07-01T00:00:00",
          "2022-08-01T00:00:00",
          "2022-09-01T00:00:00",
          "2022-10-01T00:00:00",
          "2022-11-01T00:00:00",
          "2022-12-01T00:00:00",
          "2023-01-01T00:00:00",
          "2023-02-01T00:00:00",
          "2023-03-01T00:00:00",
          "2023-04-01T00:00:00",
          "2023-05-01T00:00:00",
          "2023-06-01T00:00:00",
          "2023-07-01T00:00:00",
          "2023-08-01T00:00:00",
          "2023-09-01T00:00:00",
          "2023-10-01T00:00:00",
          "2023-11-01T00:00:00",
          "2023-12-01T00:00:00",
          "2024-01-01T00:00:00",
          "2024-02-01T00:00:00",
          "2024-03-01T00:00:00",
          "2024-04-01T00:00:00",
          "2024-05-01T00:00:00",
          "2024-06-01T00:00:00"
         ],
         "xaxis": "x",
         "y": [
          8.12456869233612,
          7.814696708465461,
          7.225050437203959,
          7.21012888909704,
          7.441761718817927,
          7.442769364665203,
          7.548116558096288,
          7.211111860205026,
          7.304763451880469,
          7.212255397048338,
          7.553369301477557,
          7.514649470764547,
          7.6263811757400966,
          7.43669098969825,
          7.33191333689419,
          6.814609667128376,
          6.853915676547034,
          6.528372803742396,
          6.797302896114809,
          6.763674290614616,
          6.941839384225788,
          6.781292194200807,
          6.664966941483431,
          6.538428983206727,
          6.576295394539572,
          6.694933329534634,
          6.3597240604043375,
          6.224655687987225,
          6.119549592693044,
          6.354761938598119,
          6.4261089083845295,
          6.539010041466422,
          6.541235681319833,
          6.260540693535812,
          5.883151980840584,
          5.848962595942402,
          5.860496691363855,
          5.952664425109553,
          5.864836875672645,
          5.781731968928162,
          6.231466599105638,
          6.1846947292971794,
          6.496404147634732,
          6.144147156535242,
          6.324242958052069,
          6.517831912247804,
          6.594121807347129,
          6.826477763132526,
          6.760549925960644,
          6.563670255121826,
          6.214868003332793,
          6.205596819096719,
          6.2266912629249624,
          6.215262370300062,
          6.2288644027974795,
          6.355841486469638,
          6.751508894415142,
          6.670224065765483,
          6.691606113518844,
          6.558502706196559,
          6.543999715351961,
          6.44523895841142,
          6.174822759657495,
          5.870419215473993,
          5.9174359863914585,
          6.046157360995324,
          6.490499064070117,
          6.6052157884768965,
          7.027192121286144,
          7.018020233596609,
          7.267116250290871,
          7.0704324272928405,
          7.030719878138465,
          6.6808261954863575,
          6.40338311521428,
          6.200412730042814,
          6.36937012454881,
          6.771348595673361,
          7.040228949676881,
          7.0779779734201895,
          7.326344790601063,
          7.312519357965468,
          7.216778493990461,
          6.907594671403867,
          6.99529697912191,
          6.984697394799098,
          6.703918721948663,
          6.512653213019955,
          6.825437444571948,
          7.010053212079134,
          7.376087580975546,
          6.993793949154423,
          7.381446495071396,
          7.513714492964603,
          7.853458461105259,
          7.719071107904813,
          7.470290516526306,
          7.411906829906576,
          7.311127502112706,
          7.146463315388816,
          7.1295721723762915,
          7.034277907625181,
          7.236279240290113,
          7.096337741205423,
          7.232280199957606,
          7.253812630322652,
          7.548641079664645,
          7.5718079861492535,
          7.337297339786181,
          7.141079809278539,
          6.960308293894101,
          7.063169087749459,
          7.433001864743219,
          7.810519296830251,
          null,
          null,
          null,
          null,
          null,
          null,
          null,
          null,
          null,
          null,
          null,
          null,
          null,
          null,
          null,
          null,
          null,
          null,
          null,
          null,
          null,
          null,
          null,
          null,
          null,
          null,
          null,
          null,
          null,
          null,
          null,
          null,
          null,
          null,
          null,
          null,
          null,
          null,
          null,
          null,
          null,
          null,
          null,
          null,
          null,
          null,
          null,
          null,
          null,
          null,
          null,
          null,
          null
         ],
         "yaxis": "y"
        },
        {
         "hovertemplate": "variable=Tasa ajustada DEF2020<br>Date=%{x}<br>value=%{y}<extra></extra>",
         "legendgroup": "Tasa ajustada DEF2020",
         "line": {
          "color": "#EF553B",
          "dash": "solid"
         },
         "marker": {
          "symbol": "circle"
         },
         "mode": "lines+markers",
         "name": "Tasa ajustada DEF2020",
         "orientation": "v",
         "showlegend": true,
         "type": "scatter",
         "x": [
          "2010-08-01T00:00:00",
          "2010-09-01T00:00:00",
          "2010-10-01T00:00:00",
          "2010-11-01T00:00:00",
          "2010-12-01T00:00:00",
          "2011-01-01T00:00:00",
          "2011-02-01T00:00:00",
          "2011-03-01T00:00:00",
          "2011-04-01T00:00:00",
          "2011-05-01T00:00:00",
          "2011-06-01T00:00:00",
          "2011-07-01T00:00:00",
          "2011-08-01T00:00:00",
          "2011-09-01T00:00:00",
          "2011-10-01T00:00:00",
          "2011-11-01T00:00:00",
          "2011-12-01T00:00:00",
          "2012-01-01T00:00:00",
          "2012-02-01T00:00:00",
          "2012-03-01T00:00:00",
          "2012-04-01T00:00:00",
          "2012-05-01T00:00:00",
          "2012-06-01T00:00:00",
          "2012-07-01T00:00:00",
          "2012-08-01T00:00:00",
          "2012-09-01T00:00:00",
          "2012-10-01T00:00:00",
          "2012-11-01T00:00:00",
          "2012-12-01T00:00:00",
          "2013-01-01T00:00:00",
          "2013-02-01T00:00:00",
          "2013-03-01T00:00:00",
          "2013-04-01T00:00:00",
          "2013-05-01T00:00:00",
          "2013-06-01T00:00:00",
          "2013-07-01T00:00:00",
          "2013-08-01T00:00:00",
          "2013-09-01T00:00:00",
          "2013-10-01T00:00:00",
          "2013-11-01T00:00:00",
          "2013-12-01T00:00:00",
          "2014-01-01T00:00:00",
          "2014-02-01T00:00:00",
          "2014-03-01T00:00:00",
          "2014-04-01T00:00:00",
          "2014-05-01T00:00:00",
          "2014-06-01T00:00:00",
          "2014-07-01T00:00:00",
          "2014-08-01T00:00:00",
          "2014-09-01T00:00:00",
          "2014-10-01T00:00:00",
          "2014-11-01T00:00:00",
          "2014-12-01T00:00:00",
          "2015-01-01T00:00:00",
          "2015-02-01T00:00:00",
          "2015-03-01T00:00:00",
          "2015-04-01T00:00:00",
          "2015-05-01T00:00:00",
          "2015-06-01T00:00:00",
          "2015-07-01T00:00:00",
          "2015-08-01T00:00:00",
          "2015-09-01T00:00:00",
          "2015-10-01T00:00:00",
          "2015-11-01T00:00:00",
          "2015-12-01T00:00:00",
          "2016-01-01T00:00:00",
          "2016-02-01T00:00:00",
          "2016-03-01T00:00:00",
          "2016-04-01T00:00:00",
          "2016-05-01T00:00:00",
          "2016-06-01T00:00:00",
          "2016-07-01T00:00:00",
          "2016-08-01T00:00:00",
          "2016-09-01T00:00:00",
          "2016-10-01T00:00:00",
          "2016-11-01T00:00:00",
          "2016-12-01T00:00:00",
          "2017-01-01T00:00:00",
          "2017-02-01T00:00:00",
          "2017-03-01T00:00:00",
          "2017-04-01T00:00:00",
          "2017-05-01T00:00:00",
          "2017-06-01T00:00:00",
          "2017-07-01T00:00:00",
          "2017-08-01T00:00:00",
          "2017-09-01T00:00:00",
          "2017-10-01T00:00:00",
          "2017-11-01T00:00:00",
          "2017-12-01T00:00:00",
          "2018-01-01T00:00:00",
          "2018-02-01T00:00:00",
          "2018-03-01T00:00:00",
          "2018-04-01T00:00:00",
          "2018-05-01T00:00:00",
          "2018-06-01T00:00:00",
          "2018-07-01T00:00:00",
          "2018-08-01T00:00:00",
          "2018-09-01T00:00:00",
          "2018-10-01T00:00:00",
          "2018-11-01T00:00:00",
          "2018-12-01T00:00:00",
          "2019-01-01T00:00:00",
          "2019-02-01T00:00:00",
          "2019-03-01T00:00:00",
          "2019-04-01T00:00:00",
          "2019-05-01T00:00:00",
          "2019-06-01T00:00:00",
          "2019-07-01T00:00:00",
          "2019-08-01T00:00:00",
          "2019-09-01T00:00:00",
          "2019-10-01T00:00:00",
          "2019-11-01T00:00:00",
          "2019-12-01T00:00:00",
          "2020-01-01T00:00:00",
          "2020-02-01T00:00:00",
          "2020-03-01T00:00:00",
          "2020-04-01T00:00:00",
          "2020-05-01T00:00:00",
          "2020-06-01T00:00:00",
          "2020-07-01T00:00:00",
          "2020-08-01T00:00:00",
          "2020-09-01T00:00:00",
          "2020-10-01T00:00:00",
          "2020-11-01T00:00:00",
          "2020-12-01T00:00:00",
          "2021-01-01T00:00:00",
          "2021-02-01T00:00:00",
          "2021-03-01T00:00:00",
          "2021-04-01T00:00:00",
          "2021-05-01T00:00:00",
          "2021-06-01T00:00:00",
          "2021-07-01T00:00:00",
          "2021-08-01T00:00:00",
          "2021-09-01T00:00:00",
          "2021-10-01T00:00:00",
          "2021-11-01T00:00:00",
          "2021-12-01T00:00:00",
          "2022-01-01T00:00:00",
          "2022-02-01T00:00:00",
          "2022-03-01T00:00:00",
          "2022-04-01T00:00:00",
          "2022-05-01T00:00:00",
          "2022-06-01T00:00:00",
          "2022-07-01T00:00:00",
          "2022-08-01T00:00:00",
          "2022-09-01T00:00:00",
          "2022-10-01T00:00:00",
          "2022-11-01T00:00:00",
          "2022-12-01T00:00:00",
          "2023-01-01T00:00:00",
          "2023-02-01T00:00:00",
          "2023-03-01T00:00:00",
          "2023-04-01T00:00:00",
          "2023-05-01T00:00:00",
          "2023-06-01T00:00:00",
          "2023-07-01T00:00:00",
          "2023-08-01T00:00:00",
          "2023-09-01T00:00:00",
          "2023-10-01T00:00:00",
          "2023-11-01T00:00:00",
          "2023-12-01T00:00:00",
          "2024-01-01T00:00:00",
          "2024-02-01T00:00:00",
          "2024-03-01T00:00:00",
          "2024-04-01T00:00:00",
          "2024-05-01T00:00:00",
          "2024-06-01T00:00:00"
         ],
         "xaxis": "x",
         "y": [
          7.926931663031279,
          7.704444001172734,
          7.4270529289969955,
          7.53155836497861,
          7.646922651007662,
          7.596651732257362,
          7.472201481645503,
          7.2485861810146615,
          7.088814835350499,
          7.152014005900813,
          7.43024140784774,
          7.430411930176953,
          7.453710477644111,
          7.337491650649454,
          7.547633278700852,
          7.113063009580274,
          7.040775856945255,
          6.655216252928126,
          6.731186459244563,
          6.796246391143458,
          6.724219089256475,
          6.690213762854841,
          6.536501519778959,
          6.449307264215941,
          6.429178972512078,
          6.604850587248332,
          6.554229073405511,
          6.515444621627063,
          6.275445628802875,
          6.498641460825265,
          6.392641229564498,
          6.565990665380528,
          6.332986116789654,
          6.148303522086088,
          5.73872922982449,
          5.743239161513612,
          5.710996382478214,
          5.879552305052408,
          6.05443349714449,
          6.065117969118491,
          6.407538714664753,
          6.341692737548513,
          6.49666536779118,
          6.173115497540611,
          6.1098014728448415,
          6.352228154276447,
          6.386592922719114,
          6.678114638425859,
          6.582179493856434,
          6.49367845283441,
          6.428106018394443,
          6.565540782280877,
          6.4657108021156775,
          6.419692336217652,
          6.22411185760135,
          6.371529310853563,
          6.492043148296014,
          6.465958706129577,
          6.43728196119848,
          6.395006886158591,
          6.364574363333488,
          6.410176014945325,
          6.405924445556196,
          6.243878369740367,
          6.174598636242469,
          6.2495989183461935,
          6.485769488521533,
          6.6274967233353035,
          6.765304425012338,
          6.779544791120042,
          6.946870250461477,
          6.886318673739786,
          6.849316988202024,
          6.688015102361169,
          6.6602457624349425,
          6.629898974593101,
          6.665276164653437,
          6.966920203255592,
          7.003857208583193,
          7.099291708660411,
          7.057029080539927,
          7.067064111203586,
          6.88194400890433,
          6.719702063993624,
          6.833206045566575,
          7.047870349532198,
          6.984277790953167,
          6.970800364582343,
          7.09770560160376,
          7.1739757862501,
          7.288843946946309,
          6.997249592647399,
          7.125554372408051,
          7.264253321964109,
          7.488826433098035,
          7.518053232500301,
          7.310497844653438,
          7.4929019705058515,
          7.612248384907991,
          7.67292866528405,
          7.424902682419495,
          7.148417213528237,
          7.134391755608056,
          7.101175123335385,
          7.007582775912885,
          7.0214377523711295,
          7.207136276524746,
          7.3628822489186545,
          7.202626711892851,
          7.238110619662684,
          7.264352817415415,
          7.562927982707252,
          7.693750014212332,
          7.909270926889193,
          null,
          null,
          null,
          null,
          null,
          null,
          null,
          null,
          null,
          null,
          null,
          null,
          null,
          null,
          null,
          null,
          null,
          null,
          null,
          null,
          null,
          null,
          null,
          null,
          null,
          null,
          null,
          null,
          null,
          null,
          null,
          null,
          null,
          null,
          null,
          null,
          null,
          null,
          null,
          null,
          null,
          null,
          null,
          null,
          null,
          null,
          null,
          null,
          null,
          null,
          null,
          null,
          null
         ],
         "yaxis": "y"
        },
        {
         "hovertemplate": "variable=Tasa oficial DEF2024<br>Date=%{x}<br>value=%{y}<extra></extra>",
         "legendgroup": "Tasa oficial DEF2024",
         "line": {
          "color": "#00cc96",
          "dash": "solid"
         },
         "marker": {
          "symbol": "circle"
         },
         "mode": "lines+markers",
         "name": "Tasa oficial DEF2024",
         "orientation": "v",
         "showlegend": true,
         "type": "scatter",
         "x": [
          "2010-08-01T00:00:00",
          "2010-09-01T00:00:00",
          "2010-10-01T00:00:00",
          "2010-11-01T00:00:00",
          "2010-12-01T00:00:00",
          "2011-01-01T00:00:00",
          "2011-02-01T00:00:00",
          "2011-03-01T00:00:00",
          "2011-04-01T00:00:00",
          "2011-05-01T00:00:00",
          "2011-06-01T00:00:00",
          "2011-07-01T00:00:00",
          "2011-08-01T00:00:00",
          "2011-09-01T00:00:00",
          "2011-10-01T00:00:00",
          "2011-11-01T00:00:00",
          "2011-12-01T00:00:00",
          "2012-01-01T00:00:00",
          "2012-02-01T00:00:00",
          "2012-03-01T00:00:00",
          "2012-04-01T00:00:00",
          "2012-05-01T00:00:00",
          "2012-06-01T00:00:00",
          "2012-07-01T00:00:00",
          "2012-08-01T00:00:00",
          "2012-09-01T00:00:00",
          "2012-10-01T00:00:00",
          "2012-11-01T00:00:00",
          "2012-12-01T00:00:00",
          "2013-01-01T00:00:00",
          "2013-02-01T00:00:00",
          "2013-03-01T00:00:00",
          "2013-04-01T00:00:00",
          "2013-05-01T00:00:00",
          "2013-06-01T00:00:00",
          "2013-07-01T00:00:00",
          "2013-08-01T00:00:00",
          "2013-09-01T00:00:00",
          "2013-10-01T00:00:00",
          "2013-11-01T00:00:00",
          "2013-12-01T00:00:00",
          "2014-01-01T00:00:00",
          "2014-02-01T00:00:00",
          "2014-03-01T00:00:00",
          "2014-04-01T00:00:00",
          "2014-05-01T00:00:00",
          "2014-06-01T00:00:00",
          "2014-07-01T00:00:00",
          "2014-08-01T00:00:00",
          "2014-09-01T00:00:00",
          "2014-10-01T00:00:00",
          "2014-11-01T00:00:00",
          "2014-12-01T00:00:00",
          "2015-01-01T00:00:00",
          "2015-02-01T00:00:00",
          "2015-03-01T00:00:00",
          "2015-04-01T00:00:00",
          "2015-05-01T00:00:00",
          "2015-06-01T00:00:00",
          "2015-07-01T00:00:00",
          "2015-08-01T00:00:00",
          "2015-09-01T00:00:00",
          "2015-10-01T00:00:00",
          "2015-11-01T00:00:00",
          "2015-12-01T00:00:00",
          "2016-01-01T00:00:00",
          "2016-02-01T00:00:00",
          "2016-03-01T00:00:00",
          "2016-04-01T00:00:00",
          "2016-05-01T00:00:00",
          "2016-06-01T00:00:00",
          "2016-07-01T00:00:00",
          "2016-08-01T00:00:00",
          "2016-09-01T00:00:00",
          "2016-10-01T00:00:00",
          "2016-11-01T00:00:00",
          "2016-12-01T00:00:00",
          "2017-01-01T00:00:00",
          "2017-02-01T00:00:00",
          "2017-03-01T00:00:00",
          "2017-04-01T00:00:00",
          "2017-05-01T00:00:00",
          "2017-06-01T00:00:00",
          "2017-07-01T00:00:00",
          "2017-08-01T00:00:00",
          "2017-09-01T00:00:00",
          "2017-10-01T00:00:00",
          "2017-11-01T00:00:00",
          "2017-12-01T00:00:00",
          "2018-01-01T00:00:00",
          "2018-02-01T00:00:00",
          "2018-03-01T00:00:00",
          "2018-04-01T00:00:00",
          "2018-05-01T00:00:00",
          "2018-06-01T00:00:00",
          "2018-07-01T00:00:00",
          "2018-08-01T00:00:00",
          "2018-09-01T00:00:00",
          "2018-10-01T00:00:00",
          "2018-11-01T00:00:00",
          "2018-12-01T00:00:00",
          "2019-01-01T00:00:00",
          "2019-02-01T00:00:00",
          "2019-03-01T00:00:00",
          "2019-04-01T00:00:00",
          "2019-05-01T00:00:00",
          "2019-06-01T00:00:00",
          "2019-07-01T00:00:00",
          "2019-08-01T00:00:00",
          "2019-09-01T00:00:00",
          "2019-10-01T00:00:00",
          "2019-11-01T00:00:00",
          "2019-12-01T00:00:00",
          "2020-01-01T00:00:00",
          "2020-02-01T00:00:00",
          "2020-03-01T00:00:00",
          "2020-04-01T00:00:00",
          "2020-05-01T00:00:00",
          "2020-06-01T00:00:00",
          "2020-07-01T00:00:00",
          "2020-08-01T00:00:00",
          "2020-09-01T00:00:00",
          "2020-10-01T00:00:00",
          "2020-11-01T00:00:00",
          "2020-12-01T00:00:00",
          "2021-01-01T00:00:00",
          "2021-02-01T00:00:00",
          "2021-03-01T00:00:00",
          "2021-04-01T00:00:00",
          "2021-05-01T00:00:00",
          "2021-06-01T00:00:00",
          "2021-07-01T00:00:00",
          "2021-08-01T00:00:00",
          "2021-09-01T00:00:00",
          "2021-10-01T00:00:00",
          "2021-11-01T00:00:00",
          "2021-12-01T00:00:00",
          "2022-01-01T00:00:00",
          "2022-02-01T00:00:00",
          "2022-03-01T00:00:00",
          "2022-04-01T00:00:00",
          "2022-05-01T00:00:00",
          "2022-06-01T00:00:00",
          "2022-07-01T00:00:00",
          "2022-08-01T00:00:00",
          "2022-09-01T00:00:00",
          "2022-10-01T00:00:00",
          "2022-11-01T00:00:00",
          "2022-12-01T00:00:00",
          "2023-01-01T00:00:00",
          "2023-02-01T00:00:00",
          "2023-03-01T00:00:00",
          "2023-04-01T00:00:00",
          "2023-05-01T00:00:00",
          "2023-06-01T00:00:00",
          "2023-07-01T00:00:00",
          "2023-08-01T00:00:00",
          "2023-09-01T00:00:00",
          "2023-10-01T00:00:00",
          "2023-11-01T00:00:00",
          "2023-12-01T00:00:00",
          "2024-01-01T00:00:00",
          "2024-02-01T00:00:00",
          "2024-03-01T00:00:00",
          "2024-04-01T00:00:00",
          "2024-05-01T00:00:00",
          "2024-06-01T00:00:00"
         ],
         "xaxis": "x",
         "y": [
          8.12456869233612,
          7.81469670846547,
          7.22505043720396,
          7.21012888909704,
          7.44176171881792,
          7.44276936466521,
          7.54811655809629,
          7.21111186020504,
          7.30476345188047,
          7.21225539704833,
          7.55336930147756,
          7.51464947076455,
          7.6263811757401,
          7.43669098969824,
          7.3319133368942,
          6.81460966712838,
          6.85391567654705,
          6.52837280374239,
          6.79730289611481,
          6.7636742906146,
          6.94183938422579,
          6.7812921942008,
          6.66496694148344,
          6.53842898320672,
          6.57629539453957,
          6.69493332953463,
          6.35972406040434,
          6.22465568798724,
          6.11954959269305,
          6.35476193859812,
          6.42610890838452,
          6.53901004146644,
          6.54123568131983,
          6.26054069353582,
          5.88315198084059,
          5.8489625959424,
          5.86049669136386,
          5.95266442510956,
          5.86483687567265,
          5.78173196892817,
          6.23146659910563,
          6.18469472929718,
          6.49640414763472,
          6.14414715653525,
          6.32424295805207,
          6.51783191224781,
          6.59412180734712,
          6.82647776313253,
          6.76054992596064,
          6.56367025512183,
          6.2148680033328,
          6.20559681909671,
          6.22669126292496,
          6.21526237030006,
          6.22886440279749,
          6.35584148646963,
          6.75150889441514,
          6.67022406576548,
          6.69160611351885,
          6.55850270619655,
          6.54399971535196,
          6.44523895841142,
          6.17482275965749,
          5.87041921547399,
          5.91743598639147,
          6.04615736099531,
          6.49049906407012,
          6.6052157884769,
          7.02719212128614,
          7.01802023359661,
          7.26711625029086,
          7.07043242729284,
          7.03071987813846,
          6.68082619548636,
          6.40338311521428,
          6.20041273004282,
          6.3693701245488,
          6.77134859567336,
          7.04022894967687,
          7.07797797342019,
          7.32634479060106,
          7.31251935796547,
          7.21677849399046,
          6.90759467140387,
          6.99529697912191,
          6.9846973947991,
          6.70391872194867,
          6.51265321301996,
          6.82543744457195,
          7.01005321207913,
          7.37608758097555,
          6.99379394915442,
          7.38144649507139,
          7.51371449296461,
          7.85345846110525,
          7.71907110790481,
          7.47029051652631,
          7.41190682990658,
          7.31112750211271,
          7.14646331538882,
          7.12957217237629,
          7.03427790762519,
          7.23627924029012,
          7.09633774120543,
          7.23228019995761,
          7.25381263032265,
          7.54864107966464,
          7.57180798614926,
          7.33729733978619,
          7.14107980927854,
          6.96030829389409,
          7.06316908774974,
          7.44307432957889,
          7.81051929683025,
          8.22850909736166,
          9.00185558449115,
          11.2069328334799,
          12.2178596801278,
          13.0912163961439,
          12.907461467072,
          12.3482906833201,
          11.5770387601212,
          10.7580229772555,
          10.2863187490442,
          10.2271608907612,
          10.3045213361839,
          10.3538096642081,
          10.2443671084746,
          10.0373014511912,
          9.49648821704366,
          8.93328920275996,
          8.54756604116357,
          8.40561115529873,
          8.07660050698593,
          7.52764905527409,
          7.18989344789049,
          7.27146481975608,
          7.49852192154088,
          7.79786516887049,
          7.74749317658252,
          7.80397975787498,
          7.8114737505625,
          7.91881154493063,
          7.92939976508672,
          8.04002440663443,
          7.96838059882076,
          7.94882313558742,
          7.86274883081298,
          8.03724430266165,
          8.3676406179058,
          8.80847876093607,
          8.65970887974115,
          8.52473770297142,
          8.52758465277625,
          8.7722140467169,
          8.99565128307727,
          8.9130085719371,
          8.88646907866272,
          8.73241213375601,
          8.47563934747287,
          8.43563107851766,
          8.50425671856263,
          null,
          null,
          null,
          null,
          null
         ],
         "yaxis": "y"
        },
        {
         "hovertemplate": "variable=Tasa ajustada DEF2024<br>Date=%{x}<br>value=%{y}<extra></extra>",
         "legendgroup": "Tasa ajustada DEF2024",
         "line": {
          "color": "#ab63fa",
          "dash": "solid"
         },
         "marker": {
          "symbol": "circle"
         },
         "mode": "lines+markers",
         "name": "Tasa ajustada DEF2024",
         "orientation": "v",
         "showlegend": true,
         "type": "scatter",
         "x": [
          "2010-08-01T00:00:00",
          "2010-09-01T00:00:00",
          "2010-10-01T00:00:00",
          "2010-11-01T00:00:00",
          "2010-12-01T00:00:00",
          "2011-01-01T00:00:00",
          "2011-02-01T00:00:00",
          "2011-03-01T00:00:00",
          "2011-04-01T00:00:00",
          "2011-05-01T00:00:00",
          "2011-06-01T00:00:00",
          "2011-07-01T00:00:00",
          "2011-08-01T00:00:00",
          "2011-09-01T00:00:00",
          "2011-10-01T00:00:00",
          "2011-11-01T00:00:00",
          "2011-12-01T00:00:00",
          "2012-01-01T00:00:00",
          "2012-02-01T00:00:00",
          "2012-03-01T00:00:00",
          "2012-04-01T00:00:00",
          "2012-05-01T00:00:00",
          "2012-06-01T00:00:00",
          "2012-07-01T00:00:00",
          "2012-08-01T00:00:00",
          "2012-09-01T00:00:00",
          "2012-10-01T00:00:00",
          "2012-11-01T00:00:00",
          "2012-12-01T00:00:00",
          "2013-01-01T00:00:00",
          "2013-02-01T00:00:00",
          "2013-03-01T00:00:00",
          "2013-04-01T00:00:00",
          "2013-05-01T00:00:00",
          "2013-06-01T00:00:00",
          "2013-07-01T00:00:00",
          "2013-08-01T00:00:00",
          "2013-09-01T00:00:00",
          "2013-10-01T00:00:00",
          "2013-11-01T00:00:00",
          "2013-12-01T00:00:00",
          "2014-01-01T00:00:00",
          "2014-02-01T00:00:00",
          "2014-03-01T00:00:00",
          "2014-04-01T00:00:00",
          "2014-05-01T00:00:00",
          "2014-06-01T00:00:00",
          "2014-07-01T00:00:00",
          "2014-08-01T00:00:00",
          "2014-09-01T00:00:00",
          "2014-10-01T00:00:00",
          "2014-11-01T00:00:00",
          "2014-12-01T00:00:00",
          "2015-01-01T00:00:00",
          "2015-02-01T00:00:00",
          "2015-03-01T00:00:00",
          "2015-04-01T00:00:00",
          "2015-05-01T00:00:00",
          "2015-06-01T00:00:00",
          "2015-07-01T00:00:00",
          "2015-08-01T00:00:00",
          "2015-09-01T00:00:00",
          "2015-10-01T00:00:00",
          "2015-11-01T00:00:00",
          "2015-12-01T00:00:00",
          "2016-01-01T00:00:00",
          "2016-02-01T00:00:00",
          "2016-03-01T00:00:00",
          "2016-04-01T00:00:00",
          "2016-05-01T00:00:00",
          "2016-06-01T00:00:00",
          "2016-07-01T00:00:00",
          "2016-08-01T00:00:00",
          "2016-09-01T00:00:00",
          "2016-10-01T00:00:00",
          "2016-11-01T00:00:00",
          "2016-12-01T00:00:00",
          "2017-01-01T00:00:00",
          "2017-02-01T00:00:00",
          "2017-03-01T00:00:00",
          "2017-04-01T00:00:00",
          "2017-05-01T00:00:00",
          "2017-06-01T00:00:00",
          "2017-07-01T00:00:00",
          "2017-08-01T00:00:00",
          "2017-09-01T00:00:00",
          "2017-10-01T00:00:00",
          "2017-11-01T00:00:00",
          "2017-12-01T00:00:00",
          "2018-01-01T00:00:00",
          "2018-02-01T00:00:00",
          "2018-03-01T00:00:00",
          "2018-04-01T00:00:00",
          "2018-05-01T00:00:00",
          "2018-06-01T00:00:00",
          "2018-07-01T00:00:00",
          "2018-08-01T00:00:00",
          "2018-09-01T00:00:00",
          "2018-10-01T00:00:00",
          "2018-11-01T00:00:00",
          "2018-12-01T00:00:00",
          "2019-01-01T00:00:00",
          "2019-02-01T00:00:00",
          "2019-03-01T00:00:00",
          "2019-04-01T00:00:00",
          "2019-05-01T00:00:00",
          "2019-06-01T00:00:00",
          "2019-07-01T00:00:00",
          "2019-08-01T00:00:00",
          "2019-09-01T00:00:00",
          "2019-10-01T00:00:00",
          "2019-11-01T00:00:00",
          "2019-12-01T00:00:00",
          "2020-01-01T00:00:00",
          "2020-02-01T00:00:00",
          "2020-03-01T00:00:00",
          "2020-04-01T00:00:00",
          "2020-05-01T00:00:00",
          "2020-06-01T00:00:00",
          "2020-07-01T00:00:00",
          "2020-08-01T00:00:00",
          "2020-09-01T00:00:00",
          "2020-10-01T00:00:00",
          "2020-11-01T00:00:00",
          "2020-12-01T00:00:00",
          "2021-01-01T00:00:00",
          "2021-02-01T00:00:00",
          "2021-03-01T00:00:00",
          "2021-04-01T00:00:00",
          "2021-05-01T00:00:00",
          "2021-06-01T00:00:00",
          "2021-07-01T00:00:00",
          "2021-08-01T00:00:00",
          "2021-09-01T00:00:00",
          "2021-10-01T00:00:00",
          "2021-11-01T00:00:00",
          "2021-12-01T00:00:00",
          "2022-01-01T00:00:00",
          "2022-02-01T00:00:00",
          "2022-03-01T00:00:00",
          "2022-04-01T00:00:00",
          "2022-05-01T00:00:00",
          "2022-06-01T00:00:00",
          "2022-07-01T00:00:00",
          "2022-08-01T00:00:00",
          "2022-09-01T00:00:00",
          "2022-10-01T00:00:00",
          "2022-11-01T00:00:00",
          "2022-12-01T00:00:00",
          "2023-01-01T00:00:00",
          "2023-02-01T00:00:00",
          "2023-03-01T00:00:00",
          "2023-04-01T00:00:00",
          "2023-05-01T00:00:00",
          "2023-06-01T00:00:00",
          "2023-07-01T00:00:00",
          "2023-08-01T00:00:00",
          "2023-09-01T00:00:00",
          "2023-10-01T00:00:00",
          "2023-11-01T00:00:00",
          "2023-12-01T00:00:00",
          "2024-01-01T00:00:00",
          "2024-02-01T00:00:00",
          "2024-03-01T00:00:00",
          "2024-04-01T00:00:00",
          "2024-05-01T00:00:00",
          "2024-06-01T00:00:00"
         ],
         "xaxis": "x",
         "y": [
          7.93140002475893,
          7.6981808242872,
          7.42672985191058,
          7.53049354480527,
          7.66166118680058,
          7.59617007413185,
          7.46508957467806,
          7.25111336202773,
          7.08307696409514,
          7.14847769924517,
          7.43039646314345,
          7.43326888047636,
          7.45801361647274,
          7.33359614433904,
          7.54777629147595,
          7.11298807030172,
          7.0539621643996,
          6.65412552969995,
          6.72221639211706,
          6.8002242006558,
          6.71932941781573,
          6.68635472321663,
          6.53643054811983,
          6.45113890042597,
          6.43392495052843,
          6.60226758185578,
          6.55522066838569,
          6.51571065536106,
          6.28778660634482,
          6.49631074614044,
          6.38049277496831,
          6.56984596817808,
          6.32898328595104,
          6.14378649147053,
          5.73852701148014,
          5.74483876349303,
          5.71531264064119,
          5.87890817248904,
          6.05789752205221,
          6.06599395899792,
          6.42079398032548,
          6.33794303806764,
          6.4808012872191,
          6.17502998017738,
          6.10666110208839,
          6.34728104331243,
          6.3858722807162,
          6.6787390050707,
          6.58871508186112,
          6.49506032026941,
          6.43489065967868,
          6.5661891829063,
          6.47620287250117,
          6.41666309153275,
          6.20511588420776,
          6.37359918101185,
          6.48927052309183,
          6.46154846715847,
          6.43616705733441,
          6.39482424012267,
          6.370836187965,
          6.41641593576302,
          6.41671525056555,
          6.24557906926702,
          6.17973322357348,
          6.24735696619195,
          6.46220776792728,
          6.62828761531378,
          6.76122288252603,
          6.78022306941809,
          6.94232058806572,
          6.88754102880205,
          6.85739093997539,
          6.70002584031415,
          6.67305506262791,
          6.62833126176289,
          6.66433352666381,
          6.96754167396076,
          6.9701526586846,
          7.09761590652942,
          7.04643875499172,
          7.08448649800472,
          6.8749420612714,
          6.72124327275667,
          6.84508106815805,
          7.0666158592222,
          7.00486062786061,
          6.96216281812796,
          7.08715861425168,
          7.17244558862481,
          7.250378640706,
          6.98039448726683,
          7.11100808146231,
          7.30930346372575,
          7.49043879781418,
          7.53049171086982,
          7.33468520564611,
          7.50575651730283,
          7.63191235270054,
          7.64485047670288,
          7.39740789568585,
          7.14633138376001,
          7.08569956405602,
          7.05515901492665,
          6.99671306481175,
          7.0949787070246,
          7.22685012674549,
          7.3888776773397,
          7.2440280027708,
          7.24238290847366,
          7.26670885346623,
          7.51712351784279,
          7.67641040598369,
          7.9041874499523,
          8.01871607517287,
          8.91534582181897,
          10.923962397707,
          12.0012653011383,
          12.5950437960574,
          12.5492817294669,
          12.1470499244232,
          11.6288173582052,
          11.1574512487547,
          10.9108522845952,
          10.6305767622977,
          10.460197693246,
          10.1203056472602,
          10.1075843554123,
          9.81669447223843,
          9.37666391597652,
          8.64524370934484,
          8.32787993658301,
          8.29605529978561,
          8.10103799127385,
          7.78449735442054,
          7.61342110005545,
          7.57389988642499,
          7.61199056159974,
          7.59676148215448,
          7.59372030834509,
          7.64880634106637,
          7.72776866998202,
          7.70761713872658,
          7.75301466456129,
          7.9578528654899,
          7.97987406663462,
          8.19324435544827,
          8.30306504242827,
          8.36765979335406,
          8.48966596933717,
          8.57915419295192,
          8.46905839018557,
          8.37835926547697,
          8.44114535565711,
          8.57593952278567,
          8.82475486926003,
          8.8297331261468,
          8.87579198829877,
          8.97304451764405,
          8.92423737786324,
          8.76673765005962,
          8.63246754338803,
          null,
          null,
          null,
          null,
          null
         ],
         "yaxis": "y"
        }
       ],
       "layout": {
        "legend": {
         "title": {
          "text": "variable"
         },
         "tracegroupgap": 0
        },
        "template": {
         "data": {
          "bar": [
           {
            "error_x": {
             "color": "#2a3f5f"
            },
            "error_y": {
             "color": "#2a3f5f"
            },
            "marker": {
             "line": {
              "color": "#E5ECF6",
              "width": 0.5
             },
             "pattern": {
              "fillmode": "overlay",
              "size": 10,
              "solidity": 0.2
             }
            },
            "type": "bar"
           }
          ],
          "barpolar": [
           {
            "marker": {
             "line": {
              "color": "#E5ECF6",
              "width": 0.5
             },
             "pattern": {
              "fillmode": "overlay",
              "size": 10,
              "solidity": 0.2
             }
            },
            "type": "barpolar"
           }
          ],
          "carpet": [
           {
            "aaxis": {
             "endlinecolor": "#2a3f5f",
             "gridcolor": "white",
             "linecolor": "white",
             "minorgridcolor": "white",
             "startlinecolor": "#2a3f5f"
            },
            "baxis": {
             "endlinecolor": "#2a3f5f",
             "gridcolor": "white",
             "linecolor": "white",
             "minorgridcolor": "white",
             "startlinecolor": "#2a3f5f"
            },
            "type": "carpet"
           }
          ],
          "choropleth": [
           {
            "colorbar": {
             "outlinewidth": 0,
             "ticks": ""
            },
            "type": "choropleth"
           }
          ],
          "contour": [
           {
            "colorbar": {
             "outlinewidth": 0,
             "ticks": ""
            },
            "colorscale": [
             [
              0,
              "#0d0887"
             ],
             [
              0.1111111111111111,
              "#46039f"
             ],
             [
              0.2222222222222222,
              "#7201a8"
             ],
             [
              0.3333333333333333,
              "#9c179e"
             ],
             [
              0.4444444444444444,
              "#bd3786"
             ],
             [
              0.5555555555555556,
              "#d8576b"
             ],
             [
              0.6666666666666666,
              "#ed7953"
             ],
             [
              0.7777777777777778,
              "#fb9f3a"
             ],
             [
              0.8888888888888888,
              "#fdca26"
             ],
             [
              1,
              "#f0f921"
             ]
            ],
            "type": "contour"
           }
          ],
          "contourcarpet": [
           {
            "colorbar": {
             "outlinewidth": 0,
             "ticks": ""
            },
            "type": "contourcarpet"
           }
          ],
          "heatmap": [
           {
            "colorbar": {
             "outlinewidth": 0,
             "ticks": ""
            },
            "colorscale": [
             [
              0,
              "#0d0887"
             ],
             [
              0.1111111111111111,
              "#46039f"
             ],
             [
              0.2222222222222222,
              "#7201a8"
             ],
             [
              0.3333333333333333,
              "#9c179e"
             ],
             [
              0.4444444444444444,
              "#bd3786"
             ],
             [
              0.5555555555555556,
              "#d8576b"
             ],
             [
              0.6666666666666666,
              "#ed7953"
             ],
             [
              0.7777777777777778,
              "#fb9f3a"
             ],
             [
              0.8888888888888888,
              "#fdca26"
             ],
             [
              1,
              "#f0f921"
             ]
            ],
            "type": "heatmap"
           }
          ],
          "heatmapgl": [
           {
            "colorbar": {
             "outlinewidth": 0,
             "ticks": ""
            },
            "colorscale": [
             [
              0,
              "#0d0887"
             ],
             [
              0.1111111111111111,
              "#46039f"
             ],
             [
              0.2222222222222222,
              "#7201a8"
             ],
             [
              0.3333333333333333,
              "#9c179e"
             ],
             [
              0.4444444444444444,
              "#bd3786"
             ],
             [
              0.5555555555555556,
              "#d8576b"
             ],
             [
              0.6666666666666666,
              "#ed7953"
             ],
             [
              0.7777777777777778,
              "#fb9f3a"
             ],
             [
              0.8888888888888888,
              "#fdca26"
             ],
             [
              1,
              "#f0f921"
             ]
            ],
            "type": "heatmapgl"
           }
          ],
          "histogram": [
           {
            "marker": {
             "pattern": {
              "fillmode": "overlay",
              "size": 10,
              "solidity": 0.2
             }
            },
            "type": "histogram"
           }
          ],
          "histogram2d": [
           {
            "colorbar": {
             "outlinewidth": 0,
             "ticks": ""
            },
            "colorscale": [
             [
              0,
              "#0d0887"
             ],
             [
              0.1111111111111111,
              "#46039f"
             ],
             [
              0.2222222222222222,
              "#7201a8"
             ],
             [
              0.3333333333333333,
              "#9c179e"
             ],
             [
              0.4444444444444444,
              "#bd3786"
             ],
             [
              0.5555555555555556,
              "#d8576b"
             ],
             [
              0.6666666666666666,
              "#ed7953"
             ],
             [
              0.7777777777777778,
              "#fb9f3a"
             ],
             [
              0.8888888888888888,
              "#fdca26"
             ],
             [
              1,
              "#f0f921"
             ]
            ],
            "type": "histogram2d"
           }
          ],
          "histogram2dcontour": [
           {
            "colorbar": {
             "outlinewidth": 0,
             "ticks": ""
            },
            "colorscale": [
             [
              0,
              "#0d0887"
             ],
             [
              0.1111111111111111,
              "#46039f"
             ],
             [
              0.2222222222222222,
              "#7201a8"
             ],
             [
              0.3333333333333333,
              "#9c179e"
             ],
             [
              0.4444444444444444,
              "#bd3786"
             ],
             [
              0.5555555555555556,
              "#d8576b"
             ],
             [
              0.6666666666666666,
              "#ed7953"
             ],
             [
              0.7777777777777778,
              "#fb9f3a"
             ],
             [
              0.8888888888888888,
              "#fdca26"
             ],
             [
              1,
              "#f0f921"
             ]
            ],
            "type": "histogram2dcontour"
           }
          ],
          "mesh3d": [
           {
            "colorbar": {
             "outlinewidth": 0,
             "ticks": ""
            },
            "type": "mesh3d"
           }
          ],
          "parcoords": [
           {
            "line": {
             "colorbar": {
              "outlinewidth": 0,
              "ticks": ""
             }
            },
            "type": "parcoords"
           }
          ],
          "pie": [
           {
            "automargin": true,
            "type": "pie"
           }
          ],
          "scatter": [
           {
            "fillpattern": {
             "fillmode": "overlay",
             "size": 10,
             "solidity": 0.2
            },
            "type": "scatter"
           }
          ],
          "scatter3d": [
           {
            "line": {
             "colorbar": {
              "outlinewidth": 0,
              "ticks": ""
             }
            },
            "marker": {
             "colorbar": {
              "outlinewidth": 0,
              "ticks": ""
             }
            },
            "type": "scatter3d"
           }
          ],
          "scattercarpet": [
           {
            "marker": {
             "colorbar": {
              "outlinewidth": 0,
              "ticks": ""
             }
            },
            "type": "scattercarpet"
           }
          ],
          "scattergeo": [
           {
            "marker": {
             "colorbar": {
              "outlinewidth": 0,
              "ticks": ""
             }
            },
            "type": "scattergeo"
           }
          ],
          "scattergl": [
           {
            "marker": {
             "colorbar": {
              "outlinewidth": 0,
              "ticks": ""
             }
            },
            "type": "scattergl"
           }
          ],
          "scattermapbox": [
           {
            "marker": {
             "colorbar": {
              "outlinewidth": 0,
              "ticks": ""
             }
            },
            "type": "scattermapbox"
           }
          ],
          "scatterpolar": [
           {
            "marker": {
             "colorbar": {
              "outlinewidth": 0,
              "ticks": ""
             }
            },
            "type": "scatterpolar"
           }
          ],
          "scatterpolargl": [
           {
            "marker": {
             "colorbar": {
              "outlinewidth": 0,
              "ticks": ""
             }
            },
            "type": "scatterpolargl"
           }
          ],
          "scatterternary": [
           {
            "marker": {
             "colorbar": {
              "outlinewidth": 0,
              "ticks": ""
             }
            },
            "type": "scatterternary"
           }
          ],
          "surface": [
           {
            "colorbar": {
             "outlinewidth": 0,
             "ticks": ""
            },
            "colorscale": [
             [
              0,
              "#0d0887"
             ],
             [
              0.1111111111111111,
              "#46039f"
             ],
             [
              0.2222222222222222,
              "#7201a8"
             ],
             [
              0.3333333333333333,
              "#9c179e"
             ],
             [
              0.4444444444444444,
              "#bd3786"
             ],
             [
              0.5555555555555556,
              "#d8576b"
             ],
             [
              0.6666666666666666,
              "#ed7953"
             ],
             [
              0.7777777777777778,
              "#fb9f3a"
             ],
             [
              0.8888888888888888,
              "#fdca26"
             ],
             [
              1,
              "#f0f921"
             ]
            ],
            "type": "surface"
           }
          ],
          "table": [
           {
            "cells": {
             "fill": {
              "color": "#EBF0F8"
             },
             "line": {
              "color": "white"
             }
            },
            "header": {
             "fill": {
              "color": "#C8D4E3"
             },
             "line": {
              "color": "white"
             }
            },
            "type": "table"
           }
          ]
         },
         "layout": {
          "annotationdefaults": {
           "arrowcolor": "#2a3f5f",
           "arrowhead": 0,
           "arrowwidth": 1
          },
          "autotypenumbers": "strict",
          "coloraxis": {
           "colorbar": {
            "outlinewidth": 0,
            "ticks": ""
           }
          },
          "colorscale": {
           "diverging": [
            [
             0,
             "#8e0152"
            ],
            [
             0.1,
             "#c51b7d"
            ],
            [
             0.2,
             "#de77ae"
            ],
            [
             0.3,
             "#f1b6da"
            ],
            [
             0.4,
             "#fde0ef"
            ],
            [
             0.5,
             "#f7f7f7"
            ],
            [
             0.6,
             "#e6f5d0"
            ],
            [
             0.7,
             "#b8e186"
            ],
            [
             0.8,
             "#7fbc41"
            ],
            [
             0.9,
             "#4d9221"
            ],
            [
             1,
             "#276419"
            ]
           ],
           "sequential": [
            [
             0,
             "#0d0887"
            ],
            [
             0.1111111111111111,
             "#46039f"
            ],
            [
             0.2222222222222222,
             "#7201a8"
            ],
            [
             0.3333333333333333,
             "#9c179e"
            ],
            [
             0.4444444444444444,
             "#bd3786"
            ],
            [
             0.5555555555555556,
             "#d8576b"
            ],
            [
             0.6666666666666666,
             "#ed7953"
            ],
            [
             0.7777777777777778,
             "#fb9f3a"
            ],
            [
             0.8888888888888888,
             "#fdca26"
            ],
            [
             1,
             "#f0f921"
            ]
           ],
           "sequentialminus": [
            [
             0,
             "#0d0887"
            ],
            [
             0.1111111111111111,
             "#46039f"
            ],
            [
             0.2222222222222222,
             "#7201a8"
            ],
            [
             0.3333333333333333,
             "#9c179e"
            ],
            [
             0.4444444444444444,
             "#bd3786"
            ],
            [
             0.5555555555555556,
             "#d8576b"
            ],
            [
             0.6666666666666666,
             "#ed7953"
            ],
            [
             0.7777777777777778,
             "#fb9f3a"
            ],
            [
             0.8888888888888888,
             "#fdca26"
            ],
            [
             1,
             "#f0f921"
            ]
           ]
          },
          "colorway": [
           "#636efa",
           "#EF553B",
           "#00cc96",
           "#ab63fa",
           "#FFA15A",
           "#19d3f3",
           "#FF6692",
           "#B6E880",
           "#FF97FF",
           "#FECB52"
          ],
          "font": {
           "color": "#2a3f5f"
          },
          "geo": {
           "bgcolor": "white",
           "lakecolor": "white",
           "landcolor": "#E5ECF6",
           "showlakes": true,
           "showland": true,
           "subunitcolor": "white"
          },
          "hoverlabel": {
           "align": "left"
          },
          "hovermode": "closest",
          "mapbox": {
           "style": "light"
          },
          "paper_bgcolor": "white",
          "plot_bgcolor": "#E5ECF6",
          "polar": {
           "angularaxis": {
            "gridcolor": "white",
            "linecolor": "white",
            "ticks": ""
           },
           "bgcolor": "#E5ECF6",
           "radialaxis": {
            "gridcolor": "white",
            "linecolor": "white",
            "ticks": ""
           }
          },
          "scene": {
           "xaxis": {
            "backgroundcolor": "#E5ECF6",
            "gridcolor": "white",
            "gridwidth": 2,
            "linecolor": "white",
            "showbackground": true,
            "ticks": "",
            "zerolinecolor": "white"
           },
           "yaxis": {
            "backgroundcolor": "#E5ECF6",
            "gridcolor": "white",
            "gridwidth": 2,
            "linecolor": "white",
            "showbackground": true,
            "ticks": "",
            "zerolinecolor": "white"
           },
           "zaxis": {
            "backgroundcolor": "#E5ECF6",
            "gridcolor": "white",
            "gridwidth": 2,
            "linecolor": "white",
            "showbackground": true,
            "ticks": "",
            "zerolinecolor": "white"
           }
          },
          "shapedefaults": {
           "line": {
            "color": "#2a3f5f"
           }
          },
          "ternary": {
           "aaxis": {
            "gridcolor": "white",
            "linecolor": "white",
            "ticks": ""
           },
           "baxis": {
            "gridcolor": "white",
            "linecolor": "white",
            "ticks": ""
           },
           "bgcolor": "#E5ECF6",
           "caxis": {
            "gridcolor": "white",
            "linecolor": "white",
            "ticks": ""
           }
          },
          "title": {
           "x": 0.05
          },
          "xaxis": {
           "automargin": true,
           "gridcolor": "white",
           "linecolor": "white",
           "ticks": "",
           "title": {
            "standoff": 15
           },
           "zerolinecolor": "white",
           "zerolinewidth": 2
          },
          "yaxis": {
           "automargin": true,
           "gridcolor": "white",
           "linecolor": "white",
           "ticks": "",
           "title": {
            "standoff": 15
           },
           "zerolinecolor": "white",
           "zerolinewidth": 2
          }
         }
        },
        "title": {
         "text": "Tasa de desocupación y sus ajustes estacionales según DEF2020 y DEF2024"
        },
        "xaxis": {
         "anchor": "y",
         "domain": [
          0,
          1
         ],
         "title": {
          "text": "Date"
         }
        },
        "yaxis": {
         "anchor": "x",
         "domain": [
          0,
          1
         ],
         "title": {
          "text": "value"
         }
        }
       }
      }
     },
     "metadata": {},
     "output_type": "display_data"
    }
   ],
   "source": [
    "pdata = data.copy()\n",
    "pdata.columns = pd.Index(map(str.strip, pdata.columns.get_level_values(0) + \" \" + pdata.columns.get_level_values(1)))\n",
    "fig = px.line(pdata, y=[\"Tasa oficial DEF2020\",  \"Tasa ajustada DEF2020\", \"Tasa oficial DEF2024\", \"Tasa ajustada DEF2024\"], \n",
    "              title=\"Tasa de desocupación y sus ajustes estacionales según DEF2020 y DEF2024\",\n",
    "              markers=True)\n",
    "fig"
   ]
  },
  {
   "cell_type": "code",
   "execution_count": 92,
   "metadata": {},
   "outputs": [],
   "source": [
    "from statsmodels.tsa.x13 import x13_arima_analysis as x13\n",
    "from statsmodels.tsa.statespace.sarimax import SARIMAX \n",
    "from os import path\n",
    "\n",
    "x13as_path = path.abspath(\"C:/Program Files/x13as\")\n",
    "x13o = x13(\n",
    "    endog=data.loc[:,(\"Tasa oficial\", \"DEF2024\")].dropna(),\n",
    "    maxorder=(1,1),\n",
    "    forecast_periods=24,\n",
    "    x12path=x13as_path,\n",
    "    outlier=False)"
   ]
  },
  {
   "cell_type": "code",
   "execution_count": 93,
   "metadata": {},
   "outputs": [
    {
     "name": "stdout",
     "output_type": "stream",
     "text": [
      "Date\n",
      "2010-08-01    7.973291\n",
      "2010-09-01    7.639164\n",
      "2010-10-01    7.428068\n",
      "2010-11-01    7.524985\n",
      "2010-12-01    7.645171\n",
      "                ...   \n",
      "2023-09-01    8.873446\n",
      "2023-10-01    9.001044\n",
      "2023-11-01    8.983292\n",
      "2023-12-01    8.833883\n",
      "2024-01-01    8.724162\n",
      "Name: seasadj, Length: 162, dtype: float64\n"
     ]
    }
   ],
   "source": [
    "print(x13o.seasadj)"
   ]
  },
  {
   "cell_type": "code",
   "execution_count": 94,
   "metadata": {},
   "outputs": [
    {
     "data": {
      "text/plain": [
       "np.float64(0.008792990951350228)"
      ]
     },
     "execution_count": 94,
     "metadata": {},
     "output_type": "execute_result"
    }
   ],
   "source": [
    "mean_squared_error(x13o.seasadj, data.loc[:,(\"Tasa ajustada\", \"DEF2024\")].dropna())"
   ]
  },
  {
   "cell_type": "code",
   "execution_count": 95,
   "metadata": {},
   "outputs": [
    {
     "data": {
      "application/vnd.plotly.v1+json": {
       "config": {
        "plotlyServerURL": "https://plot.ly"
       },
       "data": [
        {
         "hovertemplate": "variable=Tasa ajustada DEF2024 INE<br>Date=%{x}<br>value=%{y}<extra></extra>",
         "legendgroup": "Tasa ajustada DEF2024 INE",
         "line": {
          "color": "#636efa",
          "dash": "solid"
         },
         "marker": {
          "symbol": "circle"
         },
         "mode": "lines+markers",
         "name": "Tasa ajustada DEF2024 INE",
         "orientation": "v",
         "showlegend": true,
         "type": "scatter",
         "x": [
          "2010-08-01T00:00:00",
          "2010-09-01T00:00:00",
          "2010-10-01T00:00:00",
          "2010-11-01T00:00:00",
          "2010-12-01T00:00:00",
          "2011-01-01T00:00:00",
          "2011-02-01T00:00:00",
          "2011-03-01T00:00:00",
          "2011-04-01T00:00:00",
          "2011-05-01T00:00:00",
          "2011-06-01T00:00:00",
          "2011-07-01T00:00:00",
          "2011-08-01T00:00:00",
          "2011-09-01T00:00:00",
          "2011-10-01T00:00:00",
          "2011-11-01T00:00:00",
          "2011-12-01T00:00:00",
          "2012-01-01T00:00:00",
          "2012-02-01T00:00:00",
          "2012-03-01T00:00:00",
          "2012-04-01T00:00:00",
          "2012-05-01T00:00:00",
          "2012-06-01T00:00:00",
          "2012-07-01T00:00:00",
          "2012-08-01T00:00:00",
          "2012-09-01T00:00:00",
          "2012-10-01T00:00:00",
          "2012-11-01T00:00:00",
          "2012-12-01T00:00:00",
          "2013-01-01T00:00:00",
          "2013-02-01T00:00:00",
          "2013-03-01T00:00:00",
          "2013-04-01T00:00:00",
          "2013-05-01T00:00:00",
          "2013-06-01T00:00:00",
          "2013-07-01T00:00:00",
          "2013-08-01T00:00:00",
          "2013-09-01T00:00:00",
          "2013-10-01T00:00:00",
          "2013-11-01T00:00:00",
          "2013-12-01T00:00:00",
          "2014-01-01T00:00:00",
          "2014-02-01T00:00:00",
          "2014-03-01T00:00:00",
          "2014-04-01T00:00:00",
          "2014-05-01T00:00:00",
          "2014-06-01T00:00:00",
          "2014-07-01T00:00:00",
          "2014-08-01T00:00:00",
          "2014-09-01T00:00:00",
          "2014-10-01T00:00:00",
          "2014-11-01T00:00:00",
          "2014-12-01T00:00:00",
          "2015-01-01T00:00:00",
          "2015-02-01T00:00:00",
          "2015-03-01T00:00:00",
          "2015-04-01T00:00:00",
          "2015-05-01T00:00:00",
          "2015-06-01T00:00:00",
          "2015-07-01T00:00:00",
          "2015-08-01T00:00:00",
          "2015-09-01T00:00:00",
          "2015-10-01T00:00:00",
          "2015-11-01T00:00:00",
          "2015-12-01T00:00:00",
          "2016-01-01T00:00:00",
          "2016-02-01T00:00:00",
          "2016-03-01T00:00:00",
          "2016-04-01T00:00:00",
          "2016-05-01T00:00:00",
          "2016-06-01T00:00:00",
          "2016-07-01T00:00:00",
          "2016-08-01T00:00:00",
          "2016-09-01T00:00:00",
          "2016-10-01T00:00:00",
          "2016-11-01T00:00:00",
          "2016-12-01T00:00:00",
          "2017-01-01T00:00:00",
          "2017-02-01T00:00:00",
          "2017-03-01T00:00:00",
          "2017-04-01T00:00:00",
          "2017-05-01T00:00:00",
          "2017-06-01T00:00:00",
          "2017-07-01T00:00:00",
          "2017-08-01T00:00:00",
          "2017-09-01T00:00:00",
          "2017-10-01T00:00:00",
          "2017-11-01T00:00:00",
          "2017-12-01T00:00:00",
          "2018-01-01T00:00:00",
          "2018-02-01T00:00:00",
          "2018-03-01T00:00:00",
          "2018-04-01T00:00:00",
          "2018-05-01T00:00:00",
          "2018-06-01T00:00:00",
          "2018-07-01T00:00:00",
          "2018-08-01T00:00:00",
          "2018-09-01T00:00:00",
          "2018-10-01T00:00:00",
          "2018-11-01T00:00:00",
          "2018-12-01T00:00:00",
          "2019-01-01T00:00:00",
          "2019-02-01T00:00:00",
          "2019-03-01T00:00:00",
          "2019-04-01T00:00:00",
          "2019-05-01T00:00:00",
          "2019-06-01T00:00:00",
          "2019-07-01T00:00:00",
          "2019-08-01T00:00:00",
          "2019-09-01T00:00:00",
          "2019-10-01T00:00:00",
          "2019-11-01T00:00:00",
          "2019-12-01T00:00:00",
          "2020-01-01T00:00:00",
          "2020-02-01T00:00:00",
          "2020-03-01T00:00:00",
          "2020-04-01T00:00:00",
          "2020-05-01T00:00:00",
          "2020-06-01T00:00:00",
          "2020-07-01T00:00:00",
          "2020-08-01T00:00:00",
          "2020-09-01T00:00:00",
          "2020-10-01T00:00:00",
          "2020-11-01T00:00:00",
          "2020-12-01T00:00:00",
          "2021-01-01T00:00:00",
          "2021-02-01T00:00:00",
          "2021-03-01T00:00:00",
          "2021-04-01T00:00:00",
          "2021-05-01T00:00:00",
          "2021-06-01T00:00:00",
          "2021-07-01T00:00:00",
          "2021-08-01T00:00:00",
          "2021-09-01T00:00:00",
          "2021-10-01T00:00:00",
          "2021-11-01T00:00:00",
          "2021-12-01T00:00:00",
          "2022-01-01T00:00:00",
          "2022-02-01T00:00:00",
          "2022-03-01T00:00:00",
          "2022-04-01T00:00:00",
          "2022-05-01T00:00:00",
          "2022-06-01T00:00:00",
          "2022-07-01T00:00:00",
          "2022-08-01T00:00:00",
          "2022-09-01T00:00:00",
          "2022-10-01T00:00:00",
          "2022-11-01T00:00:00",
          "2022-12-01T00:00:00",
          "2023-01-01T00:00:00",
          "2023-02-01T00:00:00",
          "2023-03-01T00:00:00",
          "2023-04-01T00:00:00",
          "2023-05-01T00:00:00",
          "2023-06-01T00:00:00",
          "2023-07-01T00:00:00",
          "2023-08-01T00:00:00",
          "2023-09-01T00:00:00",
          "2023-10-01T00:00:00",
          "2023-11-01T00:00:00",
          "2023-12-01T00:00:00",
          "2024-01-01T00:00:00"
         ],
         "xaxis": "x",
         "y": [
          7.93140002475893,
          7.6981808242872,
          7.42672985191058,
          7.53049354480527,
          7.66166118680058,
          7.59617007413185,
          7.46508957467806,
          7.25111336202773,
          7.08307696409514,
          7.14847769924517,
          7.43039646314345,
          7.43326888047636,
          7.45801361647274,
          7.33359614433904,
          7.54777629147595,
          7.11298807030172,
          7.0539621643996,
          6.65412552969995,
          6.72221639211706,
          6.8002242006558,
          6.71932941781573,
          6.68635472321663,
          6.53643054811983,
          6.45113890042597,
          6.43392495052843,
          6.60226758185578,
          6.55522066838569,
          6.51571065536106,
          6.28778660634482,
          6.49631074614044,
          6.38049277496831,
          6.56984596817808,
          6.32898328595104,
          6.14378649147053,
          5.73852701148014,
          5.74483876349303,
          5.71531264064119,
          5.87890817248904,
          6.05789752205221,
          6.06599395899792,
          6.42079398032548,
          6.33794303806764,
          6.4808012872191,
          6.17502998017738,
          6.10666110208839,
          6.34728104331243,
          6.3858722807162,
          6.6787390050707,
          6.58871508186112,
          6.49506032026941,
          6.43489065967868,
          6.5661891829063,
          6.47620287250117,
          6.41666309153275,
          6.20511588420776,
          6.37359918101185,
          6.48927052309183,
          6.46154846715847,
          6.43616705733441,
          6.39482424012267,
          6.370836187965,
          6.41641593576302,
          6.41671525056555,
          6.24557906926702,
          6.17973322357348,
          6.24735696619195,
          6.46220776792728,
          6.62828761531378,
          6.76122288252603,
          6.78022306941809,
          6.94232058806572,
          6.88754102880205,
          6.85739093997539,
          6.70002584031415,
          6.67305506262791,
          6.62833126176289,
          6.66433352666381,
          6.96754167396076,
          6.9701526586846,
          7.09761590652942,
          7.04643875499172,
          7.08448649800472,
          6.8749420612714,
          6.72124327275667,
          6.84508106815805,
          7.0666158592222,
          7.00486062786061,
          6.96216281812796,
          7.08715861425168,
          7.17244558862481,
          7.250378640706,
          6.98039448726683,
          7.11100808146231,
          7.30930346372575,
          7.49043879781418,
          7.53049171086982,
          7.33468520564611,
          7.50575651730283,
          7.63191235270054,
          7.64485047670288,
          7.39740789568585,
          7.14633138376001,
          7.08569956405602,
          7.05515901492665,
          6.99671306481175,
          7.0949787070246,
          7.22685012674549,
          7.3888776773397,
          7.2440280027708,
          7.24238290847366,
          7.26670885346623,
          7.51712351784279,
          7.67641040598369,
          7.9041874499523,
          8.01871607517287,
          8.91534582181897,
          10.923962397707,
          12.0012653011383,
          12.5950437960574,
          12.5492817294669,
          12.1470499244232,
          11.6288173582052,
          11.1574512487547,
          10.9108522845952,
          10.6305767622977,
          10.460197693246,
          10.1203056472602,
          10.1075843554123,
          9.81669447223843,
          9.37666391597652,
          8.64524370934484,
          8.32787993658301,
          8.29605529978561,
          8.10103799127385,
          7.78449735442054,
          7.61342110005545,
          7.57389988642499,
          7.61199056159974,
          7.59676148215448,
          7.59372030834509,
          7.64880634106637,
          7.72776866998202,
          7.70761713872658,
          7.75301466456129,
          7.9578528654899,
          7.97987406663462,
          8.19324435544827,
          8.30306504242827,
          8.36765979335406,
          8.48966596933717,
          8.57915419295192,
          8.46905839018557,
          8.37835926547697,
          8.44114535565711,
          8.57593952278567,
          8.82475486926003,
          8.8297331261468,
          8.87579198829877,
          8.97304451764405,
          8.92423737786324,
          8.76673765005962,
          8.63246754338803
         ],
         "yaxis": "y"
        },
        {
         "hovertemplate": "variable=Tasa ajustada DEF2024 SM<br>Date=%{x}<br>value=%{y}<extra></extra>",
         "legendgroup": "Tasa ajustada DEF2024 SM",
         "line": {
          "color": "#EF553B",
          "dash": "solid"
         },
         "marker": {
          "symbol": "circle"
         },
         "mode": "lines+markers",
         "name": "Tasa ajustada DEF2024 SM",
         "orientation": "v",
         "showlegend": true,
         "type": "scatter",
         "x": [
          "2010-08-01T00:00:00",
          "2010-09-01T00:00:00",
          "2010-10-01T00:00:00",
          "2010-11-01T00:00:00",
          "2010-12-01T00:00:00",
          "2011-01-01T00:00:00",
          "2011-02-01T00:00:00",
          "2011-03-01T00:00:00",
          "2011-04-01T00:00:00",
          "2011-05-01T00:00:00",
          "2011-06-01T00:00:00",
          "2011-07-01T00:00:00",
          "2011-08-01T00:00:00",
          "2011-09-01T00:00:00",
          "2011-10-01T00:00:00",
          "2011-11-01T00:00:00",
          "2011-12-01T00:00:00",
          "2012-01-01T00:00:00",
          "2012-02-01T00:00:00",
          "2012-03-01T00:00:00",
          "2012-04-01T00:00:00",
          "2012-05-01T00:00:00",
          "2012-06-01T00:00:00",
          "2012-07-01T00:00:00",
          "2012-08-01T00:00:00",
          "2012-09-01T00:00:00",
          "2012-10-01T00:00:00",
          "2012-11-01T00:00:00",
          "2012-12-01T00:00:00",
          "2013-01-01T00:00:00",
          "2013-02-01T00:00:00",
          "2013-03-01T00:00:00",
          "2013-04-01T00:00:00",
          "2013-05-01T00:00:00",
          "2013-06-01T00:00:00",
          "2013-07-01T00:00:00",
          "2013-08-01T00:00:00",
          "2013-09-01T00:00:00",
          "2013-10-01T00:00:00",
          "2013-11-01T00:00:00",
          "2013-12-01T00:00:00",
          "2014-01-01T00:00:00",
          "2014-02-01T00:00:00",
          "2014-03-01T00:00:00",
          "2014-04-01T00:00:00",
          "2014-05-01T00:00:00",
          "2014-06-01T00:00:00",
          "2014-07-01T00:00:00",
          "2014-08-01T00:00:00",
          "2014-09-01T00:00:00",
          "2014-10-01T00:00:00",
          "2014-11-01T00:00:00",
          "2014-12-01T00:00:00",
          "2015-01-01T00:00:00",
          "2015-02-01T00:00:00",
          "2015-03-01T00:00:00",
          "2015-04-01T00:00:00",
          "2015-05-01T00:00:00",
          "2015-06-01T00:00:00",
          "2015-07-01T00:00:00",
          "2015-08-01T00:00:00",
          "2015-09-01T00:00:00",
          "2015-10-01T00:00:00",
          "2015-11-01T00:00:00",
          "2015-12-01T00:00:00",
          "2016-01-01T00:00:00",
          "2016-02-01T00:00:00",
          "2016-03-01T00:00:00",
          "2016-04-01T00:00:00",
          "2016-05-01T00:00:00",
          "2016-06-01T00:00:00",
          "2016-07-01T00:00:00",
          "2016-08-01T00:00:00",
          "2016-09-01T00:00:00",
          "2016-10-01T00:00:00",
          "2016-11-01T00:00:00",
          "2016-12-01T00:00:00",
          "2017-01-01T00:00:00",
          "2017-02-01T00:00:00",
          "2017-03-01T00:00:00",
          "2017-04-01T00:00:00",
          "2017-05-01T00:00:00",
          "2017-06-01T00:00:00",
          "2017-07-01T00:00:00",
          "2017-08-01T00:00:00",
          "2017-09-01T00:00:00",
          "2017-10-01T00:00:00",
          "2017-11-01T00:00:00",
          "2017-12-01T00:00:00",
          "2018-01-01T00:00:00",
          "2018-02-01T00:00:00",
          "2018-03-01T00:00:00",
          "2018-04-01T00:00:00",
          "2018-05-01T00:00:00",
          "2018-06-01T00:00:00",
          "2018-07-01T00:00:00",
          "2018-08-01T00:00:00",
          "2018-09-01T00:00:00",
          "2018-10-01T00:00:00",
          "2018-11-01T00:00:00",
          "2018-12-01T00:00:00",
          "2019-01-01T00:00:00",
          "2019-02-01T00:00:00",
          "2019-03-01T00:00:00",
          "2019-04-01T00:00:00",
          "2019-05-01T00:00:00",
          "2019-06-01T00:00:00",
          "2019-07-01T00:00:00",
          "2019-08-01T00:00:00",
          "2019-09-01T00:00:00",
          "2019-10-01T00:00:00",
          "2019-11-01T00:00:00",
          "2019-12-01T00:00:00",
          "2020-01-01T00:00:00",
          "2020-02-01T00:00:00",
          "2020-03-01T00:00:00",
          "2020-04-01T00:00:00",
          "2020-05-01T00:00:00",
          "2020-06-01T00:00:00",
          "2020-07-01T00:00:00",
          "2020-08-01T00:00:00",
          "2020-09-01T00:00:00",
          "2020-10-01T00:00:00",
          "2020-11-01T00:00:00",
          "2020-12-01T00:00:00",
          "2021-01-01T00:00:00",
          "2021-02-01T00:00:00",
          "2021-03-01T00:00:00",
          "2021-04-01T00:00:00",
          "2021-05-01T00:00:00",
          "2021-06-01T00:00:00",
          "2021-07-01T00:00:00",
          "2021-08-01T00:00:00",
          "2021-09-01T00:00:00",
          "2021-10-01T00:00:00",
          "2021-11-01T00:00:00",
          "2021-12-01T00:00:00",
          "2022-01-01T00:00:00",
          "2022-02-01T00:00:00",
          "2022-03-01T00:00:00",
          "2022-04-01T00:00:00",
          "2022-05-01T00:00:00",
          "2022-06-01T00:00:00",
          "2022-07-01T00:00:00",
          "2022-08-01T00:00:00",
          "2022-09-01T00:00:00",
          "2022-10-01T00:00:00",
          "2022-11-01T00:00:00",
          "2022-12-01T00:00:00",
          "2023-01-01T00:00:00",
          "2023-02-01T00:00:00",
          "2023-03-01T00:00:00",
          "2023-04-01T00:00:00",
          "2023-05-01T00:00:00",
          "2023-06-01T00:00:00",
          "2023-07-01T00:00:00",
          "2023-08-01T00:00:00",
          "2023-09-01T00:00:00",
          "2023-10-01T00:00:00",
          "2023-11-01T00:00:00",
          "2023-12-01T00:00:00",
          "2024-01-01T00:00:00"
         ],
         "xaxis": "x",
         "y": [
          7.97329084376296,
          7.63916432047103,
          7.4280681179484,
          7.52498504632988,
          7.64517118378448,
          7.60282375756973,
          7.47916703627979,
          7.22856781658923,
          7.09069083912322,
          7.10620004843482,
          7.41460998958233,
          7.47158097975372,
          7.48033468424551,
          7.27971726157911,
          7.54268841453986,
          7.11812981882603,
          7.04715081604574,
          6.67484917724208,
          6.73858883537355,
          6.78765405907856,
          6.72348832648216,
          6.66531371137465,
          6.52726689867407,
          6.48140799854797,
          6.44914258855537,
          6.57454239353517,
          6.54404064911559,
          6.52166829912131,
          6.31751798355899,
          6.51853739871609,
          6.37782817765816,
          6.56392265874588,
          6.30671863929866,
          6.12541982786484,
          5.73286307721311,
          5.77184139082944,
          5.74098706353835,
          5.8720097015253,
          6.04953828521048,
          6.08912458453474,
          6.48171079378803,
          6.35835774870025,
          6.45943891200417,
          6.16107500340993,
          6.06960375118223,
          6.33832726404373,
          6.38157632436236,
          6.69662332431654,
          6.62154274397258,
          6.50753877815248,
          6.42723903445795,
          6.58923644270074,
          6.52100449601923,
          6.40749140235264,
          6.18972266584301,
          6.38212132834354,
          6.4637564300217,
          6.44814199916498,
          6.4191545163165,
          6.38178579961053,
          6.40442013540128,
          6.42254030905935,
          6.41564086261602,
          6.27615897685484,
          6.23303485371726,
          6.24921413983559,
          6.45184134486646,
          6.63876199313555,
          6.73247181034715,
          6.75472920990732,
          6.90550937500057,
          6.81521622778494,
          6.8767912655238,
          6.68505988150148,
          6.67741384629044,
          6.6683176151406,
          6.7365022424195,
          7.03706468474839,
          6.99959893126473,
          7.12022186397213,
          7.0287273089179,
          7.01851567043442,
          6.79794594936627,
          6.59390890203056,
          6.83329348021694,
          7.0170684445918,
          7.02193605838967,
          7.03004806760486,
          7.25127777449153,
          7.3071926887141,
          7.34586784673528,
          7.0137615265214,
          7.08600192342862,
          7.19682752299064,
          7.37640006461362,
          7.32686700302257,
          7.29277070772596,
          7.45689120508101,
          7.68282598033987,
          7.73641764782468,
          7.58865645412685,
          7.33903208877728,
          7.20038945291573,
          7.09729062922929,
          6.94726328006768,
          6.94835377208279,
          7.09951328451669,
          7.17807692544924,
          7.15430902413984,
          7.19299219437724,
          7.32523258859437,
          7.63834638235487,
          7.92014817559051,
          8.13136666097392,
          8.18726947347827,
          8.9565186074735,
          10.7732528594585,
          11.728472958366,
          12.3971401500857,
          12.2776107365754,
          12.0366132290052,
          11.6468047396878,
          11.2938345988681,
          11.0850378673437,
          10.8625625892278,
          10.6976648553031,
          10.2947949107991,
          10.1566387905179,
          9.65754268480508,
          9.1495014186738,
          8.52480375083441,
          8.18140388828596,
          8.19528206301104,
          8.11355096574758,
          7.86328619929437,
          7.70891602765174,
          7.69702422621095,
          7.74529202559142,
          7.75235433743926,
          7.66319053458889,
          7.52114324440801,
          7.55421164619061,
          7.62593980208856,
          7.65101765903402,
          7.85339190057939,
          7.97655457933574,
          8.24873692498246,
          8.38373987785017,
          8.4627143952523,
          8.60625724363638,
          8.7462157017534,
          8.57983459553096,
          8.24121102306115,
          8.27849674103587,
          8.49287295100251,
          8.73873692607129,
          8.72868432057491,
          8.87344625987075,
          9.00104369401138,
          8.98329216487398,
          8.83388257754713,
          8.72416165277005
         ],
         "yaxis": "y"
        },
        {
         "hovertemplate": "variable=Tasa oficial DEF2024 INE<br>Date=%{x}<br>value=%{y}<extra></extra>",
         "legendgroup": "Tasa oficial DEF2024 INE",
         "line": {
          "color": "#00cc96",
          "dash": "solid"
         },
         "marker": {
          "symbol": "circle"
         },
         "mode": "lines+markers",
         "name": "Tasa oficial DEF2024 INE",
         "orientation": "v",
         "showlegend": true,
         "type": "scatter",
         "x": [
          "2010-08-01T00:00:00",
          "2010-09-01T00:00:00",
          "2010-10-01T00:00:00",
          "2010-11-01T00:00:00",
          "2010-12-01T00:00:00",
          "2011-01-01T00:00:00",
          "2011-02-01T00:00:00",
          "2011-03-01T00:00:00",
          "2011-04-01T00:00:00",
          "2011-05-01T00:00:00",
          "2011-06-01T00:00:00",
          "2011-07-01T00:00:00",
          "2011-08-01T00:00:00",
          "2011-09-01T00:00:00",
          "2011-10-01T00:00:00",
          "2011-11-01T00:00:00",
          "2011-12-01T00:00:00",
          "2012-01-01T00:00:00",
          "2012-02-01T00:00:00",
          "2012-03-01T00:00:00",
          "2012-04-01T00:00:00",
          "2012-05-01T00:00:00",
          "2012-06-01T00:00:00",
          "2012-07-01T00:00:00",
          "2012-08-01T00:00:00",
          "2012-09-01T00:00:00",
          "2012-10-01T00:00:00",
          "2012-11-01T00:00:00",
          "2012-12-01T00:00:00",
          "2013-01-01T00:00:00",
          "2013-02-01T00:00:00",
          "2013-03-01T00:00:00",
          "2013-04-01T00:00:00",
          "2013-05-01T00:00:00",
          "2013-06-01T00:00:00",
          "2013-07-01T00:00:00",
          "2013-08-01T00:00:00",
          "2013-09-01T00:00:00",
          "2013-10-01T00:00:00",
          "2013-11-01T00:00:00",
          "2013-12-01T00:00:00",
          "2014-01-01T00:00:00",
          "2014-02-01T00:00:00",
          "2014-03-01T00:00:00",
          "2014-04-01T00:00:00",
          "2014-05-01T00:00:00",
          "2014-06-01T00:00:00",
          "2014-07-01T00:00:00",
          "2014-08-01T00:00:00",
          "2014-09-01T00:00:00",
          "2014-10-01T00:00:00",
          "2014-11-01T00:00:00",
          "2014-12-01T00:00:00",
          "2015-01-01T00:00:00",
          "2015-02-01T00:00:00",
          "2015-03-01T00:00:00",
          "2015-04-01T00:00:00",
          "2015-05-01T00:00:00",
          "2015-06-01T00:00:00",
          "2015-07-01T00:00:00",
          "2015-08-01T00:00:00",
          "2015-09-01T00:00:00",
          "2015-10-01T00:00:00",
          "2015-11-01T00:00:00",
          "2015-12-01T00:00:00",
          "2016-01-01T00:00:00",
          "2016-02-01T00:00:00",
          "2016-03-01T00:00:00",
          "2016-04-01T00:00:00",
          "2016-05-01T00:00:00",
          "2016-06-01T00:00:00",
          "2016-07-01T00:00:00",
          "2016-08-01T00:00:00",
          "2016-09-01T00:00:00",
          "2016-10-01T00:00:00",
          "2016-11-01T00:00:00",
          "2016-12-01T00:00:00",
          "2017-01-01T00:00:00",
          "2017-02-01T00:00:00",
          "2017-03-01T00:00:00",
          "2017-04-01T00:00:00",
          "2017-05-01T00:00:00",
          "2017-06-01T00:00:00",
          "2017-07-01T00:00:00",
          "2017-08-01T00:00:00",
          "2017-09-01T00:00:00",
          "2017-10-01T00:00:00",
          "2017-11-01T00:00:00",
          "2017-12-01T00:00:00",
          "2018-01-01T00:00:00",
          "2018-02-01T00:00:00",
          "2018-03-01T00:00:00",
          "2018-04-01T00:00:00",
          "2018-05-01T00:00:00",
          "2018-06-01T00:00:00",
          "2018-07-01T00:00:00",
          "2018-08-01T00:00:00",
          "2018-09-01T00:00:00",
          "2018-10-01T00:00:00",
          "2018-11-01T00:00:00",
          "2018-12-01T00:00:00",
          "2019-01-01T00:00:00",
          "2019-02-01T00:00:00",
          "2019-03-01T00:00:00",
          "2019-04-01T00:00:00",
          "2019-05-01T00:00:00",
          "2019-06-01T00:00:00",
          "2019-07-01T00:00:00",
          "2019-08-01T00:00:00",
          "2019-09-01T00:00:00",
          "2019-10-01T00:00:00",
          "2019-11-01T00:00:00",
          "2019-12-01T00:00:00",
          "2020-01-01T00:00:00",
          "2020-02-01T00:00:00",
          "2020-03-01T00:00:00",
          "2020-04-01T00:00:00",
          "2020-05-01T00:00:00",
          "2020-06-01T00:00:00",
          "2020-07-01T00:00:00",
          "2020-08-01T00:00:00",
          "2020-09-01T00:00:00",
          "2020-10-01T00:00:00",
          "2020-11-01T00:00:00",
          "2020-12-01T00:00:00",
          "2021-01-01T00:00:00",
          "2021-02-01T00:00:00",
          "2021-03-01T00:00:00",
          "2021-04-01T00:00:00",
          "2021-05-01T00:00:00",
          "2021-06-01T00:00:00",
          "2021-07-01T00:00:00",
          "2021-08-01T00:00:00",
          "2021-09-01T00:00:00",
          "2021-10-01T00:00:00",
          "2021-11-01T00:00:00",
          "2021-12-01T00:00:00",
          "2022-01-01T00:00:00",
          "2022-02-01T00:00:00",
          "2022-03-01T00:00:00",
          "2022-04-01T00:00:00",
          "2022-05-01T00:00:00",
          "2022-06-01T00:00:00",
          "2022-07-01T00:00:00",
          "2022-08-01T00:00:00",
          "2022-09-01T00:00:00",
          "2022-10-01T00:00:00",
          "2022-11-01T00:00:00",
          "2022-12-01T00:00:00",
          "2023-01-01T00:00:00",
          "2023-02-01T00:00:00",
          "2023-03-01T00:00:00",
          "2023-04-01T00:00:00",
          "2023-05-01T00:00:00",
          "2023-06-01T00:00:00",
          "2023-07-01T00:00:00",
          "2023-08-01T00:00:00",
          "2023-09-01T00:00:00",
          "2023-10-01T00:00:00",
          "2023-11-01T00:00:00",
          "2023-12-01T00:00:00",
          "2024-01-01T00:00:00"
         ],
         "xaxis": "x",
         "y": [
          8.12456869233612,
          7.81469670846547,
          7.22505043720396,
          7.21012888909704,
          7.44176171881792,
          7.44276936466521,
          7.54811655809629,
          7.21111186020504,
          7.30476345188047,
          7.21225539704833,
          7.55336930147756,
          7.51464947076455,
          7.6263811757401,
          7.43669098969824,
          7.3319133368942,
          6.81460966712838,
          6.85391567654705,
          6.52837280374239,
          6.79730289611481,
          6.7636742906146,
          6.94183938422579,
          6.7812921942008,
          6.66496694148344,
          6.53842898320672,
          6.57629539453957,
          6.69493332953463,
          6.35972406040434,
          6.22465568798724,
          6.11954959269305,
          6.35476193859812,
          6.42610890838452,
          6.53901004146644,
          6.54123568131983,
          6.26054069353582,
          5.88315198084059,
          5.8489625959424,
          5.86049669136386,
          5.95266442510956,
          5.86483687567265,
          5.78173196892817,
          6.23146659910563,
          6.18469472929718,
          6.49640414763472,
          6.14414715653525,
          6.32424295805207,
          6.51783191224781,
          6.59412180734712,
          6.82647776313253,
          6.76054992596064,
          6.56367025512183,
          6.2148680033328,
          6.20559681909671,
          6.22669126292496,
          6.21526237030006,
          6.22886440279749,
          6.35584148646963,
          6.75150889441514,
          6.67022406576548,
          6.69160611351885,
          6.55850270619655,
          6.54399971535196,
          6.44523895841142,
          6.17482275965749,
          5.87041921547399,
          5.91743598639147,
          6.04615736099531,
          6.49049906407012,
          6.6052157884769,
          7.02719212128614,
          7.01802023359661,
          7.26711625029086,
          7.07043242729284,
          7.03071987813846,
          6.68082619548636,
          6.40338311521428,
          6.20041273004282,
          6.3693701245488,
          6.77134859567336,
          7.04022894967687,
          7.07797797342019,
          7.32634479060106,
          7.31251935796547,
          7.21677849399046,
          6.90759467140387,
          6.99529697912191,
          6.9846973947991,
          6.70391872194867,
          6.51265321301996,
          6.82543744457195,
          7.01005321207913,
          7.37608758097555,
          6.99379394915442,
          7.38144649507139,
          7.51371449296461,
          7.85345846110525,
          7.71907110790481,
          7.47029051652631,
          7.41190682990658,
          7.31112750211271,
          7.14646331538882,
          7.12957217237629,
          7.03427790762519,
          7.23627924029012,
          7.09633774120543,
          7.23228019995761,
          7.25381263032265,
          7.54864107966464,
          7.57180798614926,
          7.33729733978619,
          7.14107980927854,
          6.96030829389409,
          7.06316908774974,
          7.44307432957889,
          7.81051929683025,
          8.22850909736166,
          9.00185558449115,
          11.2069328334799,
          12.2178596801278,
          13.0912163961439,
          12.907461467072,
          12.3482906833201,
          11.5770387601212,
          10.7580229772555,
          10.2863187490442,
          10.2271608907612,
          10.3045213361839,
          10.3538096642081,
          10.2443671084746,
          10.0373014511912,
          9.49648821704366,
          8.93328920275996,
          8.54756604116357,
          8.40561115529873,
          8.07660050698593,
          7.52764905527409,
          7.18989344789049,
          7.27146481975608,
          7.49852192154088,
          7.79786516887049,
          7.74749317658252,
          7.80397975787498,
          7.8114737505625,
          7.91881154493063,
          7.92939976508672,
          8.04002440663443,
          7.96838059882076,
          7.94882313558742,
          7.86274883081298,
          8.03724430266165,
          8.3676406179058,
          8.80847876093607,
          8.65970887974115,
          8.52473770297142,
          8.52758465277625,
          8.7722140467169,
          8.99565128307727,
          8.9130085719371,
          8.88646907866272,
          8.73241213375601,
          8.47563934747287,
          8.43563107851766,
          8.50425671856263
         ],
         "yaxis": "y"
        }
       ],
       "layout": {
        "legend": {
         "title": {
          "text": "variable"
         },
         "tracegroupgap": 0
        },
        "template": {
         "data": {
          "bar": [
           {
            "error_x": {
             "color": "#2a3f5f"
            },
            "error_y": {
             "color": "#2a3f5f"
            },
            "marker": {
             "line": {
              "color": "#E5ECF6",
              "width": 0.5
             },
             "pattern": {
              "fillmode": "overlay",
              "size": 10,
              "solidity": 0.2
             }
            },
            "type": "bar"
           }
          ],
          "barpolar": [
           {
            "marker": {
             "line": {
              "color": "#E5ECF6",
              "width": 0.5
             },
             "pattern": {
              "fillmode": "overlay",
              "size": 10,
              "solidity": 0.2
             }
            },
            "type": "barpolar"
           }
          ],
          "carpet": [
           {
            "aaxis": {
             "endlinecolor": "#2a3f5f",
             "gridcolor": "white",
             "linecolor": "white",
             "minorgridcolor": "white",
             "startlinecolor": "#2a3f5f"
            },
            "baxis": {
             "endlinecolor": "#2a3f5f",
             "gridcolor": "white",
             "linecolor": "white",
             "minorgridcolor": "white",
             "startlinecolor": "#2a3f5f"
            },
            "type": "carpet"
           }
          ],
          "choropleth": [
           {
            "colorbar": {
             "outlinewidth": 0,
             "ticks": ""
            },
            "type": "choropleth"
           }
          ],
          "contour": [
           {
            "colorbar": {
             "outlinewidth": 0,
             "ticks": ""
            },
            "colorscale": [
             [
              0,
              "#0d0887"
             ],
             [
              0.1111111111111111,
              "#46039f"
             ],
             [
              0.2222222222222222,
              "#7201a8"
             ],
             [
              0.3333333333333333,
              "#9c179e"
             ],
             [
              0.4444444444444444,
              "#bd3786"
             ],
             [
              0.5555555555555556,
              "#d8576b"
             ],
             [
              0.6666666666666666,
              "#ed7953"
             ],
             [
              0.7777777777777778,
              "#fb9f3a"
             ],
             [
              0.8888888888888888,
              "#fdca26"
             ],
             [
              1,
              "#f0f921"
             ]
            ],
            "type": "contour"
           }
          ],
          "contourcarpet": [
           {
            "colorbar": {
             "outlinewidth": 0,
             "ticks": ""
            },
            "type": "contourcarpet"
           }
          ],
          "heatmap": [
           {
            "colorbar": {
             "outlinewidth": 0,
             "ticks": ""
            },
            "colorscale": [
             [
              0,
              "#0d0887"
             ],
             [
              0.1111111111111111,
              "#46039f"
             ],
             [
              0.2222222222222222,
              "#7201a8"
             ],
             [
              0.3333333333333333,
              "#9c179e"
             ],
             [
              0.4444444444444444,
              "#bd3786"
             ],
             [
              0.5555555555555556,
              "#d8576b"
             ],
             [
              0.6666666666666666,
              "#ed7953"
             ],
             [
              0.7777777777777778,
              "#fb9f3a"
             ],
             [
              0.8888888888888888,
              "#fdca26"
             ],
             [
              1,
              "#f0f921"
             ]
            ],
            "type": "heatmap"
           }
          ],
          "heatmapgl": [
           {
            "colorbar": {
             "outlinewidth": 0,
             "ticks": ""
            },
            "colorscale": [
             [
              0,
              "#0d0887"
             ],
             [
              0.1111111111111111,
              "#46039f"
             ],
             [
              0.2222222222222222,
              "#7201a8"
             ],
             [
              0.3333333333333333,
              "#9c179e"
             ],
             [
              0.4444444444444444,
              "#bd3786"
             ],
             [
              0.5555555555555556,
              "#d8576b"
             ],
             [
              0.6666666666666666,
              "#ed7953"
             ],
             [
              0.7777777777777778,
              "#fb9f3a"
             ],
             [
              0.8888888888888888,
              "#fdca26"
             ],
             [
              1,
              "#f0f921"
             ]
            ],
            "type": "heatmapgl"
           }
          ],
          "histogram": [
           {
            "marker": {
             "pattern": {
              "fillmode": "overlay",
              "size": 10,
              "solidity": 0.2
             }
            },
            "type": "histogram"
           }
          ],
          "histogram2d": [
           {
            "colorbar": {
             "outlinewidth": 0,
             "ticks": ""
            },
            "colorscale": [
             [
              0,
              "#0d0887"
             ],
             [
              0.1111111111111111,
              "#46039f"
             ],
             [
              0.2222222222222222,
              "#7201a8"
             ],
             [
              0.3333333333333333,
              "#9c179e"
             ],
             [
              0.4444444444444444,
              "#bd3786"
             ],
             [
              0.5555555555555556,
              "#d8576b"
             ],
             [
              0.6666666666666666,
              "#ed7953"
             ],
             [
              0.7777777777777778,
              "#fb9f3a"
             ],
             [
              0.8888888888888888,
              "#fdca26"
             ],
             [
              1,
              "#f0f921"
             ]
            ],
            "type": "histogram2d"
           }
          ],
          "histogram2dcontour": [
           {
            "colorbar": {
             "outlinewidth": 0,
             "ticks": ""
            },
            "colorscale": [
             [
              0,
              "#0d0887"
             ],
             [
              0.1111111111111111,
              "#46039f"
             ],
             [
              0.2222222222222222,
              "#7201a8"
             ],
             [
              0.3333333333333333,
              "#9c179e"
             ],
             [
              0.4444444444444444,
              "#bd3786"
             ],
             [
              0.5555555555555556,
              "#d8576b"
             ],
             [
              0.6666666666666666,
              "#ed7953"
             ],
             [
              0.7777777777777778,
              "#fb9f3a"
             ],
             [
              0.8888888888888888,
              "#fdca26"
             ],
             [
              1,
              "#f0f921"
             ]
            ],
            "type": "histogram2dcontour"
           }
          ],
          "mesh3d": [
           {
            "colorbar": {
             "outlinewidth": 0,
             "ticks": ""
            },
            "type": "mesh3d"
           }
          ],
          "parcoords": [
           {
            "line": {
             "colorbar": {
              "outlinewidth": 0,
              "ticks": ""
             }
            },
            "type": "parcoords"
           }
          ],
          "pie": [
           {
            "automargin": true,
            "type": "pie"
           }
          ],
          "scatter": [
           {
            "fillpattern": {
             "fillmode": "overlay",
             "size": 10,
             "solidity": 0.2
            },
            "type": "scatter"
           }
          ],
          "scatter3d": [
           {
            "line": {
             "colorbar": {
              "outlinewidth": 0,
              "ticks": ""
             }
            },
            "marker": {
             "colorbar": {
              "outlinewidth": 0,
              "ticks": ""
             }
            },
            "type": "scatter3d"
           }
          ],
          "scattercarpet": [
           {
            "marker": {
             "colorbar": {
              "outlinewidth": 0,
              "ticks": ""
             }
            },
            "type": "scattercarpet"
           }
          ],
          "scattergeo": [
           {
            "marker": {
             "colorbar": {
              "outlinewidth": 0,
              "ticks": ""
             }
            },
            "type": "scattergeo"
           }
          ],
          "scattergl": [
           {
            "marker": {
             "colorbar": {
              "outlinewidth": 0,
              "ticks": ""
             }
            },
            "type": "scattergl"
           }
          ],
          "scattermapbox": [
           {
            "marker": {
             "colorbar": {
              "outlinewidth": 0,
              "ticks": ""
             }
            },
            "type": "scattermapbox"
           }
          ],
          "scatterpolar": [
           {
            "marker": {
             "colorbar": {
              "outlinewidth": 0,
              "ticks": ""
             }
            },
            "type": "scatterpolar"
           }
          ],
          "scatterpolargl": [
           {
            "marker": {
             "colorbar": {
              "outlinewidth": 0,
              "ticks": ""
             }
            },
            "type": "scatterpolargl"
           }
          ],
          "scatterternary": [
           {
            "marker": {
             "colorbar": {
              "outlinewidth": 0,
              "ticks": ""
             }
            },
            "type": "scatterternary"
           }
          ],
          "surface": [
           {
            "colorbar": {
             "outlinewidth": 0,
             "ticks": ""
            },
            "colorscale": [
             [
              0,
              "#0d0887"
             ],
             [
              0.1111111111111111,
              "#46039f"
             ],
             [
              0.2222222222222222,
              "#7201a8"
             ],
             [
              0.3333333333333333,
              "#9c179e"
             ],
             [
              0.4444444444444444,
              "#bd3786"
             ],
             [
              0.5555555555555556,
              "#d8576b"
             ],
             [
              0.6666666666666666,
              "#ed7953"
             ],
             [
              0.7777777777777778,
              "#fb9f3a"
             ],
             [
              0.8888888888888888,
              "#fdca26"
             ],
             [
              1,
              "#f0f921"
             ]
            ],
            "type": "surface"
           }
          ],
          "table": [
           {
            "cells": {
             "fill": {
              "color": "#EBF0F8"
             },
             "line": {
              "color": "white"
             }
            },
            "header": {
             "fill": {
              "color": "#C8D4E3"
             },
             "line": {
              "color": "white"
             }
            },
            "type": "table"
           }
          ]
         },
         "layout": {
          "annotationdefaults": {
           "arrowcolor": "#2a3f5f",
           "arrowhead": 0,
           "arrowwidth": 1
          },
          "autotypenumbers": "strict",
          "coloraxis": {
           "colorbar": {
            "outlinewidth": 0,
            "ticks": ""
           }
          },
          "colorscale": {
           "diverging": [
            [
             0,
             "#8e0152"
            ],
            [
             0.1,
             "#c51b7d"
            ],
            [
             0.2,
             "#de77ae"
            ],
            [
             0.3,
             "#f1b6da"
            ],
            [
             0.4,
             "#fde0ef"
            ],
            [
             0.5,
             "#f7f7f7"
            ],
            [
             0.6,
             "#e6f5d0"
            ],
            [
             0.7,
             "#b8e186"
            ],
            [
             0.8,
             "#7fbc41"
            ],
            [
             0.9,
             "#4d9221"
            ],
            [
             1,
             "#276419"
            ]
           ],
           "sequential": [
            [
             0,
             "#0d0887"
            ],
            [
             0.1111111111111111,
             "#46039f"
            ],
            [
             0.2222222222222222,
             "#7201a8"
            ],
            [
             0.3333333333333333,
             "#9c179e"
            ],
            [
             0.4444444444444444,
             "#bd3786"
            ],
            [
             0.5555555555555556,
             "#d8576b"
            ],
            [
             0.6666666666666666,
             "#ed7953"
            ],
            [
             0.7777777777777778,
             "#fb9f3a"
            ],
            [
             0.8888888888888888,
             "#fdca26"
            ],
            [
             1,
             "#f0f921"
            ]
           ],
           "sequentialminus": [
            [
             0,
             "#0d0887"
            ],
            [
             0.1111111111111111,
             "#46039f"
            ],
            [
             0.2222222222222222,
             "#7201a8"
            ],
            [
             0.3333333333333333,
             "#9c179e"
            ],
            [
             0.4444444444444444,
             "#bd3786"
            ],
            [
             0.5555555555555556,
             "#d8576b"
            ],
            [
             0.6666666666666666,
             "#ed7953"
            ],
            [
             0.7777777777777778,
             "#fb9f3a"
            ],
            [
             0.8888888888888888,
             "#fdca26"
            ],
            [
             1,
             "#f0f921"
            ]
           ]
          },
          "colorway": [
           "#636efa",
           "#EF553B",
           "#00cc96",
           "#ab63fa",
           "#FFA15A",
           "#19d3f3",
           "#FF6692",
           "#B6E880",
           "#FF97FF",
           "#FECB52"
          ],
          "font": {
           "color": "#2a3f5f"
          },
          "geo": {
           "bgcolor": "white",
           "lakecolor": "white",
           "landcolor": "#E5ECF6",
           "showlakes": true,
           "showland": true,
           "subunitcolor": "white"
          },
          "hoverlabel": {
           "align": "left"
          },
          "hovermode": "closest",
          "mapbox": {
           "style": "light"
          },
          "paper_bgcolor": "white",
          "plot_bgcolor": "#E5ECF6",
          "polar": {
           "angularaxis": {
            "gridcolor": "white",
            "linecolor": "white",
            "ticks": ""
           },
           "bgcolor": "#E5ECF6",
           "radialaxis": {
            "gridcolor": "white",
            "linecolor": "white",
            "ticks": ""
           }
          },
          "scene": {
           "xaxis": {
            "backgroundcolor": "#E5ECF6",
            "gridcolor": "white",
            "gridwidth": 2,
            "linecolor": "white",
            "showbackground": true,
            "ticks": "",
            "zerolinecolor": "white"
           },
           "yaxis": {
            "backgroundcolor": "#E5ECF6",
            "gridcolor": "white",
            "gridwidth": 2,
            "linecolor": "white",
            "showbackground": true,
            "ticks": "",
            "zerolinecolor": "white"
           },
           "zaxis": {
            "backgroundcolor": "#E5ECF6",
            "gridcolor": "white",
            "gridwidth": 2,
            "linecolor": "white",
            "showbackground": true,
            "ticks": "",
            "zerolinecolor": "white"
           }
          },
          "shapedefaults": {
           "line": {
            "color": "#2a3f5f"
           }
          },
          "ternary": {
           "aaxis": {
            "gridcolor": "white",
            "linecolor": "white",
            "ticks": ""
           },
           "baxis": {
            "gridcolor": "white",
            "linecolor": "white",
            "ticks": ""
           },
           "bgcolor": "#E5ECF6",
           "caxis": {
            "gridcolor": "white",
            "linecolor": "white",
            "ticks": ""
           }
          },
          "title": {
           "x": 0.05
          },
          "xaxis": {
           "automargin": true,
           "gridcolor": "white",
           "linecolor": "white",
           "ticks": "",
           "title": {
            "standoff": 15
           },
           "zerolinecolor": "white",
           "zerolinewidth": 2
          },
          "yaxis": {
           "automargin": true,
           "gridcolor": "white",
           "linecolor": "white",
           "ticks": "",
           "title": {
            "standoff": 15
           },
           "zerolinecolor": "white",
           "zerolinewidth": 2
          }
         }
        },
        "title": {
         "text": "Tasa de desocupación y sus ajustes estacionales según DEF2020 y DEF2024"
        },
        "xaxis": {
         "anchor": "y",
         "domain": [
          0,
          1
         ],
         "title": {
          "text": "Date"
         }
        },
        "yaxis": {
         "anchor": "x",
         "domain": [
          0,
          1
         ],
         "title": {
          "text": "value"
         }
        }
       }
      }
     },
     "metadata": {},
     "output_type": "display_data"
    }
   ],
   "source": [
    "pdata = data.copy()\n",
    "pdata.columns = pd.Index(map(str.strip, pdata.columns.get_level_values(0) + \" \" + pdata.columns.get_level_values(1)))\n",
    "pdata = pd.concat([pdata.loc[:,[\"Tasa ajustada DEF2024\", \"Tasa oficial DEF2024\"]].dropna(), x13o.seasadj], axis=1)\\\n",
    "    .convert_dtypes('float64')\\\n",
    "        .rename({\"seasadj\":\"Tasa ajustada DEF2024 SM\", \"Tasa ajustada DEF2024\":\"Tasa ajustada DEF2024 INE\", \"Tasa oficial DEF2024\":\"Tasa oficial DEF2024 INE\"}, axis=1)\n",
    "fig = px.line(pdata, y=[\"Tasa ajustada DEF2024 INE\", \"Tasa ajustada DEF2024 SM\", \"Tasa oficial DEF2024 INE\"], \n",
    "              title=\"Tasa de desocupación y sus ajustes estacionales según DEF2020 y DEF2024\",\n",
    "              markers=True)\n",
    "fig"
   ]
  },
  {
   "cell_type": "code",
   "execution_count": 96,
   "metadata": {},
   "outputs": [],
   "source": [
    "pan = pd.read_csv(\"D:\\FCFM\\Primavera2024\\ProyectoINE\\proyectomds_ine\\data\\pandemia\\defunciones_covid19_2020_2024.csv\", sep=\";\")\n",
    "pan[\"FECHA_DEF\"] = pd.to_datetime(pan[\"FECHA_DEF\"], format=\"%Y-%m-%d\")\n",
    "pan.sort_values(by=\"FECHA_DEF\", inplace=True)\n",
    "pan.index = pan[\"FECHA_DEF\"]"
   ]
  },
  {
   "cell_type": "code",
   "execution_count": 97,
   "metadata": {},
   "outputs": [],
   "source": [
    "countpan = pan.groupby(by=[pan.index.year, pan.index.month]).count()\n",
    "countpan.index = pd.to_datetime(countpan.index.to_series().apply(lambda tuple: \"-\".join([str(t) for t in tuple])+\"-01\"))\n"
   ]
  },
  {
   "cell_type": "code",
   "execution_count": 98,
   "metadata": {},
   "outputs": [
    {
     "data": {
      "application/vnd.plotly.v1+json": {
       "config": {
        "plotlyServerURL": "https://plot.ly"
       },
       "data": [
        {
         "hovertemplate": "index=%{x}<br>EDAD_CANT=%{y}<extra></extra>",
         "legendgroup": "",
         "line": {
          "color": "#636efa",
          "dash": "solid"
         },
         "marker": {
          "symbol": "circle"
         },
         "mode": "lines+markers",
         "name": "",
         "orientation": "v",
         "showlegend": false,
         "type": "scatter",
         "x": [
          "2020-03-01T00:00:00",
          "2020-04-01T00:00:00",
          "2020-05-01T00:00:00",
          "2020-06-01T00:00:00",
          "2020-07-01T00:00:00",
          "2020-08-01T00:00:00",
          "2020-09-01T00:00:00",
          "2020-10-01T00:00:00",
          "2020-11-01T00:00:00",
          "2020-12-01T00:00:00",
          "2021-01-01T00:00:00",
          "2021-02-01T00:00:00",
          "2021-03-01T00:00:00",
          "2021-04-01T00:00:00",
          "2021-05-01T00:00:00",
          "2021-06-01T00:00:00",
          "2021-07-01T00:00:00",
          "2021-08-01T00:00:00",
          "2021-09-01T00:00:00",
          "2021-10-01T00:00:00",
          "2021-11-01T00:00:00",
          "2021-12-01T00:00:00",
          "2022-01-01T00:00:00",
          "2022-02-01T00:00:00",
          "2022-03-01T00:00:00",
          "2022-04-01T00:00:00",
          "2022-05-01T00:00:00",
          "2022-06-01T00:00:00",
          "2022-07-01T00:00:00",
          "2022-08-01T00:00:00",
          "2022-09-01T00:00:00",
          "2022-10-01T00:00:00",
          "2022-11-01T00:00:00",
          "2022-12-01T00:00:00",
          "2023-01-01T00:00:00",
          "2023-02-01T00:00:00",
          "2023-03-01T00:00:00",
          "2023-04-01T00:00:00",
          "2023-05-01T00:00:00",
          "2023-06-01T00:00:00",
          "2023-07-01T00:00:00",
          "2023-08-01T00:00:00",
          "2023-09-01T00:00:00",
          "2023-10-01T00:00:00",
          "2023-11-01T00:00:00",
          "2023-12-01T00:00:00",
          "2024-01-01T00:00:00",
          "2024-02-01T00:00:00",
          "2024-03-01T00:00:00",
          "2024-04-01T00:00:00",
          "2024-05-01T00:00:00",
          "2024-06-01T00:00:00",
          "2024-07-01T00:00:00",
          "2024-08-01T00:00:00",
          "2024-09-01T00:00:00"
         ],
         "xaxis": "x",
         "y": [
          24,
          342,
          2603,
          6095,
          3164,
          1798,
          1514,
          1185,
          919,
          1036,
          1927,
          2078,
          2763,
          3188,
          3123,
          3727,
          2549,
          1202,
          429,
          394,
          740,
          826,
          796,
          3236,
          2634,
          762,
          390,
          676,
          1094,
          911,
          629,
          546,
          794,
          689,
          631,
          344,
          419,
          323,
          108,
          59,
          34,
          30,
          66,
          172,
          248,
          179,
          150,
          194,
          235,
          108,
          41,
          24,
          19,
          28,
          20
         ],
         "yaxis": "y"
        }
       ],
       "layout": {
        "font": {
         "color": "Black",
         "family": "Courier New, monospace",
         "size": 16,
         "variant": "small-caps"
        },
        "legend": {
         "bgcolor": "LightBlue",
         "title": {
          "text": "Serie temporal:"
         },
         "tracegroupgap": 0,
         "x": 1,
         "xanchor": "right",
         "y": 1,
         "yanchor": "bottom"
        },
        "template": {
         "data": {
          "bar": [
           {
            "error_x": {
             "color": "#2a3f5f"
            },
            "error_y": {
             "color": "#2a3f5f"
            },
            "marker": {
             "line": {
              "color": "#E5ECF6",
              "width": 0.5
             },
             "pattern": {
              "fillmode": "overlay",
              "size": 10,
              "solidity": 0.2
             }
            },
            "type": "bar"
           }
          ],
          "barpolar": [
           {
            "marker": {
             "line": {
              "color": "#E5ECF6",
              "width": 0.5
             },
             "pattern": {
              "fillmode": "overlay",
              "size": 10,
              "solidity": 0.2
             }
            },
            "type": "barpolar"
           }
          ],
          "carpet": [
           {
            "aaxis": {
             "endlinecolor": "#2a3f5f",
             "gridcolor": "white",
             "linecolor": "white",
             "minorgridcolor": "white",
             "startlinecolor": "#2a3f5f"
            },
            "baxis": {
             "endlinecolor": "#2a3f5f",
             "gridcolor": "white",
             "linecolor": "white",
             "minorgridcolor": "white",
             "startlinecolor": "#2a3f5f"
            },
            "type": "carpet"
           }
          ],
          "choropleth": [
           {
            "colorbar": {
             "outlinewidth": 0,
             "ticks": ""
            },
            "type": "choropleth"
           }
          ],
          "contour": [
           {
            "colorbar": {
             "outlinewidth": 0,
             "ticks": ""
            },
            "colorscale": [
             [
              0,
              "#0d0887"
             ],
             [
              0.1111111111111111,
              "#46039f"
             ],
             [
              0.2222222222222222,
              "#7201a8"
             ],
             [
              0.3333333333333333,
              "#9c179e"
             ],
             [
              0.4444444444444444,
              "#bd3786"
             ],
             [
              0.5555555555555556,
              "#d8576b"
             ],
             [
              0.6666666666666666,
              "#ed7953"
             ],
             [
              0.7777777777777778,
              "#fb9f3a"
             ],
             [
              0.8888888888888888,
              "#fdca26"
             ],
             [
              1,
              "#f0f921"
             ]
            ],
            "type": "contour"
           }
          ],
          "contourcarpet": [
           {
            "colorbar": {
             "outlinewidth": 0,
             "ticks": ""
            },
            "type": "contourcarpet"
           }
          ],
          "heatmap": [
           {
            "colorbar": {
             "outlinewidth": 0,
             "ticks": ""
            },
            "colorscale": [
             [
              0,
              "#0d0887"
             ],
             [
              0.1111111111111111,
              "#46039f"
             ],
             [
              0.2222222222222222,
              "#7201a8"
             ],
             [
              0.3333333333333333,
              "#9c179e"
             ],
             [
              0.4444444444444444,
              "#bd3786"
             ],
             [
              0.5555555555555556,
              "#d8576b"
             ],
             [
              0.6666666666666666,
              "#ed7953"
             ],
             [
              0.7777777777777778,
              "#fb9f3a"
             ],
             [
              0.8888888888888888,
              "#fdca26"
             ],
             [
              1,
              "#f0f921"
             ]
            ],
            "type": "heatmap"
           }
          ],
          "heatmapgl": [
           {
            "colorbar": {
             "outlinewidth": 0,
             "ticks": ""
            },
            "colorscale": [
             [
              0,
              "#0d0887"
             ],
             [
              0.1111111111111111,
              "#46039f"
             ],
             [
              0.2222222222222222,
              "#7201a8"
             ],
             [
              0.3333333333333333,
              "#9c179e"
             ],
             [
              0.4444444444444444,
              "#bd3786"
             ],
             [
              0.5555555555555556,
              "#d8576b"
             ],
             [
              0.6666666666666666,
              "#ed7953"
             ],
             [
              0.7777777777777778,
              "#fb9f3a"
             ],
             [
              0.8888888888888888,
              "#fdca26"
             ],
             [
              1,
              "#f0f921"
             ]
            ],
            "type": "heatmapgl"
           }
          ],
          "histogram": [
           {
            "marker": {
             "pattern": {
              "fillmode": "overlay",
              "size": 10,
              "solidity": 0.2
             }
            },
            "type": "histogram"
           }
          ],
          "histogram2d": [
           {
            "colorbar": {
             "outlinewidth": 0,
             "ticks": ""
            },
            "colorscale": [
             [
              0,
              "#0d0887"
             ],
             [
              0.1111111111111111,
              "#46039f"
             ],
             [
              0.2222222222222222,
              "#7201a8"
             ],
             [
              0.3333333333333333,
              "#9c179e"
             ],
             [
              0.4444444444444444,
              "#bd3786"
             ],
             [
              0.5555555555555556,
              "#d8576b"
             ],
             [
              0.6666666666666666,
              "#ed7953"
             ],
             [
              0.7777777777777778,
              "#fb9f3a"
             ],
             [
              0.8888888888888888,
              "#fdca26"
             ],
             [
              1,
              "#f0f921"
             ]
            ],
            "type": "histogram2d"
           }
          ],
          "histogram2dcontour": [
           {
            "colorbar": {
             "outlinewidth": 0,
             "ticks": ""
            },
            "colorscale": [
             [
              0,
              "#0d0887"
             ],
             [
              0.1111111111111111,
              "#46039f"
             ],
             [
              0.2222222222222222,
              "#7201a8"
             ],
             [
              0.3333333333333333,
              "#9c179e"
             ],
             [
              0.4444444444444444,
              "#bd3786"
             ],
             [
              0.5555555555555556,
              "#d8576b"
             ],
             [
              0.6666666666666666,
              "#ed7953"
             ],
             [
              0.7777777777777778,
              "#fb9f3a"
             ],
             [
              0.8888888888888888,
              "#fdca26"
             ],
             [
              1,
              "#f0f921"
             ]
            ],
            "type": "histogram2dcontour"
           }
          ],
          "mesh3d": [
           {
            "colorbar": {
             "outlinewidth": 0,
             "ticks": ""
            },
            "type": "mesh3d"
           }
          ],
          "parcoords": [
           {
            "line": {
             "colorbar": {
              "outlinewidth": 0,
              "ticks": ""
             }
            },
            "type": "parcoords"
           }
          ],
          "pie": [
           {
            "automargin": true,
            "type": "pie"
           }
          ],
          "scatter": [
           {
            "fillpattern": {
             "fillmode": "overlay",
             "size": 10,
             "solidity": 0.2
            },
            "type": "scatter"
           }
          ],
          "scatter3d": [
           {
            "line": {
             "colorbar": {
              "outlinewidth": 0,
              "ticks": ""
             }
            },
            "marker": {
             "colorbar": {
              "outlinewidth": 0,
              "ticks": ""
             }
            },
            "type": "scatter3d"
           }
          ],
          "scattercarpet": [
           {
            "marker": {
             "colorbar": {
              "outlinewidth": 0,
              "ticks": ""
             }
            },
            "type": "scattercarpet"
           }
          ],
          "scattergeo": [
           {
            "marker": {
             "colorbar": {
              "outlinewidth": 0,
              "ticks": ""
             }
            },
            "type": "scattergeo"
           }
          ],
          "scattergl": [
           {
            "marker": {
             "colorbar": {
              "outlinewidth": 0,
              "ticks": ""
             }
            },
            "type": "scattergl"
           }
          ],
          "scattermapbox": [
           {
            "marker": {
             "colorbar": {
              "outlinewidth": 0,
              "ticks": ""
             }
            },
            "type": "scattermapbox"
           }
          ],
          "scatterpolar": [
           {
            "marker": {
             "colorbar": {
              "outlinewidth": 0,
              "ticks": ""
             }
            },
            "type": "scatterpolar"
           }
          ],
          "scatterpolargl": [
           {
            "marker": {
             "colorbar": {
              "outlinewidth": 0,
              "ticks": ""
             }
            },
            "type": "scatterpolargl"
           }
          ],
          "scatterternary": [
           {
            "marker": {
             "colorbar": {
              "outlinewidth": 0,
              "ticks": ""
             }
            },
            "type": "scatterternary"
           }
          ],
          "surface": [
           {
            "colorbar": {
             "outlinewidth": 0,
             "ticks": ""
            },
            "colorscale": [
             [
              0,
              "#0d0887"
             ],
             [
              0.1111111111111111,
              "#46039f"
             ],
             [
              0.2222222222222222,
              "#7201a8"
             ],
             [
              0.3333333333333333,
              "#9c179e"
             ],
             [
              0.4444444444444444,
              "#bd3786"
             ],
             [
              0.5555555555555556,
              "#d8576b"
             ],
             [
              0.6666666666666666,
              "#ed7953"
             ],
             [
              0.7777777777777778,
              "#fb9f3a"
             ],
             [
              0.8888888888888888,
              "#fdca26"
             ],
             [
              1,
              "#f0f921"
             ]
            ],
            "type": "surface"
           }
          ],
          "table": [
           {
            "cells": {
             "fill": {
              "color": "#EBF0F8"
             },
             "line": {
              "color": "white"
             }
            },
            "header": {
             "fill": {
              "color": "#C8D4E3"
             },
             "line": {
              "color": "white"
             }
            },
            "type": "table"
           }
          ]
         },
         "layout": {
          "annotationdefaults": {
           "arrowcolor": "#2a3f5f",
           "arrowhead": 0,
           "arrowwidth": 1
          },
          "autotypenumbers": "strict",
          "coloraxis": {
           "colorbar": {
            "outlinewidth": 0,
            "ticks": ""
           }
          },
          "colorscale": {
           "diverging": [
            [
             0,
             "#8e0152"
            ],
            [
             0.1,
             "#c51b7d"
            ],
            [
             0.2,
             "#de77ae"
            ],
            [
             0.3,
             "#f1b6da"
            ],
            [
             0.4,
             "#fde0ef"
            ],
            [
             0.5,
             "#f7f7f7"
            ],
            [
             0.6,
             "#e6f5d0"
            ],
            [
             0.7,
             "#b8e186"
            ],
            [
             0.8,
             "#7fbc41"
            ],
            [
             0.9,
             "#4d9221"
            ],
            [
             1,
             "#276419"
            ]
           ],
           "sequential": [
            [
             0,
             "#0d0887"
            ],
            [
             0.1111111111111111,
             "#46039f"
            ],
            [
             0.2222222222222222,
             "#7201a8"
            ],
            [
             0.3333333333333333,
             "#9c179e"
            ],
            [
             0.4444444444444444,
             "#bd3786"
            ],
            [
             0.5555555555555556,
             "#d8576b"
            ],
            [
             0.6666666666666666,
             "#ed7953"
            ],
            [
             0.7777777777777778,
             "#fb9f3a"
            ],
            [
             0.8888888888888888,
             "#fdca26"
            ],
            [
             1,
             "#f0f921"
            ]
           ],
           "sequentialminus": [
            [
             0,
             "#0d0887"
            ],
            [
             0.1111111111111111,
             "#46039f"
            ],
            [
             0.2222222222222222,
             "#7201a8"
            ],
            [
             0.3333333333333333,
             "#9c179e"
            ],
            [
             0.4444444444444444,
             "#bd3786"
            ],
            [
             0.5555555555555556,
             "#d8576b"
            ],
            [
             0.6666666666666666,
             "#ed7953"
            ],
            [
             0.7777777777777778,
             "#fb9f3a"
            ],
            [
             0.8888888888888888,
             "#fdca26"
            ],
            [
             1,
             "#f0f921"
            ]
           ]
          },
          "colorway": [
           "#636efa",
           "#EF553B",
           "#00cc96",
           "#ab63fa",
           "#FFA15A",
           "#19d3f3",
           "#FF6692",
           "#B6E880",
           "#FF97FF",
           "#FECB52"
          ],
          "font": {
           "color": "#2a3f5f"
          },
          "geo": {
           "bgcolor": "white",
           "lakecolor": "white",
           "landcolor": "#E5ECF6",
           "showlakes": true,
           "showland": true,
           "subunitcolor": "white"
          },
          "hoverlabel": {
           "align": "left"
          },
          "hovermode": "closest",
          "mapbox": {
           "style": "light"
          },
          "paper_bgcolor": "white",
          "plot_bgcolor": "#E5ECF6",
          "polar": {
           "angularaxis": {
            "gridcolor": "white",
            "linecolor": "white",
            "ticks": ""
           },
           "bgcolor": "#E5ECF6",
           "radialaxis": {
            "gridcolor": "white",
            "linecolor": "white",
            "ticks": ""
           }
          },
          "scene": {
           "xaxis": {
            "backgroundcolor": "#E5ECF6",
            "gridcolor": "white",
            "gridwidth": 2,
            "linecolor": "white",
            "showbackground": true,
            "ticks": "",
            "zerolinecolor": "white"
           },
           "yaxis": {
            "backgroundcolor": "#E5ECF6",
            "gridcolor": "white",
            "gridwidth": 2,
            "linecolor": "white",
            "showbackground": true,
            "ticks": "",
            "zerolinecolor": "white"
           },
           "zaxis": {
            "backgroundcolor": "#E5ECF6",
            "gridcolor": "white",
            "gridwidth": 2,
            "linecolor": "white",
            "showbackground": true,
            "ticks": "",
            "zerolinecolor": "white"
           }
          },
          "shapedefaults": {
           "line": {
            "color": "#2a3f5f"
           }
          },
          "ternary": {
           "aaxis": {
            "gridcolor": "white",
            "linecolor": "white",
            "ticks": ""
           },
           "baxis": {
            "gridcolor": "white",
            "linecolor": "white",
            "ticks": ""
           },
           "bgcolor": "#E5ECF6",
           "caxis": {
            "gridcolor": "white",
            "linecolor": "white",
            "ticks": ""
           }
          },
          "title": {
           "x": 0.05
          },
          "xaxis": {
           "automargin": true,
           "gridcolor": "white",
           "linecolor": "white",
           "ticks": "",
           "title": {
            "standoff": 15
           },
           "zerolinecolor": "white",
           "zerolinewidth": 2
          },
          "yaxis": {
           "automargin": true,
           "gridcolor": "white",
           "linecolor": "white",
           "ticks": "",
           "title": {
            "standoff": 15
           },
           "zerolinecolor": "white",
           "zerolinewidth": 2
          }
         }
        },
        "title": {
         "text": "<b>Defunciones Mensuales COVID-19</b>"
        },
        "xaxis": {
         "anchor": "y",
         "domain": [
          0,
          1
         ],
         "title": {
          "text": "<b>Fecha</b>"
         }
        },
        "yaxis": {
         "anchor": "x",
         "domain": [
          0,
          1
         ],
         "title": {
          "text": "<b>Cantidad</b>"
         }
        }
       }
      }
     },
     "metadata": {},
     "output_type": "display_data"
    }
   ],
   "source": [
    "generic_layouts = {\"legend_title\":\"Serie temporal:\", \"yaxis_title\":\"<b>Cantidad</b>\",\"xaxis_title\":\"<b>Fecha</b>\",\n",
    "                    \"font\":dict(\n",
    "                        family=\"Courier New, monospace\",\n",
    "                        size=16,\n",
    "                        color=\"Black\",\n",
    "                        variant=\"small-caps\"\n",
    "                        ),\n",
    "                    \"legend\":dict(\n",
    "                        # orientation=\"h\",\n",
    "                        yanchor=\"bottom\",\n",
    "                        y=1.0,\n",
    "                        xanchor=\"right\",\n",
    "                        x=1.0,\n",
    "                        bgcolor=\"LightBlue\"\n",
    "                        )\n",
    "                    }\n",
    "\n",
    "fig = px.line(countpan, y=\"EDAD_CANT\", \n",
    "              title=\"<b>Defunciones Mensuales COVID-19</b>\",\n",
    "              markers=True)\n",
    "fig.update_layout(**generic_layouts\n",
    ")\n",
    "fig"
   ]
  },
  {
   "cell_type": "code",
   "execution_count": 99,
   "metadata": {},
   "outputs": [],
   "source": [
    "generic_layouts = {\"legend_title\":\"Serie temporal:\", \"yaxis_title\":\"<b>Tasa de Desocupación</b>\",\"xaxis_title\":\"<b>Fecha</b>\",\"yaxis_range\":[5.5,13.5],\n",
    "                    \"font\":dict(\n",
    "                        family=\"Courier New, monospace\",\n",
    "                        size=16,\n",
    "                        color=\"Black\",\n",
    "                        variant=\"small-caps\"\n",
    "                        ),\n",
    "                    \"legend\":dict(\n",
    "                        # orientation=\"h\",\n",
    "                        yanchor=\"bottom\",\n",
    "                        y=1.0,\n",
    "                        xanchor=\"right\",\n",
    "                        x=1.0,\n",
    "                        bgcolor=\"LightBlue\"\n",
    "                        )\n",
    "                    }\n",
    "\n",
    "def composed_adjustment(data:pd.DataFrame, start=\"NDE2019\", end=\"2022-06-01\",outlier_span=29, model=\"AMJ2023\", graphs=[True,True,True,True,True]):\n",
    "    tri_map = {\"DEF\":1, \"EFM\":2, \"FMA\":3, \"MAM\":4, \"AMJ\":5, \"MJJ\":6, \"JJA\":7, \"JAS\":8, \"ASO\":9, \"SON\":10, \"OND\":11, \"NDE\":12}\n",
    "    pre_pan = data.loc[:,(\"Tasa oficial\", start)].copy().astype('float64').dropna() # Modelo antes de la pandemia según OMS\n",
    "    pre_pan.rename(\" \".join(pre_pan.name), inplace=True)\n",
    "    pos_pan = data.loc[:,(\"Tasa oficial\", model)].copy().astype('float64').dropna()\n",
    "    pos_pan.rename(\" \".join(pos_pan.name), inplace=True)\n",
    "    justpos_pan = pos_pan.loc[\"2020-01-01\":].copy() # Modelo terminada la alerta de pandemia según OMS\n",
    "\n",
    "    # Modelo SARIMAX para predecir periodo pandemia\n",
    "    sari = SARIMAX(\n",
    "        endog=pre_pan,\n",
    "        order=(4,1,4),\n",
    "        seasonal_order=(2,1,2,12),\n",
    "        freq='MS'\n",
    "        )\n",
    "    results = sari.fit()\n",
    "    fore29 = results.forecast(steps=outlier_span) # Desde DEF2020 hasta AMJ2022 fecha donde plan paso a paso\n",
    "    fore29.rename(\"Tasa pronosticada periodo Pandemia\", inplace=True)\n",
    "    fore = pd.concat([pre_pan, fore29, justpos_pan], axis=1)\n",
    "    \n",
    "    if graphs[0]:\n",
    "        fig = px.line(fore, y=[f\"Tasa oficial {start}\",  \"Tasa pronosticada periodo Pandemia\"], \n",
    "                    title=\"<b>Tasa oficial y su pronostico para pediodo Pandemia</b>\",\n",
    "                markers=True)\n",
    "        fig.update_layout(**generic_layouts)\n",
    "        fig.show()\n",
    "    if graphs[1]:\n",
    "        fig = px.line(fore, y=[f\"Tasa oficial {start}\",  \"Tasa pronosticada periodo Pandemia\", f\"Tasa oficial {model}\"], \n",
    "                    title=\"<b>Tasa oficial y su pronostico pediodo Pandemia</b>\",\n",
    "                    markers=True)\n",
    "        fig.update_layout(**generic_layouts)\n",
    "        fig.show()\n",
    "    compose = fore[f\"Tasa oficial {start}\"].fillna(fore[\"Tasa pronosticada periodo Pandemia\"]).fillna(fore[f\"Tasa oficial {model}\"]).rename(f\"Serie compuesta (DEF2020, AMJ2022)\")\n",
    "    fore_new = pd.concat([compose, justpos_pan], axis=1)\n",
    "    if graphs[2]:\n",
    "        fig = px.line(fore_new, y=[f\"Tasa oficial {model}\", f\"Serie compuesta (DEF2020, AMJ2022)\"],\n",
    "                    title=\"<b>Tasa compuesta, tasa oficial-pronostico-oficial (prepandemia-pronostico-pospandemia) para periodo Pandemia</b>\",\n",
    "                    markers=True)\n",
    "        fig.update_layout(**generic_layouts)\n",
    "        fig.show()\n",
    "\n",
    "    # Modelo X13-SARIMA\n",
    "    # Desestacionalización Serie compuesta por parte OFICIAL-PRONOSTICO-OFICIAL (Prepandemia-Pandemia-Pospandemia)\n",
    "    x13comp = x13(\n",
    "        endog=fore_new[f\"Serie compuesta (DEF2020, AMJ2022)\"].dropna(),\n",
    "        maxorder=(1,1),\n",
    "        x12path=x13as_path,\n",
    "        outlier=False)\n",
    "    # Predicción Serie Oficial\n",
    "    x13real = x13(\n",
    "        endog=pos_pan.dropna(),\n",
    "        maxorder=(1,1),\n",
    "        x12path=x13as_path,\n",
    "        outlier=False)\n",
    "    comp_adj = x13comp.seasadj.rename(f\"Ajuste estacional compuesto {model}\")\n",
    "    real_adj = x13real.seasadj.rename(f\"Ajuste estacional real {model}\")\n",
    "\n",
    "    if graphs[3]:    \n",
    "        fig = px.line(pd.concat([comp_adj, real_adj], axis=1),\n",
    "                    title=f\"<b>Tasa de desocupación y sus ajustes estacionales según serie compuesta y {model}</b>\",\n",
    "                    markers=True)\n",
    "        fig.update_layout(**generic_layouts)\n",
    "        fig.show()\n",
    "    \n",
    "    if graphs[4]:\n",
    "        diff = (comp_adj-real_adj).rename(\"Residuo\")\n",
    "        fig = px.line(diff,\n",
    "                    title=f\"<b>Diferencia en desetacionalización real y compuesta para {model}</b>\",\n",
    "                    markers=True)\n",
    "        fig.update_layout(**generic_layouts)\n",
    "        fig.update_layout(yaxis_range=[-5, 0.5])\n",
    "        fig.show()\n",
    "        \n",
    "    model_diff = mean_squared_error(comp_adj.loc[:end], real_adj.loc[:end]) # MSE sin contabilizar directamente nuevos datos\n",
    "    print(\"MSE para desestacionalización Tasa compuesta y Tasa real: \", model_diff)\n",
    "    return model_diff\n"
   ]
  },
  {
   "cell_type": "code",
   "execution_count": 100,
   "metadata": {},
   "outputs": [],
   "source": [
    "# modelos = data[\"Tasa oficial\"].columns[-25:].to_numpy()\n",
    "# model_diffs = {}\n",
    "# for modelo in modelos:\n",
    "#     model_diffs[modelo] = composed_adjustment(data, model=modelo, graphs=[False,False,False,False,True])\n"
   ]
  },
  {
   "cell_type": "code",
   "execution_count": 101,
   "metadata": {},
   "outputs": [],
   "source": [
    "# generic_layouts = {\"legend_title\":\"Serie temporal:\", \"yaxis_title\":\"<b>Residuo</b>\",\"xaxis_title\":\"<b>Modelo</b>\",\n",
    "#                     \"font\":dict(\n",
    "#                         family=\"Courier New, monospace\",\n",
    "#                         size=16,\n",
    "#                         color=\"Black\",\n",
    "#                         variant=\"small-caps\"\n",
    "#                         ),\n",
    "#                     \"legend\":dict(\n",
    "#                         # orientation=\"h\",\n",
    "#                         yanchor=\"bottom\",\n",
    "#                         y=1.0,\n",
    "#                         xanchor=\"right\",\n",
    "#                         x=1.0,\n",
    "#                         bgcolor=\"LightBlue\"\n",
    "#                         )\n",
    "#                     }\n",
    "\n",
    "# diffs = pd.DataFrame.from_dict(model_diffs, orient=\"index\")\n",
    "# diffs.columns = [\"<b>Residuos de destacianalización por modelo</b>\"]\n",
    "# fig = px.line(diffs,\n",
    "#             title=f\"<b>Diferencia en desetacionalización real y compuesta para cada modelo</b>\",\n",
    "#             markers=True)\n",
    "# fig.update_layout(**generic_layouts)\n",
    "# fig.show()"
   ]
  },
  {
   "cell_type": "code",
   "execution_count": 164,
   "metadata": {},
   "outputs": [],
   "source": [
    "from statsmodels.tsa.x13 import x13_arima_analysis\n",
    "from statsmodels.tsa.statespace.sarimax import SARIMAX\n",
    "from plotly import graph_objects as go\n",
    "\n",
    "\n",
    "class OutlierAnalisys():\n",
    "    x13as_path = path.abspath(\"C:/Program Files/x13as\")\n",
    "    \n",
    "    def __init__(self, time_serie:pd.Series, start_date:pd.Timestamp=None, end_date:pd.Timestamp=None, forecast_model=SARIMAX, exogenous=[]) -> None:\n",
    "        self.serie = time_serie\n",
    "        self.comp_serie = None\n",
    "        self.comp_adj = None\n",
    "        self.real_adj = None\n",
    "        self.start = start_date\n",
    "        self.end = end_date\n",
    "        self.forecast_model = forecast_model\n",
    "        self.outlier_period = (self.end.year-self.start.year)*12 + (self.end.month - self.start.month)\n",
    "\n",
    "    def forecast(self, periods, serie=None, model=None):\n",
    "        serie = self.serie if serie is None else serie\n",
    "        model = self.forecast_model if model is None else model\n",
    "\n",
    "        if model.__name__=='SARIMAX':\n",
    "            sari = model(\n",
    "                endog=serie,\n",
    "                order=(4,1,4),\n",
    "                seasonal_order=(2,1,2,12),\n",
    "                freq='MS'\n",
    "                )\n",
    "            results = sari.fit()\n",
    "            if periods > 0:\n",
    "                fore = results.forecast(steps=periods)\n",
    "\n",
    "        return fore\n",
    "\n",
    "    def compose_serie(self, model, serie=None):\n",
    "        serie = self.serie if serie is None else serie\n",
    "        model = self.forecast_model if model is None else model\n",
    "\n",
    "        pre_out = serie.loc[:self.start].copy()\n",
    "        post_out = serie.loc[self.end:].copy()\n",
    "        \n",
    "        # Modelo SARIMAX para predecir periodo pandemia\n",
    "        fore = self.forecast(self.outlier_period, pre_out, model)\n",
    "        comp_serie = pre_out.reindex(serie.index)\n",
    "        comp_serie = comp_serie.fillna(fore).fillna(post_out)\n",
    "\n",
    "        self.comp_serie = comp_serie if serie is None else self.comp_serie\n",
    "        return comp_serie\n",
    "    \n",
    "    def seasonality_diff(self, serie=None, seasonal_model=x13_arima_analysis, forecast_model=None, mse_limit=None):\n",
    "        serie = self.serie if serie is None else serie\n",
    "        forecast_model = self.forecast_model if forecast_model is None else forecast_model\n",
    "\n",
    "        comp_serie = self.compose_serie(forecast_model, serie)\n",
    "        \n",
    "        # Modelo X13-SARIMA\n",
    "        # Desestacionalización Serie compuesta por parte OFICIAL-PRONOSTICO-OFICIAL (Prepandemia-Pandemia-Pospandemia)\n",
    "        if seasonal_model.__name__== 'x13_arima_analysis':\n",
    "            x13comp = seasonal_model(\n",
    "                endog=comp_serie,\n",
    "                maxorder=(1,1),\n",
    "                x12path=x13as_path,\n",
    "                outlier=False)\n",
    "            # Predicción Serie Oficial\n",
    "            x13real = seasonal_model(\n",
    "                endog=serie,\n",
    "                maxorder=(1,1),\n",
    "                x12path=x13as_path,\n",
    "                outlier=False)\n",
    "        \n",
    "            self.comp_adj = x13comp.seasadj if serie is None else self.comp_adj\n",
    "            self.real_adj = x13real.seasadj if serie is None else self.real_adj\n",
    "\n",
    "        mse_limit = slice(mse_limit)\n",
    "        model_diff = mean_squared_error(self.comp_adj.loc[mse_limit], self.real_adj.loc[mse_limit]) # MSE sin contabilizar directamente nuevos datos\n",
    "        print(\"MSE para desestacionalización Tasa compuesta y Tasa real: \", model_diff)\n",
    "        \n",
    "        return model_diff\n",
    "    \n",
    "\n",
    "    def plot(self, mode):\n",
    "        plots = {\n",
    "            'composed':go.Scatter(x=self.comp_serie.index, y=self.comp_serie, name='Composed'), \n",
    "            'real':go.Scatter(x=self.serie.index, y=self.serie, name='Real'), \n",
    "            'adjusted composed':go.Scatter(x=self.comp_adj.index, y=self.comp_adj, name='Adjusted Composed'),\n",
    "            'adjusted real':go.Scatter(x=self.real_adj.index, y=self.real_adj, name='Adjusted Real'),\n",
    "            'adjusted diff':go.Scatter(x=self.real_adj.index, y=self.real_adj-self.comp_adj, name='Difference on Adjustment'),\n",
    "            'diff':go.Scatter(x=self.serie.index, y=self.serie-self.comp_serie, name='Real Difference')\n",
    "            }\n",
    "        fig = go.Figure()\n",
    "        if mode=='all':\n",
    "            for n, p in plots.items():\n",
    "                fig.add_traces(p)\n",
    "        elif mode=='adjusted':\n",
    "            for n, p in plots.items():\n",
    "                if 'adjusted' in n and 'diff' not in n:\n",
    "                    fig.add_traces(p)\n",
    "        elif mode=='normal':\n",
    "            for n, p in plots.items():\n",
    "                if 'adjusted' not in n and 'diff' not in n:\n",
    "                    fig.add_traces(p)\n",
    "        elif mode=='diff':\n",
    "            for n, p in plots.items():\n",
    "                if 'adjusted' not in n and 'diff' in n:\n",
    "                    fig.add_traces(p)\n",
    "        else:\n",
    "            fig.add_traces(plots[mode])\n",
    "    \n",
    "    def model_evolution(self, seasonal_model=x13_arima_analysis):\n",
    "        mses = []\n",
    "        last_date = self.end\n",
    "        while last_date in self.serie.index:\n",
    "            cropped = self.serie[:last_date + pd.DateOffset(months=1)]\n",
    "            mses.append(self.seasonality_diff(serie=cropped, seasonal_model=seasonal_model, mse_limit=self.start))\n",
    "            last_date = last_date + pd.DateOffset(months=1)\n",
    "        "
   ]
  },
  {
   "cell_type": "code",
   "execution_count": 170,
   "metadata": {},
   "outputs": [
    {
     "data": {
      "application/vnd.plotly.v1+json": {
       "config": {
        "plotlyServerURL": "https://plot.ly"
       },
       "data": [
        {
         "type": "scatter",
         "x": [
          "2010-09-01T00:00:00",
          "2010-10-01T00:00:00",
          "2010-11-01T00:00:00",
          "2010-12-01T00:00:00",
          "2011-01-01T00:00:00",
          "2011-02-01T00:00:00",
          "2011-03-01T00:00:00",
          "2011-04-01T00:00:00",
          "2011-05-01T00:00:00",
          "2011-06-01T00:00:00",
          "2011-07-01T00:00:00",
          "2011-08-01T00:00:00",
          "2011-09-01T00:00:00",
          "2011-10-01T00:00:00",
          "2011-11-01T00:00:00",
          "2011-12-01T00:00:00",
          "2012-01-01T00:00:00",
          "2012-02-01T00:00:00",
          "2012-03-01T00:00:00",
          "2012-04-01T00:00:00",
          "2012-05-01T00:00:00",
          "2012-06-01T00:00:00",
          "2012-07-01T00:00:00",
          "2012-08-01T00:00:00",
          "2012-09-01T00:00:00",
          "2012-10-01T00:00:00",
          "2012-11-01T00:00:00",
          "2012-12-01T00:00:00",
          "2013-01-01T00:00:00",
          "2013-02-01T00:00:00",
          "2013-03-01T00:00:00",
          "2013-04-01T00:00:00",
          "2013-05-01T00:00:00",
          "2013-06-01T00:00:00",
          "2013-07-01T00:00:00",
          "2013-08-01T00:00:00",
          "2013-09-01T00:00:00",
          "2013-10-01T00:00:00",
          "2013-11-01T00:00:00",
          "2013-12-01T00:00:00",
          "2014-01-01T00:00:00",
          "2014-02-01T00:00:00",
          "2014-03-01T00:00:00",
          "2014-04-01T00:00:00",
          "2014-05-01T00:00:00",
          "2014-06-01T00:00:00",
          "2014-07-01T00:00:00",
          "2014-08-01T00:00:00",
          "2014-09-01T00:00:00",
          "2014-10-01T00:00:00",
          "2014-11-01T00:00:00",
          "2014-12-01T00:00:00",
          "2015-01-01T00:00:00",
          "2015-02-01T00:00:00",
          "2015-03-01T00:00:00",
          "2015-04-01T00:00:00",
          "2015-05-01T00:00:00",
          "2015-06-01T00:00:00",
          "2015-07-01T00:00:00",
          "2015-08-01T00:00:00",
          "2015-09-01T00:00:00",
          "2015-10-01T00:00:00",
          "2015-11-01T00:00:00",
          "2015-12-01T00:00:00",
          "2016-01-01T00:00:00",
          "2016-02-01T00:00:00",
          "2016-03-01T00:00:00",
          "2016-04-01T00:00:00",
          "2016-05-01T00:00:00",
          "2016-06-01T00:00:00",
          "2016-07-01T00:00:00",
          "2016-08-01T00:00:00",
          "2016-09-01T00:00:00",
          "2016-10-01T00:00:00",
          "2016-11-01T00:00:00",
          "2016-12-01T00:00:00",
          "2017-01-01T00:00:00",
          "2017-02-01T00:00:00",
          "2017-03-01T00:00:00",
          "2017-04-01T00:00:00",
          "2017-05-01T00:00:00",
          "2017-06-01T00:00:00",
          "2017-07-01T00:00:00",
          "2017-08-01T00:00:00",
          "2017-09-01T00:00:00",
          "2017-10-01T00:00:00",
          "2017-11-01T00:00:00",
          "2017-12-01T00:00:00",
          "2018-01-01T00:00:00",
          "2018-02-01T00:00:00",
          "2018-03-01T00:00:00",
          "2018-04-01T00:00:00",
          "2018-05-01T00:00:00",
          "2018-06-01T00:00:00",
          "2018-07-01T00:00:00",
          "2018-08-01T00:00:00",
          "2018-09-01T00:00:00",
          "2018-10-01T00:00:00",
          "2018-11-01T00:00:00",
          "2018-12-01T00:00:00",
          "2019-01-01T00:00:00",
          "2019-02-01T00:00:00",
          "2019-03-01T00:00:00",
          "2019-04-01T00:00:00",
          "2019-05-01T00:00:00",
          "2019-06-01T00:00:00",
          "2019-07-01T00:00:00",
          "2019-08-01T00:00:00",
          "2019-09-01T00:00:00",
          "2019-10-01T00:00:00",
          "2019-11-01T00:00:00",
          "2019-12-01T00:00:00",
          "2020-01-01T00:00:00",
          "2020-02-01T00:00:00",
          "2020-03-01T00:00:00",
          "2020-04-01T00:00:00",
          "2020-05-01T00:00:00",
          "2020-06-01T00:00:00",
          "2020-07-01T00:00:00",
          "2020-08-01T00:00:00",
          "2020-09-01T00:00:00",
          "2020-10-01T00:00:00",
          "2020-11-01T00:00:00",
          "2020-12-01T00:00:00",
          "2021-01-01T00:00:00",
          "2021-02-01T00:00:00",
          "2021-03-01T00:00:00",
          "2021-04-01T00:00:00",
          "2021-05-01T00:00:00",
          "2021-06-01T00:00:00",
          "2021-07-01T00:00:00",
          "2021-08-01T00:00:00",
          "2021-09-01T00:00:00",
          "2021-10-01T00:00:00",
          "2021-11-01T00:00:00",
          "2021-12-01T00:00:00",
          "2022-01-01T00:00:00",
          "2022-02-01T00:00:00",
          "2022-03-01T00:00:00",
          "2022-04-01T00:00:00",
          "2022-05-01T00:00:00",
          "2022-06-01T00:00:00",
          "2022-07-01T00:00:00",
          "2022-08-01T00:00:00",
          "2022-09-01T00:00:00",
          "2022-10-01T00:00:00",
          "2022-11-01T00:00:00",
          "2022-12-01T00:00:00",
          "2023-01-01T00:00:00",
          "2023-02-01T00:00:00",
          "2023-03-01T00:00:00",
          "2023-04-01T00:00:00",
          "2023-05-01T00:00:00",
          "2023-06-01T00:00:00",
          "2023-07-01T00:00:00",
          "2023-08-01T00:00:00",
          "2023-09-01T00:00:00",
          "2023-10-01T00:00:00",
          "2023-11-01T00:00:00",
          "2023-12-01T00:00:00"
         ],
         "y": [
          6.057737229011602,
          4.65064615320346,
          0.9596700217420298,
          -1.62172473191558,
          -0.7202156759684017,
          2.8353539210677496,
          5.776009769027141,
          5.398126442825166,
          2.049128129873678,
          -1.1919315655967462,
          -1.3452373064831797,
          1.7301594983797175,
          5.206753209520016,
          5.888179602048673,
          3.147938393233656,
          -0.49460528681030613,
          -1.6905135771016306,
          0.659726089239876,
          4.395314201665367,
          6.081768277158069,
          4.168570216191435,
          0.4147054928532816,
          -1.7285399780534267,
          -0.2906761946599552,
          3.406331511630312,
          5.963471305278668,
          5.029720652859174,
          1.46356559799455,
          -1.4562873480393108,
          -1.04533885225064,
          2.3185869335185467,
          5.542712155370646,
          5.662790953150092,
          2.568423433950212,
          -0.8954431754835759,
          -1.5441458888771562,
          1.2187295768176902,
          4.853008260094143,
          6.017351099882684,
          3.641266658923845,
          -0.09068398563963687,
          -1.7473626219682772,
          0.19437344801350553,
          3.949301036339139,
          6.0651570350378226,
          4.596633196675857,
          0.8938835657985706,
          -1.6388009230702654,
          -0.6728818309375844,
          2.903579283453946,
          5.8024005652282264,
          5.358419096521256,
          1.979829392136777,
          -1.2271087548788335,
          -1.3139512017124226,
          1.7991445967603499,
          5.250012720200451,
          5.865940930410773,
          3.080647671422418,
          -0.5450812794886915,
          -1.6777674457606242,
          0.7239756102271493,
          4.451996399005054,
          6.078769800019407,
          4.10864785062753,
          0.3529515854174403,
          -1.7353491696574261,
          -0.23628033107359192,
          3.471921124285114,
          5.9799518796090805,
          4.981940024829877,
          1.3954530566640255,
          -1.4821094462888569,
          -1.005129789373282,
          2.3878591305469596,
          5.577358948067295,
          5.63095824009155,
          2.4993780647184236,
          -0.9382212068359381,
          -1.52132665760573,
          1.2861661747182327,
          4.903061327513848,
          6.004002077467422,
          3.5767885763200367,
          -0.14701027664196253,
          -1.7437509891835816,
          0.25460248605887115,
          4.010773179826706,
          6.071355078738435,
          4.541858687794916,
          0.8284959351956229,
          -1.6546845893693773,
          -0.6246581633887374,
          2.971573667301179,
          5.827651942436866,
          5.317711467338372,
          1.9105891631002616,
          -1.2612224365104843,
          -1.2815743743703716,
          1.8682448273312096,
          5.292305920685312,
          5.842542927328941,
          3.0130704809019098,
          -0.5947075001315021,
          -1.6638165781297785,
          0.7886772027695734,
          4.507962370662234,
          6.074545294550035,
          4.048116858877835,
          0.2917660220491214,
          -1.7409355798552193,
          -0.1811314683280587,
          3.5371016498977412,
          5.995237393435946,
          4.93327709595132,
          1.3275821574703959,
          -1.5067881240816248,
          -0.9639267832140712,
          2.4570619668127693,
          5.610936845922149,
          5.598039835100105,
          2.4302283866188117,
          -0.9800262628990124,
          -1.49735171588177,
          1.3538786633743267,
          4.952256813303803,
          5.989450457632561,
          3.5118685430282968,
          -0.20261154417622862,
          -1.7389139420077515,
          0.3154306890785248,
          4.071667369357543,
          6.076329417753749,
          4.486339791944364,
          0.7635276212856981,
          -1.6693707531466213,
          -0.5755597857852175,
          3.039315764345557,
          5.851755987308187,
          5.276016312343441,
          1.8414291414543604,
          -1.2942619198538958,
          -1.248116970794745,
          1.9374385352751653,
          5.333619557017057,
          5.817992925332664,
          2.9452279991948536,
          -0.6434683967395047,
          -1.648665346169726,
          0.8538105905070952,
          4.563194577869355,
          6.069096084636901,
          3.986996210308263,
          0.23116797724566318,
          -1.745297457962466,
          -0.12524688912312332,
          3.601852662018783,
          6.0093230565436,
          4.8837471163437725,
          1.2599741699796223
         ]
        }
       ],
       "layout": {
        "template": {
         "data": {
          "bar": [
           {
            "error_x": {
             "color": "#2a3f5f"
            },
            "error_y": {
             "color": "#2a3f5f"
            },
            "marker": {
             "line": {
              "color": "#E5ECF6",
              "width": 0.5
             },
             "pattern": {
              "fillmode": "overlay",
              "size": 10,
              "solidity": 0.2
             }
            },
            "type": "bar"
           }
          ],
          "barpolar": [
           {
            "marker": {
             "line": {
              "color": "#E5ECF6",
              "width": 0.5
             },
             "pattern": {
              "fillmode": "overlay",
              "size": 10,
              "solidity": 0.2
             }
            },
            "type": "barpolar"
           }
          ],
          "carpet": [
           {
            "aaxis": {
             "endlinecolor": "#2a3f5f",
             "gridcolor": "white",
             "linecolor": "white",
             "minorgridcolor": "white",
             "startlinecolor": "#2a3f5f"
            },
            "baxis": {
             "endlinecolor": "#2a3f5f",
             "gridcolor": "white",
             "linecolor": "white",
             "minorgridcolor": "white",
             "startlinecolor": "#2a3f5f"
            },
            "type": "carpet"
           }
          ],
          "choropleth": [
           {
            "colorbar": {
             "outlinewidth": 0,
             "ticks": ""
            },
            "type": "choropleth"
           }
          ],
          "contour": [
           {
            "colorbar": {
             "outlinewidth": 0,
             "ticks": ""
            },
            "colorscale": [
             [
              0,
              "#0d0887"
             ],
             [
              0.1111111111111111,
              "#46039f"
             ],
             [
              0.2222222222222222,
              "#7201a8"
             ],
             [
              0.3333333333333333,
              "#9c179e"
             ],
             [
              0.4444444444444444,
              "#bd3786"
             ],
             [
              0.5555555555555556,
              "#d8576b"
             ],
             [
              0.6666666666666666,
              "#ed7953"
             ],
             [
              0.7777777777777778,
              "#fb9f3a"
             ],
             [
              0.8888888888888888,
              "#fdca26"
             ],
             [
              1,
              "#f0f921"
             ]
            ],
            "type": "contour"
           }
          ],
          "contourcarpet": [
           {
            "colorbar": {
             "outlinewidth": 0,
             "ticks": ""
            },
            "type": "contourcarpet"
           }
          ],
          "heatmap": [
           {
            "colorbar": {
             "outlinewidth": 0,
             "ticks": ""
            },
            "colorscale": [
             [
              0,
              "#0d0887"
             ],
             [
              0.1111111111111111,
              "#46039f"
             ],
             [
              0.2222222222222222,
              "#7201a8"
             ],
             [
              0.3333333333333333,
              "#9c179e"
             ],
             [
              0.4444444444444444,
              "#bd3786"
             ],
             [
              0.5555555555555556,
              "#d8576b"
             ],
             [
              0.6666666666666666,
              "#ed7953"
             ],
             [
              0.7777777777777778,
              "#fb9f3a"
             ],
             [
              0.8888888888888888,
              "#fdca26"
             ],
             [
              1,
              "#f0f921"
             ]
            ],
            "type": "heatmap"
           }
          ],
          "heatmapgl": [
           {
            "colorbar": {
             "outlinewidth": 0,
             "ticks": ""
            },
            "colorscale": [
             [
              0,
              "#0d0887"
             ],
             [
              0.1111111111111111,
              "#46039f"
             ],
             [
              0.2222222222222222,
              "#7201a8"
             ],
             [
              0.3333333333333333,
              "#9c179e"
             ],
             [
              0.4444444444444444,
              "#bd3786"
             ],
             [
              0.5555555555555556,
              "#d8576b"
             ],
             [
              0.6666666666666666,
              "#ed7953"
             ],
             [
              0.7777777777777778,
              "#fb9f3a"
             ],
             [
              0.8888888888888888,
              "#fdca26"
             ],
             [
              1,
              "#f0f921"
             ]
            ],
            "type": "heatmapgl"
           }
          ],
          "histogram": [
           {
            "marker": {
             "pattern": {
              "fillmode": "overlay",
              "size": 10,
              "solidity": 0.2
             }
            },
            "type": "histogram"
           }
          ],
          "histogram2d": [
           {
            "colorbar": {
             "outlinewidth": 0,
             "ticks": ""
            },
            "colorscale": [
             [
              0,
              "#0d0887"
             ],
             [
              0.1111111111111111,
              "#46039f"
             ],
             [
              0.2222222222222222,
              "#7201a8"
             ],
             [
              0.3333333333333333,
              "#9c179e"
             ],
             [
              0.4444444444444444,
              "#bd3786"
             ],
             [
              0.5555555555555556,
              "#d8576b"
             ],
             [
              0.6666666666666666,
              "#ed7953"
             ],
             [
              0.7777777777777778,
              "#fb9f3a"
             ],
             [
              0.8888888888888888,
              "#fdca26"
             ],
             [
              1,
              "#f0f921"
             ]
            ],
            "type": "histogram2d"
           }
          ],
          "histogram2dcontour": [
           {
            "colorbar": {
             "outlinewidth": 0,
             "ticks": ""
            },
            "colorscale": [
             [
              0,
              "#0d0887"
             ],
             [
              0.1111111111111111,
              "#46039f"
             ],
             [
              0.2222222222222222,
              "#7201a8"
             ],
             [
              0.3333333333333333,
              "#9c179e"
             ],
             [
              0.4444444444444444,
              "#bd3786"
             ],
             [
              0.5555555555555556,
              "#d8576b"
             ],
             [
              0.6666666666666666,
              "#ed7953"
             ],
             [
              0.7777777777777778,
              "#fb9f3a"
             ],
             [
              0.8888888888888888,
              "#fdca26"
             ],
             [
              1,
              "#f0f921"
             ]
            ],
            "type": "histogram2dcontour"
           }
          ],
          "mesh3d": [
           {
            "colorbar": {
             "outlinewidth": 0,
             "ticks": ""
            },
            "type": "mesh3d"
           }
          ],
          "parcoords": [
           {
            "line": {
             "colorbar": {
              "outlinewidth": 0,
              "ticks": ""
             }
            },
            "type": "parcoords"
           }
          ],
          "pie": [
           {
            "automargin": true,
            "type": "pie"
           }
          ],
          "scatter": [
           {
            "fillpattern": {
             "fillmode": "overlay",
             "size": 10,
             "solidity": 0.2
            },
            "type": "scatter"
           }
          ],
          "scatter3d": [
           {
            "line": {
             "colorbar": {
              "outlinewidth": 0,
              "ticks": ""
             }
            },
            "marker": {
             "colorbar": {
              "outlinewidth": 0,
              "ticks": ""
             }
            },
            "type": "scatter3d"
           }
          ],
          "scattercarpet": [
           {
            "marker": {
             "colorbar": {
              "outlinewidth": 0,
              "ticks": ""
             }
            },
            "type": "scattercarpet"
           }
          ],
          "scattergeo": [
           {
            "marker": {
             "colorbar": {
              "outlinewidth": 0,
              "ticks": ""
             }
            },
            "type": "scattergeo"
           }
          ],
          "scattergl": [
           {
            "marker": {
             "colorbar": {
              "outlinewidth": 0,
              "ticks": ""
             }
            },
            "type": "scattergl"
           }
          ],
          "scattermapbox": [
           {
            "marker": {
             "colorbar": {
              "outlinewidth": 0,
              "ticks": ""
             }
            },
            "type": "scattermapbox"
           }
          ],
          "scatterpolar": [
           {
            "marker": {
             "colorbar": {
              "outlinewidth": 0,
              "ticks": ""
             }
            },
            "type": "scatterpolar"
           }
          ],
          "scatterpolargl": [
           {
            "marker": {
             "colorbar": {
              "outlinewidth": 0,
              "ticks": ""
             }
            },
            "type": "scatterpolargl"
           }
          ],
          "scatterternary": [
           {
            "marker": {
             "colorbar": {
              "outlinewidth": 0,
              "ticks": ""
             }
            },
            "type": "scatterternary"
           }
          ],
          "surface": [
           {
            "colorbar": {
             "outlinewidth": 0,
             "ticks": ""
            },
            "colorscale": [
             [
              0,
              "#0d0887"
             ],
             [
              0.1111111111111111,
              "#46039f"
             ],
             [
              0.2222222222222222,
              "#7201a8"
             ],
             [
              0.3333333333333333,
              "#9c179e"
             ],
             [
              0.4444444444444444,
              "#bd3786"
             ],
             [
              0.5555555555555556,
              "#d8576b"
             ],
             [
              0.6666666666666666,
              "#ed7953"
             ],
             [
              0.7777777777777778,
              "#fb9f3a"
             ],
             [
              0.8888888888888888,
              "#fdca26"
             ],
             [
              1,
              "#f0f921"
             ]
            ],
            "type": "surface"
           }
          ],
          "table": [
           {
            "cells": {
             "fill": {
              "color": "#EBF0F8"
             },
             "line": {
              "color": "white"
             }
            },
            "header": {
             "fill": {
              "color": "#C8D4E3"
             },
             "line": {
              "color": "white"
             }
            },
            "type": "table"
           }
          ]
         },
         "layout": {
          "annotationdefaults": {
           "arrowcolor": "#2a3f5f",
           "arrowhead": 0,
           "arrowwidth": 1
          },
          "autotypenumbers": "strict",
          "coloraxis": {
           "colorbar": {
            "outlinewidth": 0,
            "ticks": ""
           }
          },
          "colorscale": {
           "diverging": [
            [
             0,
             "#8e0152"
            ],
            [
             0.1,
             "#c51b7d"
            ],
            [
             0.2,
             "#de77ae"
            ],
            [
             0.3,
             "#f1b6da"
            ],
            [
             0.4,
             "#fde0ef"
            ],
            [
             0.5,
             "#f7f7f7"
            ],
            [
             0.6,
             "#e6f5d0"
            ],
            [
             0.7,
             "#b8e186"
            ],
            [
             0.8,
             "#7fbc41"
            ],
            [
             0.9,
             "#4d9221"
            ],
            [
             1,
             "#276419"
            ]
           ],
           "sequential": [
            [
             0,
             "#0d0887"
            ],
            [
             0.1111111111111111,
             "#46039f"
            ],
            [
             0.2222222222222222,
             "#7201a8"
            ],
            [
             0.3333333333333333,
             "#9c179e"
            ],
            [
             0.4444444444444444,
             "#bd3786"
            ],
            [
             0.5555555555555556,
             "#d8576b"
            ],
            [
             0.6666666666666666,
             "#ed7953"
            ],
            [
             0.7777777777777778,
             "#fb9f3a"
            ],
            [
             0.8888888888888888,
             "#fdca26"
            ],
            [
             1,
             "#f0f921"
            ]
           ],
           "sequentialminus": [
            [
             0,
             "#0d0887"
            ],
            [
             0.1111111111111111,
             "#46039f"
            ],
            [
             0.2222222222222222,
             "#7201a8"
            ],
            [
             0.3333333333333333,
             "#9c179e"
            ],
            [
             0.4444444444444444,
             "#bd3786"
            ],
            [
             0.5555555555555556,
             "#d8576b"
            ],
            [
             0.6666666666666666,
             "#ed7953"
            ],
            [
             0.7777777777777778,
             "#fb9f3a"
            ],
            [
             0.8888888888888888,
             "#fdca26"
            ],
            [
             1,
             "#f0f921"
            ]
           ]
          },
          "colorway": [
           "#636efa",
           "#EF553B",
           "#00cc96",
           "#ab63fa",
           "#FFA15A",
           "#19d3f3",
           "#FF6692",
           "#B6E880",
           "#FF97FF",
           "#FECB52"
          ],
          "font": {
           "color": "#2a3f5f"
          },
          "geo": {
           "bgcolor": "white",
           "lakecolor": "white",
           "landcolor": "#E5ECF6",
           "showlakes": true,
           "showland": true,
           "subunitcolor": "white"
          },
          "hoverlabel": {
           "align": "left"
          },
          "hovermode": "closest",
          "mapbox": {
           "style": "light"
          },
          "paper_bgcolor": "white",
          "plot_bgcolor": "#E5ECF6",
          "polar": {
           "angularaxis": {
            "gridcolor": "white",
            "linecolor": "white",
            "ticks": ""
           },
           "bgcolor": "#E5ECF6",
           "radialaxis": {
            "gridcolor": "white",
            "linecolor": "white",
            "ticks": ""
           }
          },
          "scene": {
           "xaxis": {
            "backgroundcolor": "#E5ECF6",
            "gridcolor": "white",
            "gridwidth": 2,
            "linecolor": "white",
            "showbackground": true,
            "ticks": "",
            "zerolinecolor": "white"
           },
           "yaxis": {
            "backgroundcolor": "#E5ECF6",
            "gridcolor": "white",
            "gridwidth": 2,
            "linecolor": "white",
            "showbackground": true,
            "ticks": "",
            "zerolinecolor": "white"
           },
           "zaxis": {
            "backgroundcolor": "#E5ECF6",
            "gridcolor": "white",
            "gridwidth": 2,
            "linecolor": "white",
            "showbackground": true,
            "ticks": "",
            "zerolinecolor": "white"
           }
          },
          "shapedefaults": {
           "line": {
            "color": "#2a3f5f"
           }
          },
          "ternary": {
           "aaxis": {
            "gridcolor": "white",
            "linecolor": "white",
            "ticks": ""
           },
           "baxis": {
            "gridcolor": "white",
            "linecolor": "white",
            "ticks": ""
           },
           "bgcolor": "#E5ECF6",
           "caxis": {
            "gridcolor": "white",
            "linecolor": "white",
            "ticks": ""
           }
          },
          "title": {
           "x": 0.05
          },
          "xaxis": {
           "automargin": true,
           "gridcolor": "white",
           "linecolor": "white",
           "ticks": "",
           "title": {
            "standoff": 15
           },
           "zerolinecolor": "white",
           "zerolinewidth": 2
          },
          "yaxis": {
           "automargin": true,
           "gridcolor": "white",
           "linecolor": "white",
           "ticks": "",
           "title": {
            "standoff": 15
           },
           "zerolinecolor": "white",
           "zerolinewidth": 2
          }
         }
        }
       }
      }
     },
     "metadata": {},
     "output_type": "display_data"
    },
    {
     "name": "stderr",
     "output_type": "stream",
     "text": [
      "d:\\FCFM\\Primavera2024\\ProyectoINE\\proyectomds_ine\\.venv\\lib\\site-packages\\statsmodels\\tsa\\statespace\\sarimax.py:966: UserWarning:\n",
      "\n",
      "Non-stationary starting autoregressive parameters found. Using zeros as starting parameters.\n",
      "\n",
      "d:\\FCFM\\Primavera2024\\ProyectoINE\\proyectomds_ine\\.venv\\lib\\site-packages\\statsmodels\\tsa\\statespace\\sarimax.py:866: UserWarning:\n",
      "\n",
      "Too few observations to estimate starting parameters for seasonal ARMA. All parameters except for variances will be set to zeros.\n",
      "\n",
      "d:\\FCFM\\Primavera2024\\ProyectoINE\\proyectomds_ine\\.venv\\lib\\site-packages\\statsmodels\\base\\model.py:607: ConvergenceWarning:\n",
      "\n",
      "Maximum Likelihood optimization failed to converge. Check mle_retvals\n",
      "\n",
      "d:\\FCFM\\Primavera2024\\ProyectoINE\\proyectomds_ine\\.venv\\lib\\site-packages\\statsmodels\\tsa\\x13.py:192: X13Warning:\n",
      "\n",
      "WARNING: Automatic transformation selection cannot be done on a\n",
      "          series with zero or negative values.\n",
      "\n"
     ]
    },
    {
     "ename": "X13Error",
     "evalue": "WARNING: Automatic transformation selection cannot be done on a\n          series with zero or negative values.\n\n WARNING: The covariance matrix of the ARMA parameters is singular,\n          so the standard errors and the correlation matrix of the ARMA\n          parameters will not be printed out.\n\n\n ERROR: Cannot make a choice of seasonal ARMA order due to\n        model estimation errors within the automatic model\n        selection procedure.",
     "output_type": "error",
     "traceback": [
      "\u001b[1;31m---------------------------------------------------------------------------\u001b[0m",
      "\u001b[1;31mX13Error\u001b[0m                                  Traceback (most recent call last)",
      "Cell \u001b[1;32mIn[170], line 13\u001b[0m\n\u001b[0;32m      5\u001b[0m \u001b[38;5;66;03m# print(type(s.index[-1]), s.index[-1], s[:s.index[-1] - pd.DateOffset(months=10)], (s.index[-1]+pd.DateOffset(months=1)) in s.index, (s.index[-1]+pd.DateOffset(months=3)) > (s.index[-1]+pd.DateOffset(months=2)))\u001b[39;00m\n\u001b[0;32m      7\u001b[0m oa \u001b[38;5;241m=\u001b[39m OutlierAnalisys(\n\u001b[0;32m      8\u001b[0m     time_serie\u001b[38;5;241m=\u001b[39ms,\n\u001b[0;32m      9\u001b[0m     start_date\u001b[38;5;241m=\u001b[39mpd\u001b[38;5;241m.\u001b[39mto_datetime(\u001b[38;5;124m\"\u001b[39m\u001b[38;5;124m2016-05-01\u001b[39m\u001b[38;5;124m\"\u001b[39m, \u001b[38;5;28mformat\u001b[39m\u001b[38;5;241m=\u001b[39m\u001b[38;5;124m\"\u001b[39m\u001b[38;5;124m%\u001b[39m\u001b[38;5;124mY-\u001b[39m\u001b[38;5;124m%\u001b[39m\u001b[38;5;124mm-\u001b[39m\u001b[38;5;132;01m%d\u001b[39;00m\u001b[38;5;124m\"\u001b[39m),\n\u001b[0;32m     10\u001b[0m     end_date\u001b[38;5;241m=\u001b[39mpd\u001b[38;5;241m.\u001b[39mto_datetime(\u001b[38;5;124m\"\u001b[39m\u001b[38;5;124m2018-09-01\u001b[39m\u001b[38;5;124m\"\u001b[39m, \u001b[38;5;28mformat\u001b[39m\u001b[38;5;241m=\u001b[39m\u001b[38;5;124m\"\u001b[39m\u001b[38;5;124m%\u001b[39m\u001b[38;5;124mY-\u001b[39m\u001b[38;5;124m%\u001b[39m\u001b[38;5;124mm-\u001b[39m\u001b[38;5;132;01m%d\u001b[39;00m\u001b[38;5;124m\"\u001b[39m)\n\u001b[0;32m     11\u001b[0m     )\n\u001b[1;32m---> 13\u001b[0m \u001b[43moa\u001b[49m\u001b[38;5;241;43m.\u001b[39;49m\u001b[43mseasonality_diff\u001b[49m\u001b[43m(\u001b[49m\u001b[43mforecast_model\u001b[49m\u001b[38;5;241;43m=\u001b[39;49m\u001b[43mSARIMAX\u001b[49m\u001b[43m,\u001b[49m\u001b[43m \u001b[49m\u001b[43mseasonal_model\u001b[49m\u001b[38;5;241;43m=\u001b[39;49m\u001b[43mx13_arima_analysis\u001b[49m\u001b[43m,\u001b[49m\u001b[43m \u001b[49m\u001b[43mmse_limit\u001b[49m\u001b[38;5;241;43m=\u001b[39;49m\u001b[43moa\u001b[49m\u001b[38;5;241;43m.\u001b[39;49m\u001b[43mstart\u001b[49m\u001b[43m)\u001b[49m\n\u001b[0;32m     14\u001b[0m oa\u001b[38;5;241m.\u001b[39mmodel_evolution()\n",
      "Cell \u001b[1;32mIn[164], line 66\u001b[0m, in \u001b[0;36mOutlierAnalisys.seasonality_diff\u001b[1;34m(self, serie, seasonal_model, forecast_model, mse_limit)\u001b[0m\n\u001b[0;32m     60\u001b[0m x13comp \u001b[38;5;241m=\u001b[39m seasonal_model(\n\u001b[0;32m     61\u001b[0m     endog\u001b[38;5;241m=\u001b[39mcomp_serie,\n\u001b[0;32m     62\u001b[0m     maxorder\u001b[38;5;241m=\u001b[39m(\u001b[38;5;241m1\u001b[39m,\u001b[38;5;241m1\u001b[39m),\n\u001b[0;32m     63\u001b[0m     x12path\u001b[38;5;241m=\u001b[39mx13as_path,\n\u001b[0;32m     64\u001b[0m     outlier\u001b[38;5;241m=\u001b[39m\u001b[38;5;28;01mFalse\u001b[39;00m)\n\u001b[0;32m     65\u001b[0m \u001b[38;5;66;03m# Predicción Serie Oficial\u001b[39;00m\n\u001b[1;32m---> 66\u001b[0m x13real \u001b[38;5;241m=\u001b[39m \u001b[43mseasonal_model\u001b[49m\u001b[43m(\u001b[49m\n\u001b[0;32m     67\u001b[0m \u001b[43m    \u001b[49m\u001b[43mendog\u001b[49m\u001b[38;5;241;43m=\u001b[39;49m\u001b[43mserie\u001b[49m\u001b[43m,\u001b[49m\n\u001b[0;32m     68\u001b[0m \u001b[43m    \u001b[49m\u001b[43mmaxorder\u001b[49m\u001b[38;5;241;43m=\u001b[39;49m\u001b[43m(\u001b[49m\u001b[38;5;241;43m1\u001b[39;49m\u001b[43m,\u001b[49m\u001b[38;5;241;43m1\u001b[39;49m\u001b[43m)\u001b[49m\u001b[43m,\u001b[49m\n\u001b[0;32m     69\u001b[0m \u001b[43m    \u001b[49m\u001b[43mx12path\u001b[49m\u001b[38;5;241;43m=\u001b[39;49m\u001b[43mx13as_path\u001b[49m\u001b[43m,\u001b[49m\n\u001b[0;32m     70\u001b[0m \u001b[43m    \u001b[49m\u001b[43moutlier\u001b[49m\u001b[38;5;241;43m=\u001b[39;49m\u001b[38;5;28;43;01mFalse\u001b[39;49;00m\u001b[43m)\u001b[49m\n\u001b[0;32m     72\u001b[0m \u001b[38;5;28mself\u001b[39m\u001b[38;5;241m.\u001b[39mcomp_adj \u001b[38;5;241m=\u001b[39m x13comp\u001b[38;5;241m.\u001b[39mseasadj \u001b[38;5;28;01mif\u001b[39;00m serie \u001b[38;5;129;01mis\u001b[39;00m \u001b[38;5;28;01mNone\u001b[39;00m \u001b[38;5;28;01melse\u001b[39;00m \u001b[38;5;28mself\u001b[39m\u001b[38;5;241m.\u001b[39mcomp_adj\n\u001b[0;32m     73\u001b[0m \u001b[38;5;28mself\u001b[39m\u001b[38;5;241m.\u001b[39mreal_adj \u001b[38;5;241m=\u001b[39m x13real\u001b[38;5;241m.\u001b[39mseasadj \u001b[38;5;28;01mif\u001b[39;00m serie \u001b[38;5;129;01mis\u001b[39;00m \u001b[38;5;28;01mNone\u001b[39;00m \u001b[38;5;28;01melse\u001b[39;00m \u001b[38;5;28mself\u001b[39m\u001b[38;5;241m.\u001b[39mreal_adj\n",
      "File \u001b[1;32md:\\FCFM\\Primavera2024\\ProyectoINE\\proyectomds_ine\\.venv\\lib\\site-packages\\pandas\\util\\_decorators.py:213\u001b[0m, in \u001b[0;36mdeprecate_kwarg.<locals>._deprecate_kwarg.<locals>.wrapper\u001b[1;34m(*args, **kwargs)\u001b[0m\n\u001b[0;32m    211\u001b[0m         \u001b[38;5;28;01mraise\u001b[39;00m \u001b[38;5;167;01mTypeError\u001b[39;00m(msg)\n\u001b[0;32m    212\u001b[0m     kwargs[new_arg_name] \u001b[38;5;241m=\u001b[39m new_arg_value\n\u001b[1;32m--> 213\u001b[0m \u001b[38;5;28;01mreturn\u001b[39;00m func(\u001b[38;5;241m*\u001b[39margs, \u001b[38;5;241m*\u001b[39m\u001b[38;5;241m*\u001b[39mkwargs)\n",
      "File \u001b[1;32md:\\FCFM\\Primavera2024\\ProyectoINE\\proyectomds_ine\\.venv\\lib\\site-packages\\statsmodels\\tsa\\x13.py:465\u001b[0m, in \u001b[0;36mx13_arima_analysis\u001b[1;34m(endog, maxorder, maxdiff, diff, exog, log, outlier, trading, forecast_periods, retspec, speconly, start, freq, print_stdout, x12path, prefer_x13, tempdir)\u001b[0m\n\u001b[0;32m    463\u001b[0m \u001b[38;5;66;03m# check for errors\u001b[39;00m\n\u001b[0;32m    464\u001b[0m errors \u001b[38;5;241m=\u001b[39m _open_and_read(ftempout\u001b[38;5;241m.\u001b[39mname \u001b[38;5;241m+\u001b[39m \u001b[38;5;124m'\u001b[39m\u001b[38;5;124m.err\u001b[39m\u001b[38;5;124m'\u001b[39m)\n\u001b[1;32m--> 465\u001b[0m \u001b[43m_check_errors\u001b[49m\u001b[43m(\u001b[49m\u001b[43merrors\u001b[49m\u001b[43m)\u001b[49m\n\u001b[0;32m    467\u001b[0m \u001b[38;5;66;03m# read in results\u001b[39;00m\n\u001b[0;32m    468\u001b[0m results \u001b[38;5;241m=\u001b[39m _open_and_read(ftempout\u001b[38;5;241m.\u001b[39mname \u001b[38;5;241m+\u001b[39m \u001b[38;5;124m'\u001b[39m\u001b[38;5;124m.out\u001b[39m\u001b[38;5;124m'\u001b[39m)\n",
      "File \u001b[1;32md:\\FCFM\\Primavera2024\\ProyectoINE\\proyectomds_ine\\.venv\\lib\\site-packages\\statsmodels\\tsa\\x13.py:190\u001b[0m, in \u001b[0;36m_check_errors\u001b[1;34m(errors)\u001b[0m\n\u001b[0;32m    188\u001b[0m errors \u001b[38;5;241m=\u001b[39m errors[errors\u001b[38;5;241m.\u001b[39mfind(\u001b[38;5;124m\"\u001b[39m\u001b[38;5;124mspc:\u001b[39m\u001b[38;5;124m\"\u001b[39m)\u001b[38;5;241m+\u001b[39m\u001b[38;5;241m4\u001b[39m:]\u001b[38;5;241m.\u001b[39mstrip()\n\u001b[0;32m    189\u001b[0m \u001b[38;5;28;01mif\u001b[39;00m errors \u001b[38;5;129;01mand\u001b[39;00m \u001b[38;5;124m'\u001b[39m\u001b[38;5;124mERROR\u001b[39m\u001b[38;5;124m'\u001b[39m \u001b[38;5;129;01min\u001b[39;00m errors:\n\u001b[1;32m--> 190\u001b[0m     \u001b[38;5;28;01mraise\u001b[39;00m X13Error(errors)\n\u001b[0;32m    191\u001b[0m \u001b[38;5;28;01melif\u001b[39;00m errors \u001b[38;5;129;01mand\u001b[39;00m \u001b[38;5;124m'\u001b[39m\u001b[38;5;124mWARNING\u001b[39m\u001b[38;5;124m'\u001b[39m \u001b[38;5;129;01min\u001b[39;00m errors:\n\u001b[0;32m    192\u001b[0m     warn(errors, X13Warning)\n",
      "\u001b[1;31mX13Error\u001b[0m: WARNING: Automatic transformation selection cannot be done on a\n          series with zero or negative values.\n\n WARNING: The covariance matrix of the ARMA parameters is singular,\n          so the standard errors and the correlation matrix of the ARMA\n          parameters will not be printed out.\n\n\n ERROR: Cannot make a choice of seasonal ARMA order due to\n        model estimation errors within the automatic model\n        selection procedure."
     ]
    }
   ],
   "source": [
    "\n",
    "s = pd.Series(np.sin(np.arange(160) + 1.1)+ 3*np.cos(range(160)) + 2*np.random.randn())\n",
    "s.index = pd.date_range(start=\"2010-09-01\", freq=\"MS\", periods=len(s))\n",
    "fig = go.Figure(go.Scatter(x=s.index, y=s))\n",
    "fig.show()\n",
    "# print(type(s.index[-1]), s.index[-1], s[:s.index[-1] - pd.DateOffset(months=10)], (s.index[-1]+pd.DateOffset(months=1)) in s.index, (s.index[-1]+pd.DateOffset(months=3)) > (s.index[-1]+pd.DateOffset(months=2)))\n",
    "\n",
    "oa = OutlierAnalisys(\n",
    "    time_serie=s,\n",
    "    start_date=pd.to_datetime(\"2016-05-01\", format=\"%Y-%m-%d\"),\n",
    "    end_date=pd.to_datetime(\"2018-09-01\", format=\"%Y-%m-%d\")\n",
    "    )\n",
    "\n",
    "oa.seasonality_diff(forecast_model=SARIMAX, seasonal_model=x13_arima_analysis, mse_limit=oa.start)\n",
    "oa.model_evolution()"
   ]
  },
  {
   "cell_type": "code",
   "execution_count": null,
   "metadata": {},
   "outputs": [],
   "source": []
  }
 ],
 "metadata": {
  "kernelspec": {
   "display_name": ".venv",
   "language": "python",
   "name": "python3"
  },
  "language_info": {
   "codemirror_mode": {
    "name": "ipython",
    "version": 3
   },
   "file_extension": ".py",
   "mimetype": "text/x-python",
   "name": "python",
   "nbconvert_exporter": "python",
   "pygments_lexer": "ipython3",
   "version": "3.10.11"
  }
 },
 "nbformat": 4,
 "nbformat_minor": 2
}
